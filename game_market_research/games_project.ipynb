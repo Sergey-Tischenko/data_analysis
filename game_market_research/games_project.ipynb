{
 "cells": [
  {
   "cell_type": "markdown",
   "metadata": {},
   "source": [
    "# Введение"
   ]
  },
  {
   "cell_type": "markdown",
   "metadata": {},
   "source": [
    "\n",
    "# Подготовка данных для проноза на 2017\n",
    "**Цель- подготовить таблицу для прогноза, устранив пробелы и добавив необходимые столбцы**\n",
    "**Этапы проекта:**\n",
    "* Подготовка данных.  \n",
    "* Анализ очищенных данных.\n",
    "* Составление портрета пользователя для каждого из регионов\n",
    "* Выдвижение нескольких гипотез\n",
    "* Подведение итогов по результатам гипотез\n",
    "* Общий вывод и подведение итогов работы.\n",
    "\n",
    "\n",
    "Перед нами данные из открытых источников о продажах игр, оценки пользователей и экспертов, жанры и платформы (например, Xbox или PlayStation). Продажи указаны в миллионах штук. Так же включены рейтинги экспертов и пользователей. "
   ]
  },
  {
   "cell_type": "markdown",
   "metadata": {},
   "source": [
    "#  Часть 1.\n",
    "## Подготовка данных\n",
    "На данном этапе мы проверим таблицу на количество пропусков, посмотрим общую информацию о таблице, поработаем с пропусками и добавми новый столбец с общими продажами."
   ]
  },
  {
   "cell_type": "markdown",
   "metadata": {},
   "source": [
    "### Общая инофрмация о таблице."
   ]
  },
  {
   "cell_type": "code",
   "execution_count": 1,
   "metadata": {},
   "outputs": [],
   "source": [
    "import pandas as pd\n",
    "import matplotlib.pyplot as plt\n",
    "import seaborn as sns\n",
    "from scipy import stats as st\n",
    "import numpy as np"
   ]
  },
  {
   "cell_type": "code",
   "execution_count": 2,
   "metadata": {},
   "outputs": [],
   "source": [
    "df = pd.read_csv('/datasets/games.csv')"
   ]
  },
  {
   "cell_type": "code",
   "execution_count": 3,
   "metadata": {},
   "outputs": [
    {
     "data": {
      "text/html": [
       "<div>\n",
       "<style scoped>\n",
       "    .dataframe tbody tr th:only-of-type {\n",
       "        vertical-align: middle;\n",
       "    }\n",
       "\n",
       "    .dataframe tbody tr th {\n",
       "        vertical-align: top;\n",
       "    }\n",
       "\n",
       "    .dataframe thead th {\n",
       "        text-align: right;\n",
       "    }\n",
       "</style>\n",
       "<table border=\"1\" class=\"dataframe\">\n",
       "  <thead>\n",
       "    <tr style=\"text-align: right;\">\n",
       "      <th></th>\n",
       "      <th>Name</th>\n",
       "      <th>Platform</th>\n",
       "      <th>Year_of_Release</th>\n",
       "      <th>Genre</th>\n",
       "      <th>NA_sales</th>\n",
       "      <th>EU_sales</th>\n",
       "      <th>JP_sales</th>\n",
       "      <th>Other_sales</th>\n",
       "      <th>Critic_Score</th>\n",
       "      <th>User_Score</th>\n",
       "      <th>Rating</th>\n",
       "    </tr>\n",
       "  </thead>\n",
       "  <tbody>\n",
       "    <tr>\n",
       "      <th>0</th>\n",
       "      <td>Wii Sports</td>\n",
       "      <td>Wii</td>\n",
       "      <td>2006.0</td>\n",
       "      <td>Sports</td>\n",
       "      <td>41.36</td>\n",
       "      <td>28.96</td>\n",
       "      <td>3.77</td>\n",
       "      <td>8.45</td>\n",
       "      <td>76.0</td>\n",
       "      <td>8</td>\n",
       "      <td>E</td>\n",
       "    </tr>\n",
       "    <tr>\n",
       "      <th>1</th>\n",
       "      <td>Super Mario Bros.</td>\n",
       "      <td>NES</td>\n",
       "      <td>1985.0</td>\n",
       "      <td>Platform</td>\n",
       "      <td>29.08</td>\n",
       "      <td>3.58</td>\n",
       "      <td>6.81</td>\n",
       "      <td>0.77</td>\n",
       "      <td>NaN</td>\n",
       "      <td>NaN</td>\n",
       "      <td>NaN</td>\n",
       "    </tr>\n",
       "    <tr>\n",
       "      <th>2</th>\n",
       "      <td>Mario Kart Wii</td>\n",
       "      <td>Wii</td>\n",
       "      <td>2008.0</td>\n",
       "      <td>Racing</td>\n",
       "      <td>15.68</td>\n",
       "      <td>12.76</td>\n",
       "      <td>3.79</td>\n",
       "      <td>3.29</td>\n",
       "      <td>82.0</td>\n",
       "      <td>8.3</td>\n",
       "      <td>E</td>\n",
       "    </tr>\n",
       "    <tr>\n",
       "      <th>3</th>\n",
       "      <td>Wii Sports Resort</td>\n",
       "      <td>Wii</td>\n",
       "      <td>2009.0</td>\n",
       "      <td>Sports</td>\n",
       "      <td>15.61</td>\n",
       "      <td>10.93</td>\n",
       "      <td>3.28</td>\n",
       "      <td>2.95</td>\n",
       "      <td>80.0</td>\n",
       "      <td>8</td>\n",
       "      <td>E</td>\n",
       "    </tr>\n",
       "    <tr>\n",
       "      <th>4</th>\n",
       "      <td>Pokemon Red/Pokemon Blue</td>\n",
       "      <td>GB</td>\n",
       "      <td>1996.0</td>\n",
       "      <td>Role-Playing</td>\n",
       "      <td>11.27</td>\n",
       "      <td>8.89</td>\n",
       "      <td>10.22</td>\n",
       "      <td>1.00</td>\n",
       "      <td>NaN</td>\n",
       "      <td>NaN</td>\n",
       "      <td>NaN</td>\n",
       "    </tr>\n",
       "    <tr>\n",
       "      <th>5</th>\n",
       "      <td>Tetris</td>\n",
       "      <td>GB</td>\n",
       "      <td>1989.0</td>\n",
       "      <td>Puzzle</td>\n",
       "      <td>23.20</td>\n",
       "      <td>2.26</td>\n",
       "      <td>4.22</td>\n",
       "      <td>0.58</td>\n",
       "      <td>NaN</td>\n",
       "      <td>NaN</td>\n",
       "      <td>NaN</td>\n",
       "    </tr>\n",
       "    <tr>\n",
       "      <th>6</th>\n",
       "      <td>New Super Mario Bros.</td>\n",
       "      <td>DS</td>\n",
       "      <td>2006.0</td>\n",
       "      <td>Platform</td>\n",
       "      <td>11.28</td>\n",
       "      <td>9.14</td>\n",
       "      <td>6.50</td>\n",
       "      <td>2.88</td>\n",
       "      <td>89.0</td>\n",
       "      <td>8.5</td>\n",
       "      <td>E</td>\n",
       "    </tr>\n",
       "    <tr>\n",
       "      <th>7</th>\n",
       "      <td>Wii Play</td>\n",
       "      <td>Wii</td>\n",
       "      <td>2006.0</td>\n",
       "      <td>Misc</td>\n",
       "      <td>13.96</td>\n",
       "      <td>9.18</td>\n",
       "      <td>2.93</td>\n",
       "      <td>2.84</td>\n",
       "      <td>58.0</td>\n",
       "      <td>6.6</td>\n",
       "      <td>E</td>\n",
       "    </tr>\n",
       "    <tr>\n",
       "      <th>8</th>\n",
       "      <td>New Super Mario Bros. Wii</td>\n",
       "      <td>Wii</td>\n",
       "      <td>2009.0</td>\n",
       "      <td>Platform</td>\n",
       "      <td>14.44</td>\n",
       "      <td>6.94</td>\n",
       "      <td>4.70</td>\n",
       "      <td>2.24</td>\n",
       "      <td>87.0</td>\n",
       "      <td>8.4</td>\n",
       "      <td>E</td>\n",
       "    </tr>\n",
       "    <tr>\n",
       "      <th>9</th>\n",
       "      <td>Duck Hunt</td>\n",
       "      <td>NES</td>\n",
       "      <td>1984.0</td>\n",
       "      <td>Shooter</td>\n",
       "      <td>26.93</td>\n",
       "      <td>0.63</td>\n",
       "      <td>0.28</td>\n",
       "      <td>0.47</td>\n",
       "      <td>NaN</td>\n",
       "      <td>NaN</td>\n",
       "      <td>NaN</td>\n",
       "    </tr>\n",
       "  </tbody>\n",
       "</table>\n",
       "</div>"
      ],
      "text/plain": [
       "                        Name Platform  Year_of_Release         Genre  \\\n",
       "0                 Wii Sports      Wii           2006.0        Sports   \n",
       "1          Super Mario Bros.      NES           1985.0      Platform   \n",
       "2             Mario Kart Wii      Wii           2008.0        Racing   \n",
       "3          Wii Sports Resort      Wii           2009.0        Sports   \n",
       "4   Pokemon Red/Pokemon Blue       GB           1996.0  Role-Playing   \n",
       "5                     Tetris       GB           1989.0        Puzzle   \n",
       "6      New Super Mario Bros.       DS           2006.0      Platform   \n",
       "7                   Wii Play      Wii           2006.0          Misc   \n",
       "8  New Super Mario Bros. Wii      Wii           2009.0      Platform   \n",
       "9                  Duck Hunt      NES           1984.0       Shooter   \n",
       "\n",
       "   NA_sales  EU_sales  JP_sales  Other_sales  Critic_Score User_Score Rating  \n",
       "0     41.36     28.96      3.77         8.45          76.0          8      E  \n",
       "1     29.08      3.58      6.81         0.77           NaN        NaN    NaN  \n",
       "2     15.68     12.76      3.79         3.29          82.0        8.3      E  \n",
       "3     15.61     10.93      3.28         2.95          80.0          8      E  \n",
       "4     11.27      8.89     10.22         1.00           NaN        NaN    NaN  \n",
       "5     23.20      2.26      4.22         0.58           NaN        NaN    NaN  \n",
       "6     11.28      9.14      6.50         2.88          89.0        8.5      E  \n",
       "7     13.96      9.18      2.93         2.84          58.0        6.6      E  \n",
       "8     14.44      6.94      4.70         2.24          87.0        8.4      E  \n",
       "9     26.93      0.63      0.28         0.47           NaN        NaN    NaN  "
      ]
     },
     "execution_count": 3,
     "metadata": {},
     "output_type": "execute_result"
    }
   ],
   "source": [
    "df.head(10)"
   ]
  },
  {
   "cell_type": "markdown",
   "metadata": {},
   "source": [
    "**Приводим столбцы к нижнему регистру**"
   ]
  },
  {
   "cell_type": "code",
   "execution_count": 4,
   "metadata": {},
   "outputs": [],
   "source": [
    "df.columns = map(str.lower,df.columns)"
   ]
  },
  {
   "cell_type": "markdown",
   "metadata": {},
   "source": [
    "Проверяем как получилось"
   ]
  },
  {
   "cell_type": "code",
   "execution_count": 5,
   "metadata": {},
   "outputs": [
    {
     "data": {
      "text/plain": [
       "Index(['name', 'platform', 'year_of_release', 'genre', 'na_sales', 'eu_sales',\n",
       "       'jp_sales', 'other_sales', 'critic_score', 'user_score', 'rating'],\n",
       "      dtype='object')"
      ]
     },
     "execution_count": 5,
     "metadata": {},
     "output_type": "execute_result"
    }
   ],
   "source": [
    "df.columns"
   ]
  },
  {
   "cell_type": "markdown",
   "metadata": {},
   "source": [
    "Смотрим количество дубликатов"
   ]
  },
  {
   "cell_type": "code",
   "execution_count": 6,
   "metadata": {},
   "outputs": [
    {
     "data": {
      "text/plain": [
       "0"
      ]
     },
     "execution_count": 6,
     "metadata": {},
     "output_type": "execute_result"
    }
   ],
   "source": [
    "df.duplicated().sum()"
   ]
  },
  {
   "cell_type": "code",
   "execution_count": 7,
   "metadata": {},
   "outputs": [
    {
     "data": {
      "text/plain": [
       "name                  2\n",
       "platform              0\n",
       "year_of_release     269\n",
       "genre                 2\n",
       "na_sales              0\n",
       "eu_sales              0\n",
       "jp_sales              0\n",
       "other_sales           0\n",
       "critic_score       8578\n",
       "user_score         6701\n",
       "rating             6766\n",
       "dtype: int64"
      ]
     },
     "execution_count": 7,
     "metadata": {},
     "output_type": "execute_result"
    }
   ],
   "source": [
    "df.isnull().sum()"
   ]
  },
  {
   "cell_type": "code",
   "execution_count": 8,
   "metadata": {
    "scrolled": true
   },
   "outputs": [
    {
     "name": "stdout",
     "output_type": "stream",
     "text": [
      "<class 'pandas.core.frame.DataFrame'>\n",
      "RangeIndex: 16715 entries, 0 to 16714\n",
      "Data columns (total 11 columns):\n",
      " #   Column           Non-Null Count  Dtype  \n",
      "---  ------           --------------  -----  \n",
      " 0   name             16713 non-null  object \n",
      " 1   platform         16715 non-null  object \n",
      " 2   year_of_release  16446 non-null  float64\n",
      " 3   genre            16713 non-null  object \n",
      " 4   na_sales         16715 non-null  float64\n",
      " 5   eu_sales         16715 non-null  float64\n",
      " 6   jp_sales         16715 non-null  float64\n",
      " 7   other_sales      16715 non-null  float64\n",
      " 8   critic_score     8137 non-null   float64\n",
      " 9   user_score       10014 non-null  object \n",
      " 10  rating           9949 non-null   object \n",
      "dtypes: float64(6), object(5)\n",
      "memory usage: 1.4+ MB\n"
     ]
    }
   ],
   "source": [
    "df.info()"
   ]
  },
  {
   "cell_type": "markdown",
   "metadata": {},
   "source": [
    "### Работа над пропусками."
   ]
  },
  {
   "cell_type": "code",
   "execution_count": 9,
   "metadata": {},
   "outputs": [
    {
     "data": {
      "text/plain": [
       "array(['8', nan, '8.3', '8.5', '6.6', '8.4', '8.6', '7.7', '6.3', '7.4',\n",
       "       '8.2', '9', '7.9', '8.1', '8.7', '7.1', '3.4', '5.3', '4.8', '3.2',\n",
       "       '8.9', '6.4', '7.8', '7.5', '2.6', '7.2', '9.2', '7', '7.3', '4.3',\n",
       "       '7.6', '5.7', '5', '9.1', '6.5', 'tbd', '8.8', '6.9', '9.4', '6.8',\n",
       "       '6.1', '6.7', '5.4', '4', '4.9', '4.5', '9.3', '6.2', '4.2', '6',\n",
       "       '3.7', '4.1', '5.8', '5.6', '5.5', '4.4', '4.6', '5.9', '3.9',\n",
       "       '3.1', '2.9', '5.2', '3.3', '4.7', '5.1', '3.5', '2.5', '1.9', '3',\n",
       "       '2.7', '2.2', '2', '9.5', '2.1', '3.6', '2.8', '1.8', '3.8', '0',\n",
       "       '1.6', '9.6', '2.4', '1.7', '1.1', '0.3', '1.5', '0.7', '1.2',\n",
       "       '2.3', '0.5', '1.3', '0.2', '0.6', '1.4', '0.9', '1', '9.7'],\n",
       "      dtype=object)"
      ]
     },
     "execution_count": 9,
     "metadata": {},
     "output_type": "execute_result"
    }
   ],
   "source": [
    "df['user_score'].unique()"
   ]
  },
  {
   "cell_type": "raw",
   "metadata": {},
   "source": [
    "Посмотрим что это за таинственная \"tbd\" в оценках пользователей. Для этого выведем табличку чтобы оценить это"
   ]
  },
  {
   "cell_type": "code",
   "execution_count": 10,
   "metadata": {},
   "outputs": [
    {
     "data": {
      "text/html": [
       "<div>\n",
       "<style scoped>\n",
       "    .dataframe tbody tr th:only-of-type {\n",
       "        vertical-align: middle;\n",
       "    }\n",
       "\n",
       "    .dataframe tbody tr th {\n",
       "        vertical-align: top;\n",
       "    }\n",
       "\n",
       "    .dataframe thead th {\n",
       "        text-align: right;\n",
       "    }\n",
       "</style>\n",
       "<table border=\"1\" class=\"dataframe\">\n",
       "  <thead>\n",
       "    <tr style=\"text-align: right;\">\n",
       "      <th></th>\n",
       "      <th>name</th>\n",
       "      <th>platform</th>\n",
       "      <th>year_of_release</th>\n",
       "      <th>genre</th>\n",
       "      <th>na_sales</th>\n",
       "      <th>eu_sales</th>\n",
       "      <th>jp_sales</th>\n",
       "      <th>other_sales</th>\n",
       "      <th>critic_score</th>\n",
       "      <th>user_score</th>\n",
       "      <th>rating</th>\n",
       "    </tr>\n",
       "  </thead>\n",
       "  <tbody>\n",
       "    <tr>\n",
       "      <th>119</th>\n",
       "      <td>Zumba Fitness</td>\n",
       "      <td>Wii</td>\n",
       "      <td>2010.0</td>\n",
       "      <td>Sports</td>\n",
       "      <td>3.45</td>\n",
       "      <td>2.59</td>\n",
       "      <td>0.0</td>\n",
       "      <td>0.66</td>\n",
       "      <td>NaN</td>\n",
       "      <td>tbd</td>\n",
       "      <td>E</td>\n",
       "    </tr>\n",
       "    <tr>\n",
       "      <th>301</th>\n",
       "      <td>Namco Museum: 50th Anniversary</td>\n",
       "      <td>PS2</td>\n",
       "      <td>2005.0</td>\n",
       "      <td>Misc</td>\n",
       "      <td>2.08</td>\n",
       "      <td>1.35</td>\n",
       "      <td>0.0</td>\n",
       "      <td>0.54</td>\n",
       "      <td>61.0</td>\n",
       "      <td>tbd</td>\n",
       "      <td>E10+</td>\n",
       "    </tr>\n",
       "    <tr>\n",
       "      <th>520</th>\n",
       "      <td>Zumba Fitness 2</td>\n",
       "      <td>Wii</td>\n",
       "      <td>2011.0</td>\n",
       "      <td>Sports</td>\n",
       "      <td>1.51</td>\n",
       "      <td>1.03</td>\n",
       "      <td>0.0</td>\n",
       "      <td>0.27</td>\n",
       "      <td>NaN</td>\n",
       "      <td>tbd</td>\n",
       "      <td>T</td>\n",
       "    </tr>\n",
       "    <tr>\n",
       "      <th>645</th>\n",
       "      <td>uDraw Studio</td>\n",
       "      <td>Wii</td>\n",
       "      <td>2010.0</td>\n",
       "      <td>Misc</td>\n",
       "      <td>1.65</td>\n",
       "      <td>0.57</td>\n",
       "      <td>0.0</td>\n",
       "      <td>0.20</td>\n",
       "      <td>71.0</td>\n",
       "      <td>tbd</td>\n",
       "      <td>E</td>\n",
       "    </tr>\n",
       "    <tr>\n",
       "      <th>657</th>\n",
       "      <td>Frogger's Adventures: Temple of the Frog</td>\n",
       "      <td>GBA</td>\n",
       "      <td>NaN</td>\n",
       "      <td>Adventure</td>\n",
       "      <td>2.15</td>\n",
       "      <td>0.18</td>\n",
       "      <td>0.0</td>\n",
       "      <td>0.07</td>\n",
       "      <td>73.0</td>\n",
       "      <td>tbd</td>\n",
       "      <td>E</td>\n",
       "    </tr>\n",
       "    <tr>\n",
       "      <th>...</th>\n",
       "      <td>...</td>\n",
       "      <td>...</td>\n",
       "      <td>...</td>\n",
       "      <td>...</td>\n",
       "      <td>...</td>\n",
       "      <td>...</td>\n",
       "      <td>...</td>\n",
       "      <td>...</td>\n",
       "      <td>...</td>\n",
       "      <td>...</td>\n",
       "      <td>...</td>\n",
       "    </tr>\n",
       "    <tr>\n",
       "      <th>16695</th>\n",
       "      <td>Planet Monsters</td>\n",
       "      <td>GBA</td>\n",
       "      <td>2001.0</td>\n",
       "      <td>Action</td>\n",
       "      <td>0.01</td>\n",
       "      <td>0.00</td>\n",
       "      <td>0.0</td>\n",
       "      <td>0.00</td>\n",
       "      <td>67.0</td>\n",
       "      <td>tbd</td>\n",
       "      <td>E</td>\n",
       "    </tr>\n",
       "    <tr>\n",
       "      <th>16697</th>\n",
       "      <td>Bust-A-Move 3000</td>\n",
       "      <td>GC</td>\n",
       "      <td>2003.0</td>\n",
       "      <td>Puzzle</td>\n",
       "      <td>0.01</td>\n",
       "      <td>0.00</td>\n",
       "      <td>0.0</td>\n",
       "      <td>0.00</td>\n",
       "      <td>53.0</td>\n",
       "      <td>tbd</td>\n",
       "      <td>E</td>\n",
       "    </tr>\n",
       "    <tr>\n",
       "      <th>16698</th>\n",
       "      <td>Mega Brain Boost</td>\n",
       "      <td>DS</td>\n",
       "      <td>2008.0</td>\n",
       "      <td>Puzzle</td>\n",
       "      <td>0.01</td>\n",
       "      <td>0.00</td>\n",
       "      <td>0.0</td>\n",
       "      <td>0.00</td>\n",
       "      <td>48.0</td>\n",
       "      <td>tbd</td>\n",
       "      <td>E</td>\n",
       "    </tr>\n",
       "    <tr>\n",
       "      <th>16704</th>\n",
       "      <td>Plushees</td>\n",
       "      <td>DS</td>\n",
       "      <td>2008.0</td>\n",
       "      <td>Simulation</td>\n",
       "      <td>0.01</td>\n",
       "      <td>0.00</td>\n",
       "      <td>0.0</td>\n",
       "      <td>0.00</td>\n",
       "      <td>NaN</td>\n",
       "      <td>tbd</td>\n",
       "      <td>E</td>\n",
       "    </tr>\n",
       "    <tr>\n",
       "      <th>16706</th>\n",
       "      <td>Men in Black II: Alien Escape</td>\n",
       "      <td>GC</td>\n",
       "      <td>2003.0</td>\n",
       "      <td>Shooter</td>\n",
       "      <td>0.01</td>\n",
       "      <td>0.00</td>\n",
       "      <td>0.0</td>\n",
       "      <td>0.00</td>\n",
       "      <td>NaN</td>\n",
       "      <td>tbd</td>\n",
       "      <td>T</td>\n",
       "    </tr>\n",
       "  </tbody>\n",
       "</table>\n",
       "<p>2424 rows × 11 columns</p>\n",
       "</div>"
      ],
      "text/plain": [
       "                                           name platform  year_of_release  \\\n",
       "119                               Zumba Fitness      Wii           2010.0   \n",
       "301              Namco Museum: 50th Anniversary      PS2           2005.0   \n",
       "520                             Zumba Fitness 2      Wii           2011.0   \n",
       "645                                uDraw Studio      Wii           2010.0   \n",
       "657    Frogger's Adventures: Temple of the Frog      GBA              NaN   \n",
       "...                                         ...      ...              ...   \n",
       "16695                           Planet Monsters      GBA           2001.0   \n",
       "16697                          Bust-A-Move 3000       GC           2003.0   \n",
       "16698                          Mega Brain Boost       DS           2008.0   \n",
       "16704                                  Plushees       DS           2008.0   \n",
       "16706             Men in Black II: Alien Escape       GC           2003.0   \n",
       "\n",
       "            genre  na_sales  eu_sales  jp_sales  other_sales  critic_score  \\\n",
       "119        Sports      3.45      2.59       0.0         0.66           NaN   \n",
       "301          Misc      2.08      1.35       0.0         0.54          61.0   \n",
       "520        Sports      1.51      1.03       0.0         0.27           NaN   \n",
       "645          Misc      1.65      0.57       0.0         0.20          71.0   \n",
       "657     Adventure      2.15      0.18       0.0         0.07          73.0   \n",
       "...           ...       ...       ...       ...          ...           ...   \n",
       "16695      Action      0.01      0.00       0.0         0.00          67.0   \n",
       "16697      Puzzle      0.01      0.00       0.0         0.00          53.0   \n",
       "16698      Puzzle      0.01      0.00       0.0         0.00          48.0   \n",
       "16704  Simulation      0.01      0.00       0.0         0.00           NaN   \n",
       "16706     Shooter      0.01      0.00       0.0         0.00           NaN   \n",
       "\n",
       "      user_score rating  \n",
       "119          tbd      E  \n",
       "301          tbd   E10+  \n",
       "520          tbd      T  \n",
       "645          tbd      E  \n",
       "657          tbd      E  \n",
       "...          ...    ...  \n",
       "16695        tbd      E  \n",
       "16697        tbd      E  \n",
       "16698        tbd      E  \n",
       "16704        tbd      E  \n",
       "16706        tbd      T  \n",
       "\n",
       "[2424 rows x 11 columns]"
      ]
     },
     "execution_count": 10,
     "metadata": {},
     "output_type": "execute_result"
    }
   ],
   "source": [
    "df.loc[df['user_score'] == 'tbd']"
   ]
  },
  {
   "cell_type": "markdown",
   "metadata": {},
   "source": [
    "Судя по всему, это английское сокращение выражение \"ожидается что будет выставлена\". Но, по каким-то причинам к базу данных попала в таком виде. Получается, можно приравнять её к NaN, чтобы сделать столбец цифровым."
   ]
  },
  {
   "cell_type": "code",
   "execution_count": 11,
   "metadata": {},
   "outputs": [],
   "source": [
    "df['user_score'] = pd.to_numeric(df['user_score'],errors='coerce')"
   ]
  },
  {
   "cell_type": "code",
   "execution_count": 12,
   "metadata": {},
   "outputs": [
    {
     "data": {
      "text/plain": [
       "array(['E', nan, 'M', 'T', 'E10+', 'K-A', 'AO', 'EC', 'RP'], dtype=object)"
      ]
     },
     "execution_count": 12,
     "metadata": {},
     "output_type": "execute_result"
    }
   ],
   "source": [
    "df['rating'].unique()"
   ]
  },
  {
   "cell_type": "code",
   "execution_count": 13,
   "metadata": {},
   "outputs": [],
   "source": [
    "df['rating'] = df['rating'].fillna('нет данных')"
   ]
  },
  {
   "cell_type": "markdown",
   "metadata": {},
   "source": [
    "Так как рейтинг в таблице обозначает североамериканский тип возрастного рейтинга, то для остальных частей света он не актуален, и если игра там не выходила, то могла просто не получать такой рейтинг"
   ]
  },
  {
   "cell_type": "code",
   "execution_count": 14,
   "metadata": {},
   "outputs": [
    {
     "name": "stdout",
     "output_type": "stream",
     "text": [
      "<class 'pandas.core.frame.DataFrame'>\n",
      "RangeIndex: 16715 entries, 0 to 16714\n",
      "Data columns (total 11 columns):\n",
      " #   Column           Non-Null Count  Dtype  \n",
      "---  ------           --------------  -----  \n",
      " 0   name             16713 non-null  object \n",
      " 1   platform         16715 non-null  object \n",
      " 2   year_of_release  16446 non-null  float64\n",
      " 3   genre            16713 non-null  object \n",
      " 4   na_sales         16715 non-null  float64\n",
      " 5   eu_sales         16715 non-null  float64\n",
      " 6   jp_sales         16715 non-null  float64\n",
      " 7   other_sales      16715 non-null  float64\n",
      " 8   critic_score     8137 non-null   float64\n",
      " 9   user_score       7590 non-null   float64\n",
      " 10  rating           16715 non-null  object \n",
      "dtypes: float64(7), object(4)\n",
      "memory usage: 1.4+ MB\n"
     ]
    }
   ],
   "source": [
    "df.info()\n"
   ]
  },
  {
   "cell_type": "markdown",
   "metadata": {},
   "source": [
    "К сожалению, восстановить данные в столбцах имя и год релиза невозможно, но именно эти данные нужны для исследований, придется от них избавиться. "
   ]
  },
  {
   "cell_type": "code",
   "execution_count": 15,
   "metadata": {},
   "outputs": [],
   "source": [
    "df = df.dropna(subset=['name', 'year_of_release'])"
   ]
  },
  {
   "cell_type": "code",
   "execution_count": 16,
   "metadata": {},
   "outputs": [
    {
     "data": {
      "text/plain": [
       "name                  0\n",
       "platform              0\n",
       "year_of_release       0\n",
       "genre                 0\n",
       "na_sales              0\n",
       "eu_sales              0\n",
       "jp_sales              0\n",
       "other_sales           0\n",
       "critic_score       8461\n",
       "user_score         8981\n",
       "rating                0\n",
       "dtype: int64"
      ]
     },
     "execution_count": 16,
     "metadata": {},
     "output_type": "execute_result"
    }
   ],
   "source": [
    "df.isnull().sum()"
   ]
  },
  {
   "cell_type": "code",
   "execution_count": 17,
   "metadata": {},
   "outputs": [],
   "source": [
    "df[\"year_of_release\"] = df['year_of_release'].astype('int64')"
   ]
  },
  {
   "cell_type": "code",
   "execution_count": 18,
   "metadata": {},
   "outputs": [
    {
     "data": {
      "text/html": [
       "<div>\n",
       "<style scoped>\n",
       "    .dataframe tbody tr th:only-of-type {\n",
       "        vertical-align: middle;\n",
       "    }\n",
       "\n",
       "    .dataframe tbody tr th {\n",
       "        vertical-align: top;\n",
       "    }\n",
       "\n",
       "    .dataframe thead th {\n",
       "        text-align: right;\n",
       "    }\n",
       "</style>\n",
       "<table border=\"1\" class=\"dataframe\">\n",
       "  <thead>\n",
       "    <tr style=\"text-align: right;\">\n",
       "      <th></th>\n",
       "      <th>name</th>\n",
       "      <th>platform</th>\n",
       "      <th>year_of_release</th>\n",
       "      <th>genre</th>\n",
       "      <th>na_sales</th>\n",
       "      <th>eu_sales</th>\n",
       "      <th>jp_sales</th>\n",
       "      <th>other_sales</th>\n",
       "      <th>critic_score</th>\n",
       "      <th>user_score</th>\n",
       "      <th>rating</th>\n",
       "    </tr>\n",
       "  </thead>\n",
       "  <tbody>\n",
       "    <tr>\n",
       "      <th>0</th>\n",
       "      <td>Wii Sports</td>\n",
       "      <td>Wii</td>\n",
       "      <td>2006</td>\n",
       "      <td>Sports</td>\n",
       "      <td>41.36</td>\n",
       "      <td>28.96</td>\n",
       "      <td>3.77</td>\n",
       "      <td>8.45</td>\n",
       "      <td>76.0</td>\n",
       "      <td>8.0</td>\n",
       "      <td>E</td>\n",
       "    </tr>\n",
       "    <tr>\n",
       "      <th>1</th>\n",
       "      <td>Super Mario Bros.</td>\n",
       "      <td>NES</td>\n",
       "      <td>1985</td>\n",
       "      <td>Platform</td>\n",
       "      <td>29.08</td>\n",
       "      <td>3.58</td>\n",
       "      <td>6.81</td>\n",
       "      <td>0.77</td>\n",
       "      <td>NaN</td>\n",
       "      <td>NaN</td>\n",
       "      <td>нет данных</td>\n",
       "    </tr>\n",
       "    <tr>\n",
       "      <th>2</th>\n",
       "      <td>Mario Kart Wii</td>\n",
       "      <td>Wii</td>\n",
       "      <td>2008</td>\n",
       "      <td>Racing</td>\n",
       "      <td>15.68</td>\n",
       "      <td>12.76</td>\n",
       "      <td>3.79</td>\n",
       "      <td>3.29</td>\n",
       "      <td>82.0</td>\n",
       "      <td>8.3</td>\n",
       "      <td>E</td>\n",
       "    </tr>\n",
       "    <tr>\n",
       "      <th>3</th>\n",
       "      <td>Wii Sports Resort</td>\n",
       "      <td>Wii</td>\n",
       "      <td>2009</td>\n",
       "      <td>Sports</td>\n",
       "      <td>15.61</td>\n",
       "      <td>10.93</td>\n",
       "      <td>3.28</td>\n",
       "      <td>2.95</td>\n",
       "      <td>80.0</td>\n",
       "      <td>8.0</td>\n",
       "      <td>E</td>\n",
       "    </tr>\n",
       "    <tr>\n",
       "      <th>4</th>\n",
       "      <td>Pokemon Red/Pokemon Blue</td>\n",
       "      <td>GB</td>\n",
       "      <td>1996</td>\n",
       "      <td>Role-Playing</td>\n",
       "      <td>11.27</td>\n",
       "      <td>8.89</td>\n",
       "      <td>10.22</td>\n",
       "      <td>1.00</td>\n",
       "      <td>NaN</td>\n",
       "      <td>NaN</td>\n",
       "      <td>нет данных</td>\n",
       "    </tr>\n",
       "    <tr>\n",
       "      <th>...</th>\n",
       "      <td>...</td>\n",
       "      <td>...</td>\n",
       "      <td>...</td>\n",
       "      <td>...</td>\n",
       "      <td>...</td>\n",
       "      <td>...</td>\n",
       "      <td>...</td>\n",
       "      <td>...</td>\n",
       "      <td>...</td>\n",
       "      <td>...</td>\n",
       "      <td>...</td>\n",
       "    </tr>\n",
       "    <tr>\n",
       "      <th>16710</th>\n",
       "      <td>Samurai Warriors: Sanada Maru</td>\n",
       "      <td>PS3</td>\n",
       "      <td>2016</td>\n",
       "      <td>Action</td>\n",
       "      <td>0.00</td>\n",
       "      <td>0.00</td>\n",
       "      <td>0.01</td>\n",
       "      <td>0.00</td>\n",
       "      <td>NaN</td>\n",
       "      <td>NaN</td>\n",
       "      <td>нет данных</td>\n",
       "    </tr>\n",
       "    <tr>\n",
       "      <th>16711</th>\n",
       "      <td>LMA Manager 2007</td>\n",
       "      <td>X360</td>\n",
       "      <td>2006</td>\n",
       "      <td>Sports</td>\n",
       "      <td>0.00</td>\n",
       "      <td>0.01</td>\n",
       "      <td>0.00</td>\n",
       "      <td>0.00</td>\n",
       "      <td>NaN</td>\n",
       "      <td>NaN</td>\n",
       "      <td>нет данных</td>\n",
       "    </tr>\n",
       "    <tr>\n",
       "      <th>16712</th>\n",
       "      <td>Haitaka no Psychedelica</td>\n",
       "      <td>PSV</td>\n",
       "      <td>2016</td>\n",
       "      <td>Adventure</td>\n",
       "      <td>0.00</td>\n",
       "      <td>0.00</td>\n",
       "      <td>0.01</td>\n",
       "      <td>0.00</td>\n",
       "      <td>NaN</td>\n",
       "      <td>NaN</td>\n",
       "      <td>нет данных</td>\n",
       "    </tr>\n",
       "    <tr>\n",
       "      <th>16713</th>\n",
       "      <td>Spirits &amp; Spells</td>\n",
       "      <td>GBA</td>\n",
       "      <td>2003</td>\n",
       "      <td>Platform</td>\n",
       "      <td>0.01</td>\n",
       "      <td>0.00</td>\n",
       "      <td>0.00</td>\n",
       "      <td>0.00</td>\n",
       "      <td>NaN</td>\n",
       "      <td>NaN</td>\n",
       "      <td>нет данных</td>\n",
       "    </tr>\n",
       "    <tr>\n",
       "      <th>16714</th>\n",
       "      <td>Winning Post 8 2016</td>\n",
       "      <td>PSV</td>\n",
       "      <td>2016</td>\n",
       "      <td>Simulation</td>\n",
       "      <td>0.00</td>\n",
       "      <td>0.00</td>\n",
       "      <td>0.01</td>\n",
       "      <td>0.00</td>\n",
       "      <td>NaN</td>\n",
       "      <td>NaN</td>\n",
       "      <td>нет данных</td>\n",
       "    </tr>\n",
       "  </tbody>\n",
       "</table>\n",
       "<p>16444 rows × 11 columns</p>\n",
       "</div>"
      ],
      "text/plain": [
       "                                name platform  year_of_release         genre  \\\n",
       "0                         Wii Sports      Wii             2006        Sports   \n",
       "1                  Super Mario Bros.      NES             1985      Platform   \n",
       "2                     Mario Kart Wii      Wii             2008        Racing   \n",
       "3                  Wii Sports Resort      Wii             2009        Sports   \n",
       "4           Pokemon Red/Pokemon Blue       GB             1996  Role-Playing   \n",
       "...                              ...      ...              ...           ...   \n",
       "16710  Samurai Warriors: Sanada Maru      PS3             2016        Action   \n",
       "16711               LMA Manager 2007     X360             2006        Sports   \n",
       "16712        Haitaka no Psychedelica      PSV             2016     Adventure   \n",
       "16713               Spirits & Spells      GBA             2003      Platform   \n",
       "16714            Winning Post 8 2016      PSV             2016    Simulation   \n",
       "\n",
       "       na_sales  eu_sales  jp_sales  other_sales  critic_score  user_score  \\\n",
       "0         41.36     28.96      3.77         8.45          76.0         8.0   \n",
       "1         29.08      3.58      6.81         0.77           NaN         NaN   \n",
       "2         15.68     12.76      3.79         3.29          82.0         8.3   \n",
       "3         15.61     10.93      3.28         2.95          80.0         8.0   \n",
       "4         11.27      8.89     10.22         1.00           NaN         NaN   \n",
       "...         ...       ...       ...          ...           ...         ...   \n",
       "16710      0.00      0.00      0.01         0.00           NaN         NaN   \n",
       "16711      0.00      0.01      0.00         0.00           NaN         NaN   \n",
       "16712      0.00      0.00      0.01         0.00           NaN         NaN   \n",
       "16713      0.01      0.00      0.00         0.00           NaN         NaN   \n",
       "16714      0.00      0.00      0.01         0.00           NaN         NaN   \n",
       "\n",
       "           rating  \n",
       "0               E  \n",
       "1      нет данных  \n",
       "2               E  \n",
       "3               E  \n",
       "4      нет данных  \n",
       "...           ...  \n",
       "16710  нет данных  \n",
       "16711  нет данных  \n",
       "16712  нет данных  \n",
       "16713  нет данных  \n",
       "16714  нет данных  \n",
       "\n",
       "[16444 rows x 11 columns]"
      ]
     },
     "metadata": {},
     "output_type": "display_data"
    }
   ],
   "source": [
    "display(df)"
   ]
  },
  {
   "cell_type": "markdown",
   "metadata": {},
   "source": [
    "### Добавление новых данных."
   ]
  },
  {
   "cell_type": "code",
   "execution_count": 19,
   "metadata": {},
   "outputs": [
    {
     "data": {
      "text/html": [
       "<div>\n",
       "<style scoped>\n",
       "    .dataframe tbody tr th:only-of-type {\n",
       "        vertical-align: middle;\n",
       "    }\n",
       "\n",
       "    .dataframe tbody tr th {\n",
       "        vertical-align: top;\n",
       "    }\n",
       "\n",
       "    .dataframe thead th {\n",
       "        text-align: right;\n",
       "    }\n",
       "</style>\n",
       "<table border=\"1\" class=\"dataframe\">\n",
       "  <thead>\n",
       "    <tr style=\"text-align: right;\">\n",
       "      <th></th>\n",
       "      <th>name</th>\n",
       "      <th>platform</th>\n",
       "      <th>year_of_release</th>\n",
       "      <th>genre</th>\n",
       "      <th>na_sales</th>\n",
       "      <th>eu_sales</th>\n",
       "      <th>jp_sales</th>\n",
       "      <th>other_sales</th>\n",
       "      <th>critic_score</th>\n",
       "      <th>user_score</th>\n",
       "      <th>rating</th>\n",
       "      <th>total_sales</th>\n",
       "    </tr>\n",
       "  </thead>\n",
       "  <tbody>\n",
       "    <tr>\n",
       "      <th>0</th>\n",
       "      <td>Wii Sports</td>\n",
       "      <td>Wii</td>\n",
       "      <td>2006</td>\n",
       "      <td>Sports</td>\n",
       "      <td>41.36</td>\n",
       "      <td>28.96</td>\n",
       "      <td>3.77</td>\n",
       "      <td>8.45</td>\n",
       "      <td>76.0</td>\n",
       "      <td>8.0</td>\n",
       "      <td>E</td>\n",
       "      <td>41.18</td>\n",
       "    </tr>\n",
       "    <tr>\n",
       "      <th>1</th>\n",
       "      <td>Super Mario Bros.</td>\n",
       "      <td>NES</td>\n",
       "      <td>1985</td>\n",
       "      <td>Platform</td>\n",
       "      <td>29.08</td>\n",
       "      <td>3.58</td>\n",
       "      <td>6.81</td>\n",
       "      <td>0.77</td>\n",
       "      <td>NaN</td>\n",
       "      <td>NaN</td>\n",
       "      <td>нет данных</td>\n",
       "      <td>11.16</td>\n",
       "    </tr>\n",
       "    <tr>\n",
       "      <th>2</th>\n",
       "      <td>Mario Kart Wii</td>\n",
       "      <td>Wii</td>\n",
       "      <td>2008</td>\n",
       "      <td>Racing</td>\n",
       "      <td>15.68</td>\n",
       "      <td>12.76</td>\n",
       "      <td>3.79</td>\n",
       "      <td>3.29</td>\n",
       "      <td>82.0</td>\n",
       "      <td>8.3</td>\n",
       "      <td>E</td>\n",
       "      <td>19.84</td>\n",
       "    </tr>\n",
       "    <tr>\n",
       "      <th>3</th>\n",
       "      <td>Wii Sports Resort</td>\n",
       "      <td>Wii</td>\n",
       "      <td>2009</td>\n",
       "      <td>Sports</td>\n",
       "      <td>15.61</td>\n",
       "      <td>10.93</td>\n",
       "      <td>3.28</td>\n",
       "      <td>2.95</td>\n",
       "      <td>80.0</td>\n",
       "      <td>8.0</td>\n",
       "      <td>E</td>\n",
       "      <td>17.16</td>\n",
       "    </tr>\n",
       "    <tr>\n",
       "      <th>4</th>\n",
       "      <td>Pokemon Red/Pokemon Blue</td>\n",
       "      <td>GB</td>\n",
       "      <td>1996</td>\n",
       "      <td>Role-Playing</td>\n",
       "      <td>11.27</td>\n",
       "      <td>8.89</td>\n",
       "      <td>10.22</td>\n",
       "      <td>1.00</td>\n",
       "      <td>NaN</td>\n",
       "      <td>NaN</td>\n",
       "      <td>нет данных</td>\n",
       "      <td>20.11</td>\n",
       "    </tr>\n",
       "    <tr>\n",
       "      <th>...</th>\n",
       "      <td>...</td>\n",
       "      <td>...</td>\n",
       "      <td>...</td>\n",
       "      <td>...</td>\n",
       "      <td>...</td>\n",
       "      <td>...</td>\n",
       "      <td>...</td>\n",
       "      <td>...</td>\n",
       "      <td>...</td>\n",
       "      <td>...</td>\n",
       "      <td>...</td>\n",
       "      <td>...</td>\n",
       "    </tr>\n",
       "    <tr>\n",
       "      <th>16710</th>\n",
       "      <td>Samurai Warriors: Sanada Maru</td>\n",
       "      <td>PS3</td>\n",
       "      <td>2016</td>\n",
       "      <td>Action</td>\n",
       "      <td>0.00</td>\n",
       "      <td>0.00</td>\n",
       "      <td>0.01</td>\n",
       "      <td>0.00</td>\n",
       "      <td>NaN</td>\n",
       "      <td>NaN</td>\n",
       "      <td>нет данных</td>\n",
       "      <td>0.01</td>\n",
       "    </tr>\n",
       "    <tr>\n",
       "      <th>16711</th>\n",
       "      <td>LMA Manager 2007</td>\n",
       "      <td>X360</td>\n",
       "      <td>2006</td>\n",
       "      <td>Sports</td>\n",
       "      <td>0.00</td>\n",
       "      <td>0.01</td>\n",
       "      <td>0.00</td>\n",
       "      <td>0.00</td>\n",
       "      <td>NaN</td>\n",
       "      <td>NaN</td>\n",
       "      <td>нет данных</td>\n",
       "      <td>0.01</td>\n",
       "    </tr>\n",
       "    <tr>\n",
       "      <th>16712</th>\n",
       "      <td>Haitaka no Psychedelica</td>\n",
       "      <td>PSV</td>\n",
       "      <td>2016</td>\n",
       "      <td>Adventure</td>\n",
       "      <td>0.00</td>\n",
       "      <td>0.00</td>\n",
       "      <td>0.01</td>\n",
       "      <td>0.00</td>\n",
       "      <td>NaN</td>\n",
       "      <td>NaN</td>\n",
       "      <td>нет данных</td>\n",
       "      <td>0.01</td>\n",
       "    </tr>\n",
       "    <tr>\n",
       "      <th>16713</th>\n",
       "      <td>Spirits &amp; Spells</td>\n",
       "      <td>GBA</td>\n",
       "      <td>2003</td>\n",
       "      <td>Platform</td>\n",
       "      <td>0.01</td>\n",
       "      <td>0.00</td>\n",
       "      <td>0.00</td>\n",
       "      <td>0.00</td>\n",
       "      <td>NaN</td>\n",
       "      <td>NaN</td>\n",
       "      <td>нет данных</td>\n",
       "      <td>0.00</td>\n",
       "    </tr>\n",
       "    <tr>\n",
       "      <th>16714</th>\n",
       "      <td>Winning Post 8 2016</td>\n",
       "      <td>PSV</td>\n",
       "      <td>2016</td>\n",
       "      <td>Simulation</td>\n",
       "      <td>0.00</td>\n",
       "      <td>0.00</td>\n",
       "      <td>0.01</td>\n",
       "      <td>0.00</td>\n",
       "      <td>NaN</td>\n",
       "      <td>NaN</td>\n",
       "      <td>нет данных</td>\n",
       "      <td>0.01</td>\n",
       "    </tr>\n",
       "  </tbody>\n",
       "</table>\n",
       "<p>16444 rows × 12 columns</p>\n",
       "</div>"
      ],
      "text/plain": [
       "                                name platform  year_of_release         genre  \\\n",
       "0                         Wii Sports      Wii             2006        Sports   \n",
       "1                  Super Mario Bros.      NES             1985      Platform   \n",
       "2                     Mario Kart Wii      Wii             2008        Racing   \n",
       "3                  Wii Sports Resort      Wii             2009        Sports   \n",
       "4           Pokemon Red/Pokemon Blue       GB             1996  Role-Playing   \n",
       "...                              ...      ...              ...           ...   \n",
       "16710  Samurai Warriors: Sanada Maru      PS3             2016        Action   \n",
       "16711               LMA Manager 2007     X360             2006        Sports   \n",
       "16712        Haitaka no Psychedelica      PSV             2016     Adventure   \n",
       "16713               Spirits & Spells      GBA             2003      Platform   \n",
       "16714            Winning Post 8 2016      PSV             2016    Simulation   \n",
       "\n",
       "       na_sales  eu_sales  jp_sales  other_sales  critic_score  user_score  \\\n",
       "0         41.36     28.96      3.77         8.45          76.0         8.0   \n",
       "1         29.08      3.58      6.81         0.77           NaN         NaN   \n",
       "2         15.68     12.76      3.79         3.29          82.0         8.3   \n",
       "3         15.61     10.93      3.28         2.95          80.0         8.0   \n",
       "4         11.27      8.89     10.22         1.00           NaN         NaN   \n",
       "...         ...       ...       ...          ...           ...         ...   \n",
       "16710      0.00      0.00      0.01         0.00           NaN         NaN   \n",
       "16711      0.00      0.01      0.00         0.00           NaN         NaN   \n",
       "16712      0.00      0.00      0.01         0.00           NaN         NaN   \n",
       "16713      0.01      0.00      0.00         0.00           NaN         NaN   \n",
       "16714      0.00      0.00      0.01         0.00           NaN         NaN   \n",
       "\n",
       "           rating  total_sales  \n",
       "0               E        41.18  \n",
       "1      нет данных        11.16  \n",
       "2               E        19.84  \n",
       "3               E        17.16  \n",
       "4      нет данных        20.11  \n",
       "...           ...          ...  \n",
       "16710  нет данных         0.01  \n",
       "16711  нет данных         0.01  \n",
       "16712  нет данных         0.01  \n",
       "16713  нет данных         0.00  \n",
       "16714  нет данных         0.01  \n",
       "\n",
       "[16444 rows x 12 columns]"
      ]
     },
     "execution_count": 19,
     "metadata": {},
     "output_type": "execute_result"
    }
   ],
   "source": [
    "df['total_sales'] = df.iloc[:,5:8].sum(axis=1)\n",
    "df"
   ]
  },
  {
   "cell_type": "markdown",
   "metadata": {},
   "source": [
    "### Промежуточные таблицы с некоторыми подсчетами."
   ]
  },
  {
   "cell_type": "code",
   "execution_count": 20,
   "metadata": {},
   "outputs": [
    {
     "data": {
      "text/html": [
       "<div>\n",
       "<style scoped>\n",
       "    .dataframe tbody tr th:only-of-type {\n",
       "        vertical-align: middle;\n",
       "    }\n",
       "\n",
       "    .dataframe tbody tr th {\n",
       "        vertical-align: top;\n",
       "    }\n",
       "\n",
       "    .dataframe thead th {\n",
       "        text-align: right;\n",
       "    }\n",
       "</style>\n",
       "<table border=\"1\" class=\"dataframe\">\n",
       "  <thead>\n",
       "    <tr style=\"text-align: right;\">\n",
       "      <th></th>\n",
       "      <th></th>\n",
       "      <th>count_games</th>\n",
       "    </tr>\n",
       "    <tr>\n",
       "      <th>year_of_release</th>\n",
       "      <th>platform</th>\n",
       "      <th></th>\n",
       "    </tr>\n",
       "  </thead>\n",
       "  <tbody>\n",
       "    <tr>\n",
       "      <th>1980</th>\n",
       "      <th>2600</th>\n",
       "      <td>9</td>\n",
       "    </tr>\n",
       "    <tr>\n",
       "      <th>1981</th>\n",
       "      <th>2600</th>\n",
       "      <td>46</td>\n",
       "    </tr>\n",
       "    <tr>\n",
       "      <th>1982</th>\n",
       "      <th>2600</th>\n",
       "      <td>36</td>\n",
       "    </tr>\n",
       "    <tr>\n",
       "      <th rowspan=\"2\" valign=\"top\">1983</th>\n",
       "      <th>2600</th>\n",
       "      <td>11</td>\n",
       "    </tr>\n",
       "    <tr>\n",
       "      <th>NES</th>\n",
       "      <td>6</td>\n",
       "    </tr>\n",
       "    <tr>\n",
       "      <th>...</th>\n",
       "      <th>...</th>\n",
       "      <td>...</td>\n",
       "    </tr>\n",
       "    <tr>\n",
       "      <th rowspan=\"5\" valign=\"top\">2016</th>\n",
       "      <th>PSV</th>\n",
       "      <td>85</td>\n",
       "    </tr>\n",
       "    <tr>\n",
       "      <th>Wii</th>\n",
       "      <td>1</td>\n",
       "    </tr>\n",
       "    <tr>\n",
       "      <th>WiiU</th>\n",
       "      <td>14</td>\n",
       "    </tr>\n",
       "    <tr>\n",
       "      <th>X360</th>\n",
       "      <td>13</td>\n",
       "    </tr>\n",
       "    <tr>\n",
       "      <th>XOne</th>\n",
       "      <td>87</td>\n",
       "    </tr>\n",
       "  </tbody>\n",
       "</table>\n",
       "<p>238 rows × 1 columns</p>\n",
       "</div>"
      ],
      "text/plain": [
       "                          count_games\n",
       "year_of_release platform             \n",
       "1980            2600                9\n",
       "1981            2600               46\n",
       "1982            2600               36\n",
       "1983            2600               11\n",
       "                NES                 6\n",
       "...                               ...\n",
       "2016            PSV                85\n",
       "                Wii                 1\n",
       "                WiiU               14\n",
       "                X360               13\n",
       "                XOne               87\n",
       "\n",
       "[238 rows x 1 columns]"
      ]
     },
     "execution_count": 20,
     "metadata": {},
     "output_type": "execute_result"
    }
   ],
   "source": [
    "year_game = df.groupby(['year_of_release', 'platform']).agg(count_games=('name', 'count'))\n",
    "year_game"
   ]
  },
  {
   "cell_type": "code",
   "execution_count": 21,
   "metadata": {},
   "outputs": [
    {
     "data": {
      "text/html": [
       "<div>\n",
       "<style scoped>\n",
       "    .dataframe tbody tr th:only-of-type {\n",
       "        vertical-align: middle;\n",
       "    }\n",
       "\n",
       "    .dataframe tbody tr th {\n",
       "        vertical-align: top;\n",
       "    }\n",
       "\n",
       "    .dataframe thead th {\n",
       "        text-align: right;\n",
       "    }\n",
       "</style>\n",
       "<table border=\"1\" class=\"dataframe\">\n",
       "  <thead>\n",
       "    <tr style=\"text-align: right;\">\n",
       "      <th></th>\n",
       "      <th></th>\n",
       "      <th>sum_sales</th>\n",
       "    </tr>\n",
       "    <tr>\n",
       "      <th>year_of_release</th>\n",
       "      <th>platform</th>\n",
       "      <th></th>\n",
       "    </tr>\n",
       "  </thead>\n",
       "  <tbody>\n",
       "    <tr>\n",
       "      <th>1980</th>\n",
       "      <th>2600</th>\n",
       "      <td>0.79</td>\n",
       "    </tr>\n",
       "    <tr>\n",
       "      <th>1981</th>\n",
       "      <th>2600</th>\n",
       "      <td>2.28</td>\n",
       "    </tr>\n",
       "    <tr>\n",
       "      <th>1982</th>\n",
       "      <th>2600</th>\n",
       "      <td>1.96</td>\n",
       "    </tr>\n",
       "    <tr>\n",
       "      <th rowspan=\"2\" valign=\"top\">1983</th>\n",
       "      <th>2600</th>\n",
       "      <td>0.40</td>\n",
       "    </tr>\n",
       "    <tr>\n",
       "      <th>NES</th>\n",
       "      <td>8.64</td>\n",
       "    </tr>\n",
       "    <tr>\n",
       "      <th>...</th>\n",
       "      <th>...</th>\n",
       "      <td>...</td>\n",
       "    </tr>\n",
       "    <tr>\n",
       "      <th rowspan=\"5\" valign=\"top\">2016</th>\n",
       "      <th>PSV</th>\n",
       "      <td>4.10</td>\n",
       "    </tr>\n",
       "    <tr>\n",
       "      <th>Wii</th>\n",
       "      <td>0.12</td>\n",
       "    </tr>\n",
       "    <tr>\n",
       "      <th>WiiU</th>\n",
       "      <td>2.50</td>\n",
       "    </tr>\n",
       "    <tr>\n",
       "      <th>X360</th>\n",
       "      <td>0.83</td>\n",
       "    </tr>\n",
       "    <tr>\n",
       "      <th>XOne</th>\n",
       "      <td>11.88</td>\n",
       "    </tr>\n",
       "  </tbody>\n",
       "</table>\n",
       "<p>238 rows × 1 columns</p>\n",
       "</div>"
      ],
      "text/plain": [
       "                          sum_sales\n",
       "year_of_release platform           \n",
       "1980            2600           0.79\n",
       "1981            2600           2.28\n",
       "1982            2600           1.96\n",
       "1983            2600           0.40\n",
       "                NES            8.64\n",
       "...                             ...\n",
       "2016            PSV            4.10\n",
       "                Wii            0.12\n",
       "                WiiU           2.50\n",
       "                X360           0.83\n",
       "                XOne          11.88\n",
       "\n",
       "[238 rows x 1 columns]"
      ]
     },
     "execution_count": 21,
     "metadata": {},
     "output_type": "execute_result"
    }
   ],
   "source": [
    "platform_game = df.groupby(['year_of_release','platform']).agg(sum_sales=('total_sales', 'sum'))\n",
    "platform_game"
   ]
  },
  {
   "cell_type": "code",
   "execution_count": 22,
   "metadata": {},
   "outputs": [
    {
     "data": {
      "text/html": [
       "<div>\n",
       "<style scoped>\n",
       "    .dataframe tbody tr th:only-of-type {\n",
       "        vertical-align: middle;\n",
       "    }\n",
       "\n",
       "    .dataframe tbody tr th {\n",
       "        vertical-align: top;\n",
       "    }\n",
       "\n",
       "    .dataframe thead th {\n",
       "        text-align: right;\n",
       "    }\n",
       "</style>\n",
       "<table border=\"1\" class=\"dataframe\">\n",
       "  <thead>\n",
       "    <tr style=\"text-align: right;\">\n",
       "      <th></th>\n",
       "      <th>year_of_release</th>\n",
       "      <th>platform</th>\n",
       "      <th>sum_sales</th>\n",
       "    </tr>\n",
       "  </thead>\n",
       "  <tbody>\n",
       "    <tr>\n",
       "      <th>0</th>\n",
       "      <td>1980</td>\n",
       "      <td>2600</td>\n",
       "      <td>0.79</td>\n",
       "    </tr>\n",
       "    <tr>\n",
       "      <th>1</th>\n",
       "      <td>1981</td>\n",
       "      <td>2600</td>\n",
       "      <td>2.28</td>\n",
       "    </tr>\n",
       "    <tr>\n",
       "      <th>2</th>\n",
       "      <td>1982</td>\n",
       "      <td>2600</td>\n",
       "      <td>1.96</td>\n",
       "    </tr>\n",
       "    <tr>\n",
       "      <th>3</th>\n",
       "      <td>1983</td>\n",
       "      <td>2600</td>\n",
       "      <td>0.40</td>\n",
       "    </tr>\n",
       "    <tr>\n",
       "      <th>4</th>\n",
       "      <td>1983</td>\n",
       "      <td>NES</td>\n",
       "      <td>8.64</td>\n",
       "    </tr>\n",
       "    <tr>\n",
       "      <th>...</th>\n",
       "      <td>...</td>\n",
       "      <td>...</td>\n",
       "      <td>...</td>\n",
       "    </tr>\n",
       "    <tr>\n",
       "      <th>233</th>\n",
       "      <td>2016</td>\n",
       "      <td>PSV</td>\n",
       "      <td>4.10</td>\n",
       "    </tr>\n",
       "    <tr>\n",
       "      <th>234</th>\n",
       "      <td>2016</td>\n",
       "      <td>Wii</td>\n",
       "      <td>0.12</td>\n",
       "    </tr>\n",
       "    <tr>\n",
       "      <th>235</th>\n",
       "      <td>2016</td>\n",
       "      <td>WiiU</td>\n",
       "      <td>2.50</td>\n",
       "    </tr>\n",
       "    <tr>\n",
       "      <th>236</th>\n",
       "      <td>2016</td>\n",
       "      <td>X360</td>\n",
       "      <td>0.83</td>\n",
       "    </tr>\n",
       "    <tr>\n",
       "      <th>237</th>\n",
       "      <td>2016</td>\n",
       "      <td>XOne</td>\n",
       "      <td>11.88</td>\n",
       "    </tr>\n",
       "  </tbody>\n",
       "</table>\n",
       "<p>238 rows × 3 columns</p>\n",
       "</div>"
      ],
      "text/plain": [
       "     year_of_release platform  sum_sales\n",
       "0               1980     2600       0.79\n",
       "1               1981     2600       2.28\n",
       "2               1982     2600       1.96\n",
       "3               1983     2600       0.40\n",
       "4               1983      NES       8.64\n",
       "..               ...      ...        ...\n",
       "233             2016      PSV       4.10\n",
       "234             2016      Wii       0.12\n",
       "235             2016     WiiU       2.50\n",
       "236             2016     X360       0.83\n",
       "237             2016     XOne      11.88\n",
       "\n",
       "[238 rows x 3 columns]"
      ]
     },
     "execution_count": 22,
     "metadata": {},
     "output_type": "execute_result"
    }
   ],
   "source": [
    "year_game.reset_index()\n",
    "platform_game.reset_index()"
   ]
  },
  {
   "cell_type": "code",
   "execution_count": 23,
   "metadata": {
    "scrolled": true
   },
   "outputs": [
    {
     "data": {
      "text/html": [
       "<div>\n",
       "<style scoped>\n",
       "    .dataframe tbody tr th:only-of-type {\n",
       "        vertical-align: middle;\n",
       "    }\n",
       "\n",
       "    .dataframe tbody tr th {\n",
       "        vertical-align: top;\n",
       "    }\n",
       "\n",
       "    .dataframe thead th {\n",
       "        text-align: right;\n",
       "    }\n",
       "</style>\n",
       "<table border=\"1\" class=\"dataframe\">\n",
       "  <thead>\n",
       "    <tr style=\"text-align: right;\">\n",
       "      <th></th>\n",
       "      <th></th>\n",
       "      <th>sum_sales</th>\n",
       "      <th>count_games</th>\n",
       "    </tr>\n",
       "    <tr>\n",
       "      <th>year_of_release</th>\n",
       "      <th>platform</th>\n",
       "      <th></th>\n",
       "      <th></th>\n",
       "    </tr>\n",
       "  </thead>\n",
       "  <tbody>\n",
       "    <tr>\n",
       "      <th>1980</th>\n",
       "      <th>2600</th>\n",
       "      <td>0.79</td>\n",
       "      <td>9</td>\n",
       "    </tr>\n",
       "    <tr>\n",
       "      <th>1981</th>\n",
       "      <th>2600</th>\n",
       "      <td>2.28</td>\n",
       "      <td>46</td>\n",
       "    </tr>\n",
       "    <tr>\n",
       "      <th>1982</th>\n",
       "      <th>2600</th>\n",
       "      <td>1.96</td>\n",
       "      <td>36</td>\n",
       "    </tr>\n",
       "    <tr>\n",
       "      <th rowspan=\"2\" valign=\"top\">1983</th>\n",
       "      <th>2600</th>\n",
       "      <td>0.40</td>\n",
       "      <td>11</td>\n",
       "    </tr>\n",
       "    <tr>\n",
       "      <th>NES</th>\n",
       "      <td>8.64</td>\n",
       "      <td>6</td>\n",
       "    </tr>\n",
       "    <tr>\n",
       "      <th>...</th>\n",
       "      <th>...</th>\n",
       "      <td>...</td>\n",
       "      <td>...</td>\n",
       "    </tr>\n",
       "    <tr>\n",
       "      <th rowspan=\"5\" valign=\"top\">2016</th>\n",
       "      <th>PSV</th>\n",
       "      <td>4.10</td>\n",
       "      <td>85</td>\n",
       "    </tr>\n",
       "    <tr>\n",
       "      <th>Wii</th>\n",
       "      <td>0.12</td>\n",
       "      <td>1</td>\n",
       "    </tr>\n",
       "    <tr>\n",
       "      <th>WiiU</th>\n",
       "      <td>2.50</td>\n",
       "      <td>14</td>\n",
       "    </tr>\n",
       "    <tr>\n",
       "      <th>X360</th>\n",
       "      <td>0.83</td>\n",
       "      <td>13</td>\n",
       "    </tr>\n",
       "    <tr>\n",
       "      <th>XOne</th>\n",
       "      <td>11.88</td>\n",
       "      <td>87</td>\n",
       "    </tr>\n",
       "  </tbody>\n",
       "</table>\n",
       "<p>238 rows × 2 columns</p>\n",
       "</div>"
      ],
      "text/plain": [
       "                          sum_sales  count_games\n",
       "year_of_release platform                        \n",
       "1980            2600           0.79            9\n",
       "1981            2600           2.28           46\n",
       "1982            2600           1.96           36\n",
       "1983            2600           0.40           11\n",
       "                NES            8.64            6\n",
       "...                             ...          ...\n",
       "2016            PSV            4.10           85\n",
       "                Wii            0.12            1\n",
       "                WiiU           2.50           14\n",
       "                X360           0.83           13\n",
       "                XOne          11.88           87\n",
       "\n",
       "[238 rows x 2 columns]"
      ]
     },
     "execution_count": 23,
     "metadata": {},
     "output_type": "execute_result"
    }
   ],
   "source": [
    "platform_game = platform_game.merge(year_game, right_on=['year_of_release','platform'], left_on=['year_of_release','platform'])\n",
    "platform_game"
   ]
  },
  {
   "cell_type": "markdown",
   "metadata": {},
   "source": [
    "# Часть 2.\n",
    "##  Исследовательский анализ\n",
    "На данном этапе мы проведем анализ полученных данных, поймем какой период нам нужен, чтобы сделать корректный прогноз, построим несколько топов по продажам."
   ]
  },
  {
   "cell_type": "markdown",
   "metadata": {},
   "source": [
    "Посмотрим на количество выпускаемых игр"
   ]
  },
  {
   "cell_type": "markdown",
   "metadata": {},
   "source": [
    "### Продажи за всё время."
   ]
  },
  {
   "cell_type": "code",
   "execution_count": 24,
   "metadata": {},
   "outputs": [
    {
     "data": {
      "image/png": "[encoded data removed]",
      "text/plain": [
       "<Figure size 720x720 with 1 Axes>"
      ]
     },
     "metadata": {
      "needs_background": "light"
     },
     "output_type": "display_data"
    }
   ],
   "source": [
    "\n",
    "df.groupby(['platform', 'year_of_release'])['total_sales'].sum().unstack('platform').plot(\n",
    "title='Продажи игр за всё время',\n",
    "xlabel= 'Год',\n",
    "ylabel= 'Продажи',\n",
    "figsize=(10, 10))\n",
    "plt.show()"
   ]
  },
  {
   "cell_type": "code",
   "execution_count": 25,
   "metadata": {},
   "outputs": [
    {
     "data": {
      "image/png": "[encoded data removed]",
      "text/plain": [
       "<Figure size 1080x720 with 1 Axes>"
      ]
     },
     "metadata": {
      "needs_background": "light"
     },
     "output_type": "display_data"
    }
   ],
   "source": [
    "\n",
    "df.groupby(['platform', 'year_of_release'])['name'].count().unstack('platform').plot(\n",
    "title='Количество вышедших игр за всё время',\n",
    "xlabel= 'Год',\n",
    "ylabel= 'количество',\n",
    "figsize=(15, 10))\n",
    "plt.show()"
   ]
  },
  {
   "cell_type": "markdown",
   "metadata": {},
   "source": [
    "Взглянем на эти два графика. Так как цель получить актуальные данные для 2017 года, видно что рынок значительно вырос и данные до 2000 года для нас не актуальны. Так же видим что цикл жизни платформы 5-7 лет, за исключением PC. Если нужно будет делать прогноз по рынку в целом, то нужно будет оставить графу с PC в любом случае. Если нужно будет делать прогноз для набирающих популярность платформам, то нужно будет строить прогноз на основе схожих данных платформы. То есть, из графика следует что самой популярной была WII, но это консоль можно брать с собой, поэтому её продажи не повлияют на продажи стационарных платформ. "
   ]
  },
  {
   "cell_type": "markdown",
   "metadata": {},
   "source": [
    "**Оставим только актуальный период**"
   ]
  },
  {
   "cell_type": "markdown",
   "metadata": {},
   "source": [
    "### Выбор только актуального периода. "
   ]
  },
  {
   "cell_type": "code",
   "execution_count": 26,
   "metadata": {},
   "outputs": [
    {
     "data": {
      "text/html": [
       "<div>\n",
       "<style scoped>\n",
       "    .dataframe tbody tr th:only-of-type {\n",
       "        vertical-align: middle;\n",
       "    }\n",
       "\n",
       "    .dataframe tbody tr th {\n",
       "        vertical-align: top;\n",
       "    }\n",
       "\n",
       "    .dataframe thead th {\n",
       "        text-align: right;\n",
       "    }\n",
       "</style>\n",
       "<table border=\"1\" class=\"dataframe\">\n",
       "  <thead>\n",
       "    <tr style=\"text-align: right;\">\n",
       "      <th></th>\n",
       "      <th>name</th>\n",
       "      <th>platform</th>\n",
       "      <th>year_of_release</th>\n",
       "      <th>genre</th>\n",
       "      <th>na_sales</th>\n",
       "      <th>eu_sales</th>\n",
       "      <th>jp_sales</th>\n",
       "      <th>other_sales</th>\n",
       "      <th>critic_score</th>\n",
       "      <th>user_score</th>\n",
       "      <th>rating</th>\n",
       "      <th>total_sales</th>\n",
       "    </tr>\n",
       "  </thead>\n",
       "  <tbody>\n",
       "    <tr>\n",
       "      <th>16</th>\n",
       "      <td>Grand Theft Auto V</td>\n",
       "      <td>PS3</td>\n",
       "      <td>2013</td>\n",
       "      <td>Action</td>\n",
       "      <td>7.02</td>\n",
       "      <td>9.09</td>\n",
       "      <td>0.98</td>\n",
       "      <td>3.96</td>\n",
       "      <td>97.0</td>\n",
       "      <td>8.2</td>\n",
       "      <td>M</td>\n",
       "      <td>14.03</td>\n",
       "    </tr>\n",
       "    <tr>\n",
       "      <th>23</th>\n",
       "      <td>Grand Theft Auto V</td>\n",
       "      <td>X360</td>\n",
       "      <td>2013</td>\n",
       "      <td>Action</td>\n",
       "      <td>9.66</td>\n",
       "      <td>5.14</td>\n",
       "      <td>0.06</td>\n",
       "      <td>1.41</td>\n",
       "      <td>97.0</td>\n",
       "      <td>8.1</td>\n",
       "      <td>M</td>\n",
       "      <td>6.61</td>\n",
       "    </tr>\n",
       "    <tr>\n",
       "      <th>31</th>\n",
       "      <td>Call of Duty: Black Ops 3</td>\n",
       "      <td>PS4</td>\n",
       "      <td>2015</td>\n",
       "      <td>Shooter</td>\n",
       "      <td>6.03</td>\n",
       "      <td>5.86</td>\n",
       "      <td>0.36</td>\n",
       "      <td>2.38</td>\n",
       "      <td>NaN</td>\n",
       "      <td>NaN</td>\n",
       "      <td>нет данных</td>\n",
       "      <td>8.60</td>\n",
       "    </tr>\n",
       "    <tr>\n",
       "      <th>33</th>\n",
       "      <td>Pokemon X/Pokemon Y</td>\n",
       "      <td>3DS</td>\n",
       "      <td>2013</td>\n",
       "      <td>Role-Playing</td>\n",
       "      <td>5.28</td>\n",
       "      <td>4.19</td>\n",
       "      <td>4.35</td>\n",
       "      <td>0.78</td>\n",
       "      <td>NaN</td>\n",
       "      <td>NaN</td>\n",
       "      <td>нет данных</td>\n",
       "      <td>9.32</td>\n",
       "    </tr>\n",
       "    <tr>\n",
       "      <th>34</th>\n",
       "      <td>Call of Duty: Black Ops II</td>\n",
       "      <td>PS3</td>\n",
       "      <td>2012</td>\n",
       "      <td>Shooter</td>\n",
       "      <td>4.99</td>\n",
       "      <td>5.73</td>\n",
       "      <td>0.65</td>\n",
       "      <td>2.42</td>\n",
       "      <td>83.0</td>\n",
       "      <td>5.3</td>\n",
       "      <td>M</td>\n",
       "      <td>8.80</td>\n",
       "    </tr>\n",
       "    <tr>\n",
       "      <th>...</th>\n",
       "      <td>...</td>\n",
       "      <td>...</td>\n",
       "      <td>...</td>\n",
       "      <td>...</td>\n",
       "      <td>...</td>\n",
       "      <td>...</td>\n",
       "      <td>...</td>\n",
       "      <td>...</td>\n",
       "      <td>...</td>\n",
       "      <td>...</td>\n",
       "      <td>...</td>\n",
       "      <td>...</td>\n",
       "    </tr>\n",
       "    <tr>\n",
       "      <th>16703</th>\n",
       "      <td>Strawberry Nauts</td>\n",
       "      <td>PSV</td>\n",
       "      <td>2016</td>\n",
       "      <td>Adventure</td>\n",
       "      <td>0.00</td>\n",
       "      <td>0.00</td>\n",
       "      <td>0.01</td>\n",
       "      <td>0.00</td>\n",
       "      <td>NaN</td>\n",
       "      <td>NaN</td>\n",
       "      <td>нет данных</td>\n",
       "      <td>0.01</td>\n",
       "    </tr>\n",
       "    <tr>\n",
       "      <th>16707</th>\n",
       "      <td>Aiyoku no Eustia</td>\n",
       "      <td>PSV</td>\n",
       "      <td>2014</td>\n",
       "      <td>Misc</td>\n",
       "      <td>0.00</td>\n",
       "      <td>0.00</td>\n",
       "      <td>0.01</td>\n",
       "      <td>0.00</td>\n",
       "      <td>NaN</td>\n",
       "      <td>NaN</td>\n",
       "      <td>нет данных</td>\n",
       "      <td>0.01</td>\n",
       "    </tr>\n",
       "    <tr>\n",
       "      <th>16710</th>\n",
       "      <td>Samurai Warriors: Sanada Maru</td>\n",
       "      <td>PS3</td>\n",
       "      <td>2016</td>\n",
       "      <td>Action</td>\n",
       "      <td>0.00</td>\n",
       "      <td>0.00</td>\n",
       "      <td>0.01</td>\n",
       "      <td>0.00</td>\n",
       "      <td>NaN</td>\n",
       "      <td>NaN</td>\n",
       "      <td>нет данных</td>\n",
       "      <td>0.01</td>\n",
       "    </tr>\n",
       "    <tr>\n",
       "      <th>16712</th>\n",
       "      <td>Haitaka no Psychedelica</td>\n",
       "      <td>PSV</td>\n",
       "      <td>2016</td>\n",
       "      <td>Adventure</td>\n",
       "      <td>0.00</td>\n",
       "      <td>0.00</td>\n",
       "      <td>0.01</td>\n",
       "      <td>0.00</td>\n",
       "      <td>NaN</td>\n",
       "      <td>NaN</td>\n",
       "      <td>нет данных</td>\n",
       "      <td>0.01</td>\n",
       "    </tr>\n",
       "    <tr>\n",
       "      <th>16714</th>\n",
       "      <td>Winning Post 8 2016</td>\n",
       "      <td>PSV</td>\n",
       "      <td>2016</td>\n",
       "      <td>Simulation</td>\n",
       "      <td>0.00</td>\n",
       "      <td>0.00</td>\n",
       "      <td>0.01</td>\n",
       "      <td>0.00</td>\n",
       "      <td>NaN</td>\n",
       "      <td>NaN</td>\n",
       "      <td>нет данных</td>\n",
       "      <td>0.01</td>\n",
       "    </tr>\n",
       "  </tbody>\n",
       "</table>\n",
       "<p>2886 rows × 12 columns</p>\n",
       "</div>"
      ],
      "text/plain": [
       "                                name platform  year_of_release         genre  \\\n",
       "16                Grand Theft Auto V      PS3             2013        Action   \n",
       "23                Grand Theft Auto V     X360             2013        Action   \n",
       "31         Call of Duty: Black Ops 3      PS4             2015       Shooter   \n",
       "33               Pokemon X/Pokemon Y      3DS             2013  Role-Playing   \n",
       "34        Call of Duty: Black Ops II      PS3             2012       Shooter   \n",
       "...                              ...      ...              ...           ...   \n",
       "16703               Strawberry Nauts      PSV             2016     Adventure   \n",
       "16707               Aiyoku no Eustia      PSV             2014          Misc   \n",
       "16710  Samurai Warriors: Sanada Maru      PS3             2016        Action   \n",
       "16712        Haitaka no Psychedelica      PSV             2016     Adventure   \n",
       "16714            Winning Post 8 2016      PSV             2016    Simulation   \n",
       "\n",
       "       na_sales  eu_sales  jp_sales  other_sales  critic_score  user_score  \\\n",
       "16         7.02      9.09      0.98         3.96          97.0         8.2   \n",
       "23         9.66      5.14      0.06         1.41          97.0         8.1   \n",
       "31         6.03      5.86      0.36         2.38           NaN         NaN   \n",
       "33         5.28      4.19      4.35         0.78           NaN         NaN   \n",
       "34         4.99      5.73      0.65         2.42          83.0         5.3   \n",
       "...         ...       ...       ...          ...           ...         ...   \n",
       "16703      0.00      0.00      0.01         0.00           NaN         NaN   \n",
       "16707      0.00      0.00      0.01         0.00           NaN         NaN   \n",
       "16710      0.00      0.00      0.01         0.00           NaN         NaN   \n",
       "16712      0.00      0.00      0.01         0.00           NaN         NaN   \n",
       "16714      0.00      0.00      0.01         0.00           NaN         NaN   \n",
       "\n",
       "           rating  total_sales  \n",
       "16              M        14.03  \n",
       "23              M         6.61  \n",
       "31     нет данных         8.60  \n",
       "33     нет данных         9.32  \n",
       "34              M         8.80  \n",
       "...           ...          ...  \n",
       "16703  нет данных         0.01  \n",
       "16707  нет данных         0.01  \n",
       "16710  нет данных         0.01  \n",
       "16712  нет данных         0.01  \n",
       "16714  нет данных         0.01  \n",
       "\n",
       "[2886 rows x 12 columns]"
      ]
     },
     "execution_count": 26,
     "metadata": {},
     "output_type": "execute_result"
    }
   ],
   "source": [
    "df_new = df.query('year_of_release>=2012')\n",
    "df_new"
   ]
  },
  {
   "cell_type": "markdown",
   "metadata": {},
   "source": [
    "### Продажи за актуальный период"
   ]
  },
  {
   "cell_type": "code",
   "execution_count": 27,
   "metadata": {},
   "outputs": [
    {
     "data": {
      "image/png": "[encoded data removed]",
      "text/plain": [
       "<Figure size 1080x720 with 1 Axes>"
      ]
     },
     "metadata": {
      "needs_background": "light"
     },
     "output_type": "display_data"
    }
   ],
   "source": [
    "\n",
    "df_new.groupby(['platform','year_of_release'])['total_sales'].sum().unstack('platform').plot(\n",
    "title='Продажи игр c 2012 года',\n",
    "xlabel= 'Год',\n",
    "ylabel= 'Продажи',\n",
    "figsize=(15, 10))\n",
    "plt.show()"
   ]
  },
  {
   "cell_type": "markdown",
   "metadata": {},
   "source": [
    "Судя по графику, то продажи на PS4 уже падают, и если посмотреть на пересечение графика PS3 и PS4 ближе к концу 2014 года, то можно ожидать новую платформы в 2017 году, которая оживит продажи."
   ]
  },
  {
   "cell_type": "code",
   "execution_count": 28,
   "metadata": {},
   "outputs": [
    {
     "data": {
      "text/html": [
       "<div>\n",
       "<style scoped>\n",
       "    .dataframe tbody tr th:only-of-type {\n",
       "        vertical-align: middle;\n",
       "    }\n",
       "\n",
       "    .dataframe tbody tr th {\n",
       "        vertical-align: top;\n",
       "    }\n",
       "\n",
       "    .dataframe thead th {\n",
       "        text-align: right;\n",
       "    }\n",
       "</style>\n",
       "<table border=\"1\" class=\"dataframe\">\n",
       "  <thead>\n",
       "    <tr style=\"text-align: right;\">\n",
       "      <th></th>\n",
       "      <th>platform</th>\n",
       "      <th>total_sales</th>\n",
       "    </tr>\n",
       "  </thead>\n",
       "  <tbody>\n",
       "    <tr>\n",
       "      <th>4</th>\n",
       "      <td>PS4</td>\n",
       "      <td>205.40</td>\n",
       "    </tr>\n",
       "    <tr>\n",
       "      <th>3</th>\n",
       "      <td>PS3</td>\n",
       "      <td>185.41</td>\n",
       "    </tr>\n",
       "    <tr>\n",
       "      <th>0</th>\n",
       "      <td>3DS</td>\n",
       "      <td>139.30</td>\n",
       "    </tr>\n",
       "    <tr>\n",
       "      <th>9</th>\n",
       "      <td>X360</td>\n",
       "      <td>96.49</td>\n",
       "    </tr>\n",
       "    <tr>\n",
       "      <th>10</th>\n",
       "      <td>XOne</td>\n",
       "      <td>66.20</td>\n",
       "    </tr>\n",
       "    <tr>\n",
       "      <th>8</th>\n",
       "      <td>WiiU</td>\n",
       "      <td>44.09</td>\n",
       "    </tr>\n",
       "    <tr>\n",
       "      <th>2</th>\n",
       "      <td>PC</td>\n",
       "      <td>43.53</td>\n",
       "    </tr>\n",
       "    <tr>\n",
       "      <th>6</th>\n",
       "      <td>PSV</td>\n",
       "      <td>38.20</td>\n",
       "    </tr>\n",
       "    <tr>\n",
       "      <th>7</th>\n",
       "      <td>Wii</td>\n",
       "      <td>17.92</td>\n",
       "    </tr>\n",
       "    <tr>\n",
       "      <th>5</th>\n",
       "      <td>PSP</td>\n",
       "      <td>11.06</td>\n",
       "    </tr>\n",
       "    <tr>\n",
       "      <th>1</th>\n",
       "      <td>DS</td>\n",
       "      <td>7.96</td>\n",
       "    </tr>\n",
       "  </tbody>\n",
       "</table>\n",
       "</div>"
      ],
      "text/plain": [
       "   platform  total_sales\n",
       "4       PS4       205.40\n",
       "3       PS3       185.41\n",
       "0       3DS       139.30\n",
       "9      X360        96.49\n",
       "10     XOne        66.20\n",
       "8      WiiU        44.09\n",
       "2        PC        43.53\n",
       "6       PSV        38.20\n",
       "7       Wii        17.92\n",
       "5       PSP        11.06\n",
       "1        DS         7.96"
      ]
     },
     "execution_count": 28,
     "metadata": {},
     "output_type": "execute_result"
    }
   ],
   "source": [
    "\n",
    "\n",
    "\n",
    "df_sort = df_new.groupby(['platform'])['total_sales'].sum().reset_index().sort_values('total_sales', ascending=False)\n",
    "\n",
    "df_sort"
   ]
  },
  {
   "cell_type": "markdown",
   "metadata": {},
   "source": [
    "### Продажи на всех платформах за актуальный период."
   ]
  },
  {
   "cell_type": "code",
   "execution_count": 29,
   "metadata": {},
   "outputs": [
    {
     "data": {
      "image/png": "[encoded data removed]",
      "text/plain": [
       "<Figure size 1296x360 with 1 Axes>"
      ]
     },
     "metadata": {
      "needs_background": "light"
     },
     "output_type": "display_data"
    }
   ],
   "source": [
    "\n",
    "plt.figure(figsize=(18,5))\n",
    "ax = sns.barplot(data=df_sort, x='total_sales', y='platform');\n",
    "ax.set(title='Продажи на всех платформах',xlabel='платформа', ylabel='продажи')\n",
    "plt.xlim()\n",
    "plt.show()"
   ]
  },
  {
   "cell_type": "markdown",
   "metadata": {},
   "source": [
    "Самая популярная платформа PS4, далее идет PS3. В пятерку популярных платформ входит WiiU. "
   ]
  },
  {
   "cell_type": "code",
   "execution_count": 30,
   "metadata": {},
   "outputs": [
    {
     "data": {
      "text/html": [
       "<div>\n",
       "<style scoped>\n",
       "    .dataframe tbody tr th:only-of-type {\n",
       "        vertical-align: middle;\n",
       "    }\n",
       "\n",
       "    .dataframe tbody tr th {\n",
       "        vertical-align: top;\n",
       "    }\n",
       "\n",
       "    .dataframe thead th {\n",
       "        text-align: right;\n",
       "    }\n",
       "</style>\n",
       "<table border=\"1\" class=\"dataframe\">\n",
       "  <thead>\n",
       "    <tr style=\"text-align: right;\">\n",
       "      <th></th>\n",
       "      <th>platform</th>\n",
       "      <th>count_games</th>\n",
       "    </tr>\n",
       "  </thead>\n",
       "  <tbody>\n",
       "    <tr>\n",
       "      <th>3</th>\n",
       "      <td>PS3</td>\n",
       "      <td>493</td>\n",
       "    </tr>\n",
       "    <tr>\n",
       "      <th>6</th>\n",
       "      <td>PSV</td>\n",
       "      <td>411</td>\n",
       "    </tr>\n",
       "    <tr>\n",
       "      <th>0</th>\n",
       "      <td>3DS</td>\n",
       "      <td>396</td>\n",
       "    </tr>\n",
       "    <tr>\n",
       "      <th>4</th>\n",
       "      <td>PS4</td>\n",
       "      <td>392</td>\n",
       "    </tr>\n",
       "    <tr>\n",
       "      <th>9</th>\n",
       "      <td>X360</td>\n",
       "      <td>292</td>\n",
       "    </tr>\n",
       "    <tr>\n",
       "      <th>2</th>\n",
       "      <td>PC</td>\n",
       "      <td>250</td>\n",
       "    </tr>\n",
       "    <tr>\n",
       "      <th>10</th>\n",
       "      <td>XOne</td>\n",
       "      <td>247</td>\n",
       "    </tr>\n",
       "    <tr>\n",
       "      <th>5</th>\n",
       "      <td>PSP</td>\n",
       "      <td>173</td>\n",
       "    </tr>\n",
       "    <tr>\n",
       "      <th>8</th>\n",
       "      <td>WiiU</td>\n",
       "      <td>147</td>\n",
       "    </tr>\n",
       "    <tr>\n",
       "      <th>7</th>\n",
       "      <td>Wii</td>\n",
       "      <td>54</td>\n",
       "    </tr>\n",
       "    <tr>\n",
       "      <th>1</th>\n",
       "      <td>DS</td>\n",
       "      <td>31</td>\n",
       "    </tr>\n",
       "  </tbody>\n",
       "</table>\n",
       "</div>"
      ],
      "text/plain": [
       "   platform  count_games\n",
       "3       PS3          493\n",
       "6       PSV          411\n",
       "0       3DS          396\n",
       "4       PS4          392\n",
       "9      X360          292\n",
       "2        PC          250\n",
       "10     XOne          247\n",
       "5       PSP          173\n",
       "8      WiiU          147\n",
       "7       Wii           54\n",
       "1        DS           31"
      ]
     },
     "metadata": {},
     "output_type": "display_data"
    },
    {
     "data": {
      "image/png": "[encoded data removed]",
      "text/plain": [
       "<Figure size 1296x360 with 1 Axes>"
      ]
     },
     "metadata": {
      "needs_background": "light"
     },
     "output_type": "display_data"
    }
   ],
   "source": [
    "count_game = df_new.groupby([ 'platform']).agg(count_games=('name', 'count'))\n",
    "count_game = count_game.reset_index().sort_values('count_games', ascending=False)\n",
    "display(count_game)\n",
    "plt.figure(figsize=(18,5))\n",
    "ax = sns.barplot(data=count_game, x='count_games', y='platform',palette = \"husl\" );\n",
    "ax.set(title='количество игр на платформах', xlabel='платформа', ylabel='количество игр')\n",
    "\n",
    "\n",
    "plt.xlim()\n",
    "plt.show()"
   ]
  },
  {
   "cell_type": "code",
   "execution_count": 31,
   "metadata": {},
   "outputs": [
    {
     "data": {
      "text/html": [
       "<div>\n",
       "<style scoped>\n",
       "    .dataframe tbody tr th:only-of-type {\n",
       "        vertical-align: middle;\n",
       "    }\n",
       "\n",
       "    .dataframe tbody tr th {\n",
       "        vertical-align: top;\n",
       "    }\n",
       "\n",
       "    .dataframe thead th {\n",
       "        text-align: right;\n",
       "    }\n",
       "</style>\n",
       "<table border=\"1\" class=\"dataframe\">\n",
       "  <thead>\n",
       "    <tr style=\"text-align: right;\">\n",
       "      <th></th>\n",
       "      <th>platform</th>\n",
       "      <th>year_of_release</th>\n",
       "      <th>sum_sales</th>\n",
       "    </tr>\n",
       "  </thead>\n",
       "  <tbody>\n",
       "    <tr>\n",
       "      <th>0</th>\n",
       "      <td>3DS</td>\n",
       "      <td>2012</td>\n",
       "      <td>34.25</td>\n",
       "    </tr>\n",
       "    <tr>\n",
       "      <th>1</th>\n",
       "      <td>3DS</td>\n",
       "      <td>2013</td>\n",
       "      <td>41.01</td>\n",
       "    </tr>\n",
       "    <tr>\n",
       "      <th>2</th>\n",
       "      <td>3DS</td>\n",
       "      <td>2014</td>\n",
       "      <td>31.43</td>\n",
       "    </tr>\n",
       "    <tr>\n",
       "      <th>3</th>\n",
       "      <td>3DS</td>\n",
       "      <td>2015</td>\n",
       "      <td>21.61</td>\n",
       "    </tr>\n",
       "    <tr>\n",
       "      <th>4</th>\n",
       "      <td>3DS</td>\n",
       "      <td>2016</td>\n",
       "      <td>11.00</td>\n",
       "    </tr>\n",
       "    <tr>\n",
       "      <th>5</th>\n",
       "      <td>DS</td>\n",
       "      <td>2012</td>\n",
       "      <td>6.99</td>\n",
       "    </tr>\n",
       "    <tr>\n",
       "      <th>6</th>\n",
       "      <td>DS</td>\n",
       "      <td>2013</td>\n",
       "      <td>0.97</td>\n",
       "    </tr>\n",
       "    <tr>\n",
       "      <th>7</th>\n",
       "      <td>PC</td>\n",
       "      <td>2012</td>\n",
       "      <td>15.21</td>\n",
       "    </tr>\n",
       "    <tr>\n",
       "      <th>8</th>\n",
       "      <td>PC</td>\n",
       "      <td>2013</td>\n",
       "      <td>8.50</td>\n",
       "    </tr>\n",
       "    <tr>\n",
       "      <th>9</th>\n",
       "      <td>PC</td>\n",
       "      <td>2014</td>\n",
       "      <td>9.77</td>\n",
       "    </tr>\n",
       "    <tr>\n",
       "      <th>10</th>\n",
       "      <td>PC</td>\n",
       "      <td>2015</td>\n",
       "      <td>6.16</td>\n",
       "    </tr>\n",
       "    <tr>\n",
       "      <th>11</th>\n",
       "      <td>PC</td>\n",
       "      <td>2016</td>\n",
       "      <td>3.89</td>\n",
       "    </tr>\n",
       "    <tr>\n",
       "      <th>12</th>\n",
       "      <td>PS3</td>\n",
       "      <td>2012</td>\n",
       "      <td>67.48</td>\n",
       "    </tr>\n",
       "    <tr>\n",
       "      <th>13</th>\n",
       "      <td>PS3</td>\n",
       "      <td>2013</td>\n",
       "      <td>71.80</td>\n",
       "    </tr>\n",
       "    <tr>\n",
       "      <th>14</th>\n",
       "      <td>PS3</td>\n",
       "      <td>2014</td>\n",
       "      <td>31.37</td>\n",
       "    </tr>\n",
       "    <tr>\n",
       "      <th>15</th>\n",
       "      <td>PS3</td>\n",
       "      <td>2015</td>\n",
       "      <td>11.83</td>\n",
       "    </tr>\n",
       "    <tr>\n",
       "      <th>16</th>\n",
       "      <td>PS3</td>\n",
       "      <td>2016</td>\n",
       "      <td>2.93</td>\n",
       "    </tr>\n",
       "    <tr>\n",
       "      <th>17</th>\n",
       "      <td>PS4</td>\n",
       "      <td>2013</td>\n",
       "      <td>15.86</td>\n",
       "    </tr>\n",
       "    <tr>\n",
       "      <th>18</th>\n",
       "      <td>PS4</td>\n",
       "      <td>2014</td>\n",
       "      <td>65.25</td>\n",
       "    </tr>\n",
       "    <tr>\n",
       "      <th>19</th>\n",
       "      <td>PS4</td>\n",
       "      <td>2015</td>\n",
       "      <td>76.53</td>\n",
       "    </tr>\n",
       "    <tr>\n",
       "      <th>20</th>\n",
       "      <td>PS4</td>\n",
       "      <td>2016</td>\n",
       "      <td>47.76</td>\n",
       "    </tr>\n",
       "    <tr>\n",
       "      <th>21</th>\n",
       "      <td>PSP</td>\n",
       "      <td>2012</td>\n",
       "      <td>7.56</td>\n",
       "    </tr>\n",
       "    <tr>\n",
       "      <th>22</th>\n",
       "      <td>PSP</td>\n",
       "      <td>2013</td>\n",
       "      <td>3.14</td>\n",
       "    </tr>\n",
       "    <tr>\n",
       "      <th>23</th>\n",
       "      <td>PSP</td>\n",
       "      <td>2014</td>\n",
       "      <td>0.24</td>\n",
       "    </tr>\n",
       "    <tr>\n",
       "      <th>24</th>\n",
       "      <td>PSP</td>\n",
       "      <td>2015</td>\n",
       "      <td>0.12</td>\n",
       "    </tr>\n",
       "    <tr>\n",
       "      <th>25</th>\n",
       "      <td>PSV</td>\n",
       "      <td>2012</td>\n",
       "      <td>10.25</td>\n",
       "    </tr>\n",
       "    <tr>\n",
       "      <th>26</th>\n",
       "      <td>PSV</td>\n",
       "      <td>2013</td>\n",
       "      <td>8.07</td>\n",
       "    </tr>\n",
       "    <tr>\n",
       "      <th>27</th>\n",
       "      <td>PSV</td>\n",
       "      <td>2014</td>\n",
       "      <td>9.92</td>\n",
       "    </tr>\n",
       "    <tr>\n",
       "      <th>28</th>\n",
       "      <td>PSV</td>\n",
       "      <td>2015</td>\n",
       "      <td>5.86</td>\n",
       "    </tr>\n",
       "    <tr>\n",
       "      <th>29</th>\n",
       "      <td>PSV</td>\n",
       "      <td>2016</td>\n",
       "      <td>4.10</td>\n",
       "    </tr>\n",
       "    <tr>\n",
       "      <th>30</th>\n",
       "      <td>Wii</td>\n",
       "      <td>2012</td>\n",
       "      <td>10.82</td>\n",
       "    </tr>\n",
       "    <tr>\n",
       "      <th>31</th>\n",
       "      <td>Wii</td>\n",
       "      <td>2013</td>\n",
       "      <td>4.11</td>\n",
       "    </tr>\n",
       "    <tr>\n",
       "      <th>32</th>\n",
       "      <td>Wii</td>\n",
       "      <td>2014</td>\n",
       "      <td>2.16</td>\n",
       "    </tr>\n",
       "    <tr>\n",
       "      <th>33</th>\n",
       "      <td>Wii</td>\n",
       "      <td>2015</td>\n",
       "      <td>0.71</td>\n",
       "    </tr>\n",
       "    <tr>\n",
       "      <th>34</th>\n",
       "      <td>Wii</td>\n",
       "      <td>2016</td>\n",
       "      <td>0.12</td>\n",
       "    </tr>\n",
       "    <tr>\n",
       "      <th>35</th>\n",
       "      <td>WiiU</td>\n",
       "      <td>2012</td>\n",
       "      <td>8.67</td>\n",
       "    </tr>\n",
       "    <tr>\n",
       "      <th>36</th>\n",
       "      <td>WiiU</td>\n",
       "      <td>2013</td>\n",
       "      <td>11.80</td>\n",
       "    </tr>\n",
       "    <tr>\n",
       "      <th>37</th>\n",
       "      <td>WiiU</td>\n",
       "      <td>2014</td>\n",
       "      <td>11.53</td>\n",
       "    </tr>\n",
       "    <tr>\n",
       "      <th>38</th>\n",
       "      <td>WiiU</td>\n",
       "      <td>2015</td>\n",
       "      <td>9.59</td>\n",
       "    </tr>\n",
       "    <tr>\n",
       "      <th>39</th>\n",
       "      <td>WiiU</td>\n",
       "      <td>2016</td>\n",
       "      <td>2.50</td>\n",
       "    </tr>\n",
       "    <tr>\n",
       "      <th>40</th>\n",
       "      <td>X360</td>\n",
       "      <td>2012</td>\n",
       "      <td>41.35</td>\n",
       "    </tr>\n",
       "    <tr>\n",
       "      <th>41</th>\n",
       "      <td>X360</td>\n",
       "      <td>2013</td>\n",
       "      <td>35.22</td>\n",
       "    </tr>\n",
       "    <tr>\n",
       "      <th>42</th>\n",
       "      <td>X360</td>\n",
       "      <td>2014</td>\n",
       "      <td>14.49</td>\n",
       "    </tr>\n",
       "    <tr>\n",
       "      <th>43</th>\n",
       "      <td>X360</td>\n",
       "      <td>2015</td>\n",
       "      <td>4.60</td>\n",
       "    </tr>\n",
       "    <tr>\n",
       "      <th>44</th>\n",
       "      <td>X360</td>\n",
       "      <td>2016</td>\n",
       "      <td>0.83</td>\n",
       "    </tr>\n",
       "    <tr>\n",
       "      <th>45</th>\n",
       "      <td>XOne</td>\n",
       "      <td>2013</td>\n",
       "      <td>7.11</td>\n",
       "    </tr>\n",
       "    <tr>\n",
       "      <th>46</th>\n",
       "      <td>XOne</td>\n",
       "      <td>2014</td>\n",
       "      <td>23.10</td>\n",
       "    </tr>\n",
       "    <tr>\n",
       "      <th>47</th>\n",
       "      <td>XOne</td>\n",
       "      <td>2015</td>\n",
       "      <td>24.11</td>\n",
       "    </tr>\n",
       "    <tr>\n",
       "      <th>48</th>\n",
       "      <td>XOne</td>\n",
       "      <td>2016</td>\n",
       "      <td>11.88</td>\n",
       "    </tr>\n",
       "  </tbody>\n",
       "</table>\n",
       "</div>"
      ],
      "text/plain": [
       "   platform  year_of_release  sum_sales\n",
       "0       3DS             2012      34.25\n",
       "1       3DS             2013      41.01\n",
       "2       3DS             2014      31.43\n",
       "3       3DS             2015      21.61\n",
       "4       3DS             2016      11.00\n",
       "5        DS             2012       6.99\n",
       "6        DS             2013       0.97\n",
       "7        PC             2012      15.21\n",
       "8        PC             2013       8.50\n",
       "9        PC             2014       9.77\n",
       "10       PC             2015       6.16\n",
       "11       PC             2016       3.89\n",
       "12      PS3             2012      67.48\n",
       "13      PS3             2013      71.80\n",
       "14      PS3             2014      31.37\n",
       "15      PS3             2015      11.83\n",
       "16      PS3             2016       2.93\n",
       "17      PS4             2013      15.86\n",
       "18      PS4             2014      65.25\n",
       "19      PS4             2015      76.53\n",
       "20      PS4             2016      47.76\n",
       "21      PSP             2012       7.56\n",
       "22      PSP             2013       3.14\n",
       "23      PSP             2014       0.24\n",
       "24      PSP             2015       0.12\n",
       "25      PSV             2012      10.25\n",
       "26      PSV             2013       8.07\n",
       "27      PSV             2014       9.92\n",
       "28      PSV             2015       5.86\n",
       "29      PSV             2016       4.10\n",
       "30      Wii             2012      10.82\n",
       "31      Wii             2013       4.11\n",
       "32      Wii             2014       2.16\n",
       "33      Wii             2015       0.71\n",
       "34      Wii             2016       0.12\n",
       "35     WiiU             2012       8.67\n",
       "36     WiiU             2013      11.80\n",
       "37     WiiU             2014      11.53\n",
       "38     WiiU             2015       9.59\n",
       "39     WiiU             2016       2.50\n",
       "40     X360             2012      41.35\n",
       "41     X360             2013      35.22\n",
       "42     X360             2014      14.49\n",
       "43     X360             2015       4.60\n",
       "44     X360             2016       0.83\n",
       "45     XOne             2013       7.11\n",
       "46     XOne             2014      23.10\n",
       "47     XOne             2015      24.11\n",
       "48     XOne             2016      11.88"
      ]
     },
     "execution_count": 31,
     "metadata": {},
     "output_type": "execute_result"
    }
   ],
   "source": [
    "df_plot = df_new.groupby([ 'platform', 'year_of_release']).agg(sum_sales=('total_sales', 'sum')).reset_index()\n",
    "\n",
    "df_plot"
   ]
  },
  {
   "cell_type": "markdown",
   "metadata": {},
   "source": [
    "### Самые прибыльные платформы за актуальный период."
   ]
  },
  {
   "cell_type": "code",
   "execution_count": 32,
   "metadata": {},
   "outputs": [
    {
     "data": {
      "image/png": "[encoded data removed]",
      "text/plain": [
       "<Figure size 1296x360 with 1 Axes>"
      ]
     },
     "metadata": {
      "needs_background": "light"
     },
     "output_type": "display_data"
    }
   ],
   "source": [
    "plt.figure(figsize=(18,5))\n",
    "ax = sns.barplot( x ='platform'  ,y='sum_sales', hue ='year_of_release', data = df_plot)\n",
    "\n",
    "\n",
    "ax.set(title='Продажи на всех платформах',xlabel='платформа', ylabel='продажи')\n",
    "plt.legend(title='Год', loc='upper left')\n",
    "plt.xlim()\n",
    "plt.show()"
   ]
  },
  {
   "cell_type": "code",
   "execution_count": 33,
   "metadata": {},
   "outputs": [
    {
     "data": {
      "text/html": [
       "<div>\n",
       "<style scoped>\n",
       "    .dataframe tbody tr th:only-of-type {\n",
       "        vertical-align: middle;\n",
       "    }\n",
       "\n",
       "    .dataframe tbody tr th {\n",
       "        vertical-align: top;\n",
       "    }\n",
       "\n",
       "    .dataframe thead th {\n",
       "        text-align: right;\n",
       "    }\n",
       "</style>\n",
       "<table border=\"1\" class=\"dataframe\">\n",
       "  <thead>\n",
       "    <tr style=\"text-align: right;\">\n",
       "      <th></th>\n",
       "      <th>platform</th>\n",
       "      <th>year_of_release</th>\n",
       "      <th>sum_sales</th>\n",
       "    </tr>\n",
       "  </thead>\n",
       "  <tbody>\n",
       "    <tr>\n",
       "      <th>19</th>\n",
       "      <td>PS4</td>\n",
       "      <td>2015</td>\n",
       "      <td>76.53</td>\n",
       "    </tr>\n",
       "    <tr>\n",
       "      <th>20</th>\n",
       "      <td>PS4</td>\n",
       "      <td>2016</td>\n",
       "      <td>47.76</td>\n",
       "    </tr>\n",
       "    <tr>\n",
       "      <th>47</th>\n",
       "      <td>XOne</td>\n",
       "      <td>2015</td>\n",
       "      <td>24.11</td>\n",
       "    </tr>\n",
       "    <tr>\n",
       "      <th>3</th>\n",
       "      <td>3DS</td>\n",
       "      <td>2015</td>\n",
       "      <td>21.61</td>\n",
       "    </tr>\n",
       "    <tr>\n",
       "      <th>48</th>\n",
       "      <td>XOne</td>\n",
       "      <td>2016</td>\n",
       "      <td>11.88</td>\n",
       "    </tr>\n",
       "    <tr>\n",
       "      <th>15</th>\n",
       "      <td>PS3</td>\n",
       "      <td>2015</td>\n",
       "      <td>11.83</td>\n",
       "    </tr>\n",
       "    <tr>\n",
       "      <th>4</th>\n",
       "      <td>3DS</td>\n",
       "      <td>2016</td>\n",
       "      <td>11.00</td>\n",
       "    </tr>\n",
       "    <tr>\n",
       "      <th>38</th>\n",
       "      <td>WiiU</td>\n",
       "      <td>2015</td>\n",
       "      <td>9.59</td>\n",
       "    </tr>\n",
       "    <tr>\n",
       "      <th>10</th>\n",
       "      <td>PC</td>\n",
       "      <td>2015</td>\n",
       "      <td>6.16</td>\n",
       "    </tr>\n",
       "    <tr>\n",
       "      <th>28</th>\n",
       "      <td>PSV</td>\n",
       "      <td>2015</td>\n",
       "      <td>5.86</td>\n",
       "    </tr>\n",
       "    <tr>\n",
       "      <th>43</th>\n",
       "      <td>X360</td>\n",
       "      <td>2015</td>\n",
       "      <td>4.60</td>\n",
       "    </tr>\n",
       "    <tr>\n",
       "      <th>29</th>\n",
       "      <td>PSV</td>\n",
       "      <td>2016</td>\n",
       "      <td>4.10</td>\n",
       "    </tr>\n",
       "    <tr>\n",
       "      <th>11</th>\n",
       "      <td>PC</td>\n",
       "      <td>2016</td>\n",
       "      <td>3.89</td>\n",
       "    </tr>\n",
       "    <tr>\n",
       "      <th>16</th>\n",
       "      <td>PS3</td>\n",
       "      <td>2016</td>\n",
       "      <td>2.93</td>\n",
       "    </tr>\n",
       "    <tr>\n",
       "      <th>39</th>\n",
       "      <td>WiiU</td>\n",
       "      <td>2016</td>\n",
       "      <td>2.50</td>\n",
       "    </tr>\n",
       "    <tr>\n",
       "      <th>44</th>\n",
       "      <td>X360</td>\n",
       "      <td>2016</td>\n",
       "      <td>0.83</td>\n",
       "    </tr>\n",
       "    <tr>\n",
       "      <th>33</th>\n",
       "      <td>Wii</td>\n",
       "      <td>2015</td>\n",
       "      <td>0.71</td>\n",
       "    </tr>\n",
       "    <tr>\n",
       "      <th>24</th>\n",
       "      <td>PSP</td>\n",
       "      <td>2015</td>\n",
       "      <td>0.12</td>\n",
       "    </tr>\n",
       "    <tr>\n",
       "      <th>34</th>\n",
       "      <td>Wii</td>\n",
       "      <td>2016</td>\n",
       "      <td>0.12</td>\n",
       "    </tr>\n",
       "  </tbody>\n",
       "</table>\n",
       "</div>"
      ],
      "text/plain": [
       "   platform  year_of_release  sum_sales\n",
       "19      PS4             2015      76.53\n",
       "20      PS4             2016      47.76\n",
       "47     XOne             2015      24.11\n",
       "3       3DS             2015      21.61\n",
       "48     XOne             2016      11.88\n",
       "15      PS3             2015      11.83\n",
       "4       3DS             2016      11.00\n",
       "38     WiiU             2015       9.59\n",
       "10       PC             2015       6.16\n",
       "28      PSV             2015       5.86\n",
       "43     X360             2015       4.60\n",
       "29      PSV             2016       4.10\n",
       "11       PC             2016       3.89\n",
       "16      PS3             2016       2.93\n",
       "39     WiiU             2016       2.50\n",
       "44     X360             2016       0.83\n",
       "33      Wii             2015       0.71\n",
       "24      PSP             2015       0.12\n",
       "34      Wii             2016       0.12"
      ]
     },
     "execution_count": 33,
     "metadata": {},
     "output_type": "execute_result"
    }
   ],
   "source": [
    "df_plot.query('year_of_release>=2015').sort_values('sum_sales', ascending=False)"
   ]
  },
  {
   "cell_type": "markdown",
   "metadata": {},
   "source": [
    "Как видно из этого графика, для каждой, даже самой популярной платформы характерно падение общих продаж в 2016 году. "
   ]
  },
  {
   "cell_type": "markdown",
   "metadata": {},
   "source": [
    "Хоть весь рынок и падает, но достаточно прибыльными остаются PS4, Xone и 3DS."
   ]
  },
  {
   "cell_type": "markdown",
   "metadata": {},
   "source": [
    "### Проверка полноты данных за 2016 год."
   ]
  },
  {
   "cell_type": "code",
   "execution_count": 34,
   "metadata": {},
   "outputs": [
    {
     "data": {
      "text/plain": [
       "(0.0, 1.0)"
      ]
     },
     "execution_count": 34,
     "metadata": {},
     "output_type": "execute_result"
    },
    {
     "data": {
      "image/png": "[encoded data removed]",
      "text/plain": [
       "<Figure size 432x288 with 1 Axes>"
      ]
     },
     "metadata": {
      "needs_background": "light"
     },
     "output_type": "display_data"
    }
   ],
   "source": [
    "sns.boxplot(data=df_new, x='year_of_release', y='total_sales', palette = \"husl\")\n",
    "plt.ylim(0,1)"
   ]
  },
  {
   "cell_type": "code",
   "execution_count": 35,
   "metadata": {},
   "outputs": [
    {
     "data": {
      "text/html": [
       "<div>\n",
       "<style scoped>\n",
       "    .dataframe tbody tr th:only-of-type {\n",
       "        vertical-align: middle;\n",
       "    }\n",
       "\n",
       "    .dataframe tbody tr th {\n",
       "        vertical-align: top;\n",
       "    }\n",
       "\n",
       "    .dataframe thead th {\n",
       "        text-align: right;\n",
       "    }\n",
       "</style>\n",
       "<table border=\"1\" class=\"dataframe\">\n",
       "  <thead>\n",
       "    <tr style=\"text-align: right;\">\n",
       "      <th></th>\n",
       "      <th>name</th>\n",
       "      <th>platform</th>\n",
       "      <th>year_of_release</th>\n",
       "      <th>genre</th>\n",
       "      <th>na_sales</th>\n",
       "      <th>eu_sales</th>\n",
       "      <th>jp_sales</th>\n",
       "      <th>other_sales</th>\n",
       "      <th>critic_score</th>\n",
       "      <th>user_score</th>\n",
       "      <th>rating</th>\n",
       "      <th>total_sales</th>\n",
       "    </tr>\n",
       "  </thead>\n",
       "  <tbody>\n",
       "    <tr>\n",
       "      <th>94</th>\n",
       "      <td>FIFA 17</td>\n",
       "      <td>PS4</td>\n",
       "      <td>2016</td>\n",
       "      <td>Sports</td>\n",
       "      <td>0.66</td>\n",
       "      <td>5.75</td>\n",
       "      <td>0.08</td>\n",
       "      <td>1.11</td>\n",
       "      <td>85.0</td>\n",
       "      <td>5.0</td>\n",
       "      <td>E</td>\n",
       "      <td>6.94</td>\n",
       "    </tr>\n",
       "    <tr>\n",
       "      <th>108</th>\n",
       "      <td>Pokemon Sun/Moon</td>\n",
       "      <td>3DS</td>\n",
       "      <td>2016</td>\n",
       "      <td>Role-Playing</td>\n",
       "      <td>2.98</td>\n",
       "      <td>1.45</td>\n",
       "      <td>2.26</td>\n",
       "      <td>0.45</td>\n",
       "      <td>NaN</td>\n",
       "      <td>NaN</td>\n",
       "      <td>нет данных</td>\n",
       "      <td>4.16</td>\n",
       "    </tr>\n",
       "    <tr>\n",
       "      <th>171</th>\n",
       "      <td>Uncharted 4: A Thief's End</td>\n",
       "      <td>PS4</td>\n",
       "      <td>2016</td>\n",
       "      <td>Shooter</td>\n",
       "      <td>1.85</td>\n",
       "      <td>2.50</td>\n",
       "      <td>0.19</td>\n",
       "      <td>0.85</td>\n",
       "      <td>93.0</td>\n",
       "      <td>7.9</td>\n",
       "      <td>T</td>\n",
       "      <td>3.54</td>\n",
       "    </tr>\n",
       "    <tr>\n",
       "      <th>289</th>\n",
       "      <td>Battlefield 1</td>\n",
       "      <td>PS4</td>\n",
       "      <td>2016</td>\n",
       "      <td>Shooter</td>\n",
       "      <td>1.10</td>\n",
       "      <td>2.15</td>\n",
       "      <td>0.21</td>\n",
       "      <td>0.61</td>\n",
       "      <td>88.0</td>\n",
       "      <td>8.4</td>\n",
       "      <td>M</td>\n",
       "      <td>2.97</td>\n",
       "    </tr>\n",
       "    <tr>\n",
       "      <th>245</th>\n",
       "      <td>Call of Duty: Infinite Warfare</td>\n",
       "      <td>PS4</td>\n",
       "      <td>2016</td>\n",
       "      <td>Shooter</td>\n",
       "      <td>1.61</td>\n",
       "      <td>2.00</td>\n",
       "      <td>0.15</td>\n",
       "      <td>0.71</td>\n",
       "      <td>77.0</td>\n",
       "      <td>3.4</td>\n",
       "      <td>M</td>\n",
       "      <td>2.86</td>\n",
       "    </tr>\n",
       "    <tr>\n",
       "      <th>325</th>\n",
       "      <td>Tom Clancy's The Division</td>\n",
       "      <td>PS4</td>\n",
       "      <td>2016</td>\n",
       "      <td>Shooter</td>\n",
       "      <td>1.35</td>\n",
       "      <td>1.70</td>\n",
       "      <td>0.15</td>\n",
       "      <td>0.60</td>\n",
       "      <td>80.0</td>\n",
       "      <td>7.0</td>\n",
       "      <td>M</td>\n",
       "      <td>2.45</td>\n",
       "    </tr>\n",
       "    <tr>\n",
       "      <th>571</th>\n",
       "      <td>FIFA 17</td>\n",
       "      <td>XOne</td>\n",
       "      <td>2016</td>\n",
       "      <td>Sports</td>\n",
       "      <td>0.43</td>\n",
       "      <td>2.05</td>\n",
       "      <td>0.00</td>\n",
       "      <td>0.17</td>\n",
       "      <td>84.0</td>\n",
       "      <td>5.5</td>\n",
       "      <td>E</td>\n",
       "      <td>2.22</td>\n",
       "    </tr>\n",
       "    <tr>\n",
       "      <th>708</th>\n",
       "      <td>Far Cry: Primal</td>\n",
       "      <td>PS4</td>\n",
       "      <td>2016</td>\n",
       "      <td>Action</td>\n",
       "      <td>0.60</td>\n",
       "      <td>1.25</td>\n",
       "      <td>0.06</td>\n",
       "      <td>0.35</td>\n",
       "      <td>76.0</td>\n",
       "      <td>6.3</td>\n",
       "      <td>M</td>\n",
       "      <td>1.66</td>\n",
       "    </tr>\n",
       "    <tr>\n",
       "      <th>968</th>\n",
       "      <td>Mafia III</td>\n",
       "      <td>PS4</td>\n",
       "      <td>2016</td>\n",
       "      <td>Action</td>\n",
       "      <td>0.42</td>\n",
       "      <td>1.08</td>\n",
       "      <td>0.03</td>\n",
       "      <td>0.28</td>\n",
       "      <td>68.0</td>\n",
       "      <td>5.1</td>\n",
       "      <td>M</td>\n",
       "      <td>1.39</td>\n",
       "    </tr>\n",
       "    <tr>\n",
       "      <th>1466</th>\n",
       "      <td>Yokai Watch 3</td>\n",
       "      <td>3DS</td>\n",
       "      <td>2016</td>\n",
       "      <td>Action</td>\n",
       "      <td>0.00</td>\n",
       "      <td>0.00</td>\n",
       "      <td>1.33</td>\n",
       "      <td>0.00</td>\n",
       "      <td>NaN</td>\n",
       "      <td>NaN</td>\n",
       "      <td>нет данных</td>\n",
       "      <td>1.33</td>\n",
       "    </tr>\n",
       "  </tbody>\n",
       "</table>\n",
       "</div>"
      ],
      "text/plain": [
       "                                name platform  year_of_release         genre  \\\n",
       "94                           FIFA 17      PS4             2016        Sports   \n",
       "108                 Pokemon Sun/Moon      3DS             2016  Role-Playing   \n",
       "171       Uncharted 4: A Thief's End      PS4             2016       Shooter   \n",
       "289                    Battlefield 1      PS4             2016       Shooter   \n",
       "245   Call of Duty: Infinite Warfare      PS4             2016       Shooter   \n",
       "325        Tom Clancy's The Division      PS4             2016       Shooter   \n",
       "571                          FIFA 17     XOne             2016        Sports   \n",
       "708                  Far Cry: Primal      PS4             2016        Action   \n",
       "968                        Mafia III      PS4             2016        Action   \n",
       "1466                   Yokai Watch 3      3DS             2016        Action   \n",
       "\n",
       "      na_sales  eu_sales  jp_sales  other_sales  critic_score  user_score  \\\n",
       "94        0.66      5.75      0.08         1.11          85.0         5.0   \n",
       "108       2.98      1.45      2.26         0.45           NaN         NaN   \n",
       "171       1.85      2.50      0.19         0.85          93.0         7.9   \n",
       "289       1.10      2.15      0.21         0.61          88.0         8.4   \n",
       "245       1.61      2.00      0.15         0.71          77.0         3.4   \n",
       "325       1.35      1.70      0.15         0.60          80.0         7.0   \n",
       "571       0.43      2.05      0.00         0.17          84.0         5.5   \n",
       "708       0.60      1.25      0.06         0.35          76.0         6.3   \n",
       "968       0.42      1.08      0.03         0.28          68.0         5.1   \n",
       "1466      0.00      0.00      1.33         0.00           NaN         NaN   \n",
       "\n",
       "          rating  total_sales  \n",
       "94             E         6.94  \n",
       "108   нет данных         4.16  \n",
       "171            T         3.54  \n",
       "289            M         2.97  \n",
       "245            M         2.86  \n",
       "325            M         2.45  \n",
       "571            E         2.22  \n",
       "708            M         1.66  \n",
       "968            M         1.39  \n",
       "1466  нет данных         1.33  "
      ]
     },
     "metadata": {},
     "output_type": "display_data"
    },
    {
     "data": {
      "text/html": [
       "<div>\n",
       "<style scoped>\n",
       "    .dataframe tbody tr th:only-of-type {\n",
       "        vertical-align: middle;\n",
       "    }\n",
       "\n",
       "    .dataframe tbody tr th {\n",
       "        vertical-align: top;\n",
       "    }\n",
       "\n",
       "    .dataframe thead th {\n",
       "        text-align: right;\n",
       "    }\n",
       "</style>\n",
       "<table border=\"1\" class=\"dataframe\">\n",
       "  <thead>\n",
       "    <tr style=\"text-align: right;\">\n",
       "      <th></th>\n",
       "      <th>name</th>\n",
       "      <th>platform</th>\n",
       "      <th>year_of_release</th>\n",
       "      <th>genre</th>\n",
       "      <th>na_sales</th>\n",
       "      <th>eu_sales</th>\n",
       "      <th>jp_sales</th>\n",
       "      <th>other_sales</th>\n",
       "      <th>critic_score</th>\n",
       "      <th>user_score</th>\n",
       "      <th>rating</th>\n",
       "      <th>total_sales</th>\n",
       "    </tr>\n",
       "  </thead>\n",
       "  <tbody>\n",
       "    <tr>\n",
       "      <th>31</th>\n",
       "      <td>Call of Duty: Black Ops 3</td>\n",
       "      <td>PS4</td>\n",
       "      <td>2015</td>\n",
       "      <td>Shooter</td>\n",
       "      <td>6.03</td>\n",
       "      <td>5.86</td>\n",
       "      <td>0.36</td>\n",
       "      <td>2.38</td>\n",
       "      <td>NaN</td>\n",
       "      <td>NaN</td>\n",
       "      <td>нет данных</td>\n",
       "      <td>8.60</td>\n",
       "    </tr>\n",
       "    <tr>\n",
       "      <th>77</th>\n",
       "      <td>FIFA 16</td>\n",
       "      <td>PS4</td>\n",
       "      <td>2015</td>\n",
       "      <td>Sports</td>\n",
       "      <td>1.12</td>\n",
       "      <td>6.12</td>\n",
       "      <td>0.06</td>\n",
       "      <td>1.28</td>\n",
       "      <td>82.0</td>\n",
       "      <td>4.3</td>\n",
       "      <td>E</td>\n",
       "      <td>7.46</td>\n",
       "    </tr>\n",
       "    <tr>\n",
       "      <th>87</th>\n",
       "      <td>Star Wars Battlefront (2015)</td>\n",
       "      <td>PS4</td>\n",
       "      <td>2015</td>\n",
       "      <td>Shooter</td>\n",
       "      <td>2.99</td>\n",
       "      <td>3.49</td>\n",
       "      <td>0.22</td>\n",
       "      <td>1.28</td>\n",
       "      <td>NaN</td>\n",
       "      <td>NaN</td>\n",
       "      <td>нет данных</td>\n",
       "      <td>4.99</td>\n",
       "    </tr>\n",
       "    <tr>\n",
       "      <th>105</th>\n",
       "      <td>Fallout 4</td>\n",
       "      <td>PS4</td>\n",
       "      <td>2015</td>\n",
       "      <td>Role-Playing</td>\n",
       "      <td>2.53</td>\n",
       "      <td>3.27</td>\n",
       "      <td>0.24</td>\n",
       "      <td>1.13</td>\n",
       "      <td>87.0</td>\n",
       "      <td>6.5</td>\n",
       "      <td>M</td>\n",
       "      <td>4.64</td>\n",
       "    </tr>\n",
       "    <tr>\n",
       "      <th>406</th>\n",
       "      <td>Monster Hunter X</td>\n",
       "      <td>3DS</td>\n",
       "      <td>2015</td>\n",
       "      <td>Action</td>\n",
       "      <td>0.27</td>\n",
       "      <td>0.21</td>\n",
       "      <td>2.79</td>\n",
       "      <td>0.05</td>\n",
       "      <td>NaN</td>\n",
       "      <td>NaN</td>\n",
       "      <td>нет данных</td>\n",
       "      <td>3.05</td>\n",
       "    </tr>\n",
       "    <tr>\n",
       "      <th>303</th>\n",
       "      <td>The Witcher 3: Wild Hunt</td>\n",
       "      <td>PS4</td>\n",
       "      <td>2015</td>\n",
       "      <td>Role-Playing</td>\n",
       "      <td>1.02</td>\n",
       "      <td>2.13</td>\n",
       "      <td>0.23</td>\n",
       "      <td>0.59</td>\n",
       "      <td>92.0</td>\n",
       "      <td>9.2</td>\n",
       "      <td>M</td>\n",
       "      <td>2.95</td>\n",
       "    </tr>\n",
       "    <tr>\n",
       "      <th>247</th>\n",
       "      <td>Splatoon</td>\n",
       "      <td>WiiU</td>\n",
       "      <td>2015</td>\n",
       "      <td>Shooter</td>\n",
       "      <td>1.54</td>\n",
       "      <td>1.18</td>\n",
       "      <td>1.46</td>\n",
       "      <td>0.26</td>\n",
       "      <td>81.0</td>\n",
       "      <td>8.5</td>\n",
       "      <td>E10+</td>\n",
       "      <td>2.90</td>\n",
       "    </tr>\n",
       "    <tr>\n",
       "      <th>99</th>\n",
       "      <td>Call of Duty: Black Ops 3</td>\n",
       "      <td>XOne</td>\n",
       "      <td>2015</td>\n",
       "      <td>Shooter</td>\n",
       "      <td>4.59</td>\n",
       "      <td>2.11</td>\n",
       "      <td>0.01</td>\n",
       "      <td>0.68</td>\n",
       "      <td>NaN</td>\n",
       "      <td>NaN</td>\n",
       "      <td>нет данных</td>\n",
       "      <td>2.80</td>\n",
       "    </tr>\n",
       "    <tr>\n",
       "      <th>396</th>\n",
       "      <td>Assassin's Creed Syndicate</td>\n",
       "      <td>PS4</td>\n",
       "      <td>2015</td>\n",
       "      <td>Action</td>\n",
       "      <td>0.81</td>\n",
       "      <td>1.99</td>\n",
       "      <td>0.07</td>\n",
       "      <td>0.52</td>\n",
       "      <td>76.0</td>\n",
       "      <td>6.8</td>\n",
       "      <td>M</td>\n",
       "      <td>2.58</td>\n",
       "    </tr>\n",
       "    <tr>\n",
       "      <th>231</th>\n",
       "      <td>Uncharted: The Nathan Drake Collection</td>\n",
       "      <td>PS4</td>\n",
       "      <td>2015</td>\n",
       "      <td>Action</td>\n",
       "      <td>2.07</td>\n",
       "      <td>1.71</td>\n",
       "      <td>0.08</td>\n",
       "      <td>0.76</td>\n",
       "      <td>86.0</td>\n",
       "      <td>8.1</td>\n",
       "      <td>T</td>\n",
       "      <td>2.55</td>\n",
       "    </tr>\n",
       "  </tbody>\n",
       "</table>\n",
       "</div>"
      ],
      "text/plain": [
       "                                       name platform  year_of_release  \\\n",
       "31                Call of Duty: Black Ops 3      PS4             2015   \n",
       "77                                  FIFA 16      PS4             2015   \n",
       "87             Star Wars Battlefront (2015)      PS4             2015   \n",
       "105                               Fallout 4      PS4             2015   \n",
       "406                        Monster Hunter X      3DS             2015   \n",
       "303                The Witcher 3: Wild Hunt      PS4             2015   \n",
       "247                                Splatoon     WiiU             2015   \n",
       "99                Call of Duty: Black Ops 3     XOne             2015   \n",
       "396              Assassin's Creed Syndicate      PS4             2015   \n",
       "231  Uncharted: The Nathan Drake Collection      PS4             2015   \n",
       "\n",
       "            genre  na_sales  eu_sales  jp_sales  other_sales  critic_score  \\\n",
       "31        Shooter      6.03      5.86      0.36         2.38           NaN   \n",
       "77         Sports      1.12      6.12      0.06         1.28          82.0   \n",
       "87        Shooter      2.99      3.49      0.22         1.28           NaN   \n",
       "105  Role-Playing      2.53      3.27      0.24         1.13          87.0   \n",
       "406        Action      0.27      0.21      2.79         0.05           NaN   \n",
       "303  Role-Playing      1.02      2.13      0.23         0.59          92.0   \n",
       "247       Shooter      1.54      1.18      1.46         0.26          81.0   \n",
       "99        Shooter      4.59      2.11      0.01         0.68           NaN   \n",
       "396        Action      0.81      1.99      0.07         0.52          76.0   \n",
       "231        Action      2.07      1.71      0.08         0.76          86.0   \n",
       "\n",
       "     user_score      rating  total_sales  \n",
       "31          NaN  нет данных         8.60  \n",
       "77          4.3           E         7.46  \n",
       "87          NaN  нет данных         4.99  \n",
       "105         6.5           M         4.64  \n",
       "406         NaN  нет данных         3.05  \n",
       "303         9.2           M         2.95  \n",
       "247         8.5        E10+         2.90  \n",
       "99          NaN  нет данных         2.80  \n",
       "396         6.8           M         2.58  \n",
       "231         8.1           T         2.55  "
      ]
     },
     "metadata": {},
     "output_type": "display_data"
    },
    {
     "name": "stdout",
     "output_type": "stream",
     "text": [
      "count    502.000000\n",
      "mean       0.169343\n",
      "std        0.490976\n",
      "min        0.000000\n",
      "25%        0.020000\n",
      "50%        0.040000\n",
      "75%        0.130000\n",
      "max        6.940000\n",
      "Name: total_sales, dtype: float64\n",
      "count    606.000000\n",
      "mean       0.265875\n",
      "std        0.684080\n",
      "min        0.000000\n",
      "25%        0.030000\n",
      "50%        0.070000\n",
      "75%        0.190000\n",
      "max        8.600000\n",
      "Name: total_sales, dtype: float64\n"
     ]
    }
   ],
   "source": [
    "df_2016 = df.query('year_of_release==2016')\n",
    "df_2015 = df.query('year_of_release==2015')\n",
    "display(df_2016.sort_values('total_sales', ascending=False).head(10))\n",
    "display(df_2015.sort_values('total_sales', ascending=False).head(10))\n",
    "print(df_2016['total_sales'].describe())\n",
    "print(df_2015['total_sales'].describe())"
   ]
  },
  {
   "cell_type": "code",
   "execution_count": 36,
   "metadata": {},
   "outputs": [
    {
     "data": {
      "text/html": [
       "<div>\n",
       "<style scoped>\n",
       "    .dataframe tbody tr th:only-of-type {\n",
       "        vertical-align: middle;\n",
       "    }\n",
       "\n",
       "    .dataframe tbody tr th {\n",
       "        vertical-align: top;\n",
       "    }\n",
       "\n",
       "    .dataframe thead th {\n",
       "        text-align: right;\n",
       "    }\n",
       "</style>\n",
       "<table border=\"1\" class=\"dataframe\">\n",
       "  <thead>\n",
       "    <tr style=\"text-align: right;\">\n",
       "      <th></th>\n",
       "      <th>count_games</th>\n",
       "    </tr>\n",
       "    <tr>\n",
       "      <th>year_of_release</th>\n",
       "      <th></th>\n",
       "    </tr>\n",
       "  </thead>\n",
       "  <tbody>\n",
       "    <tr>\n",
       "      <th>2012</th>\n",
       "      <td>653</td>\n",
       "    </tr>\n",
       "    <tr>\n",
       "      <th>2013</th>\n",
       "      <td>544</td>\n",
       "    </tr>\n",
       "    <tr>\n",
       "      <th>2014</th>\n",
       "      <td>581</td>\n",
       "    </tr>\n",
       "    <tr>\n",
       "      <th>2015</th>\n",
       "      <td>606</td>\n",
       "    </tr>\n",
       "    <tr>\n",
       "      <th>2016</th>\n",
       "      <td>502</td>\n",
       "    </tr>\n",
       "  </tbody>\n",
       "</table>\n",
       "</div>"
      ],
      "text/plain": [
       "                 count_games\n",
       "year_of_release             \n",
       "2012                     653\n",
       "2013                     544\n",
       "2014                     581\n",
       "2015                     606\n",
       "2016                     502"
      ]
     },
     "execution_count": 36,
     "metadata": {},
     "output_type": "execute_result"
    }
   ],
   "source": [
    "df_new.groupby(['year_of_release']).agg(count_games=('name', 'count'))"
   ]
  },
  {
   "cell_type": "code",
   "execution_count": 37,
   "metadata": {},
   "outputs": [
    {
     "data": {
      "text/html": [
       "<div>\n",
       "<style scoped>\n",
       "    .dataframe tbody tr th:only-of-type {\n",
       "        vertical-align: middle;\n",
       "    }\n",
       "\n",
       "    .dataframe tbody tr th {\n",
       "        vertical-align: top;\n",
       "    }\n",
       "\n",
       "    .dataframe thead th {\n",
       "        text-align: right;\n",
       "    }\n",
       "</style>\n",
       "<table border=\"1\" class=\"dataframe\">\n",
       "  <thead>\n",
       "    <tr style=\"text-align: right;\">\n",
       "      <th></th>\n",
       "      <th>sum_sales</th>\n",
       "    </tr>\n",
       "    <tr>\n",
       "      <th>year_of_release</th>\n",
       "      <th></th>\n",
       "    </tr>\n",
       "  </thead>\n",
       "  <tbody>\n",
       "    <tr>\n",
       "      <th>2012</th>\n",
       "      <td>202.58</td>\n",
       "    </tr>\n",
       "    <tr>\n",
       "      <th>2013</th>\n",
       "      <td>207.59</td>\n",
       "    </tr>\n",
       "    <tr>\n",
       "      <th>2014</th>\n",
       "      <td>199.26</td>\n",
       "    </tr>\n",
       "    <tr>\n",
       "      <th>2015</th>\n",
       "      <td>161.12</td>\n",
       "    </tr>\n",
       "    <tr>\n",
       "      <th>2016</th>\n",
       "      <td>85.01</td>\n",
       "    </tr>\n",
       "  </tbody>\n",
       "</table>\n",
       "</div>"
      ],
      "text/plain": [
       "                 sum_sales\n",
       "year_of_release           \n",
       "2012                202.58\n",
       "2013                207.59\n",
       "2014                199.26\n",
       "2015                161.12\n",
       "2016                 85.01"
      ]
     },
     "execution_count": 37,
     "metadata": {},
     "output_type": "execute_result"
    }
   ],
   "source": [
    "df_new.groupby(['year_of_release']).agg(sum_sales=('total_sales', 'sum'))"
   ]
  },
  {
   "cell_type": "markdown",
   "metadata": {},
   "source": [
    "После построения общего графика у меня возникла идея, что, так как падают продажи у всех платформ в 2016 году, то, возможно, представлены данные за 2016 год не полные. Но, судя по графикам выше, то просто идет общая тенденция падения продаж. Хотя более чем двухкратное падение продаж при сравнимом количестве игр наводят на подозрения"
   ]
  },
  {
   "cell_type": "markdown",
   "metadata": {},
   "source": [
    "### Сравнение медианных продаж платформ."
   ]
  },
  {
   "cell_type": "code",
   "execution_count": 54,
   "metadata": {},
   "outputs": [
    {
     "data": {
      "image/png": "[encoded data removed]",
      "text/plain": [
       "<Figure size 1296x360 with 1 Axes>"
      ]
     },
     "metadata": {
      "needs_background": "light"
     },
     "output_type": "display_data"
    }
   ],
   "source": [
    "\n",
    "plt.figure(figsize=(18,5))\n",
    "sns.boxplot(data=df_new, x='total_sales', y='platform');\n",
    "plt.xlim(0,1.5)\n",
    "plt.show()"
   ]
  },
  {
   "cell_type": "markdown",
   "metadata": {},
   "source": [
    "Чем больше сумма общих продаж, тем меньше попадает в вбросы. Таким образом самые популярные релизы могут быть только на популрярных платформах.\n",
    "Лучше всего сеюя по медианным продажам показали PS3, PS4, X360. Достаточно близкое медианное значение у Wii, WiiU."
   ]
  },
  {
   "cell_type": "markdown",
   "metadata": {},
   "source": [
    "### Корреляция между оценками критиков, игроков и продажами."
   ]
  },
  {
   "cell_type": "code",
   "execution_count": 39,
   "metadata": {},
   "outputs": [
    {
     "data": {
      "text/html": [
       "<div>\n",
       "<style scoped>\n",
       "    .dataframe tbody tr th:only-of-type {\n",
       "        vertical-align: middle;\n",
       "    }\n",
       "\n",
       "    .dataframe tbody tr th {\n",
       "        vertical-align: top;\n",
       "    }\n",
       "\n",
       "    .dataframe thead th {\n",
       "        text-align: right;\n",
       "    }\n",
       "</style>\n",
       "<table border=\"1\" class=\"dataframe\">\n",
       "  <thead>\n",
       "    <tr style=\"text-align: right;\">\n",
       "      <th></th>\n",
       "      <th>total_sales</th>\n",
       "      <th>critic_score</th>\n",
       "      <th>user_score</th>\n",
       "    </tr>\n",
       "  </thead>\n",
       "  <tbody>\n",
       "    <tr>\n",
       "      <th>total_sales</th>\n",
       "      <td>1.000000</td>\n",
       "      <td>0.371857</td>\n",
       "      <td>-0.034918</td>\n",
       "    </tr>\n",
       "    <tr>\n",
       "      <th>critic_score</th>\n",
       "      <td>0.371857</td>\n",
       "      <td>1.000000</td>\n",
       "      <td>0.557654</td>\n",
       "    </tr>\n",
       "    <tr>\n",
       "      <th>user_score</th>\n",
       "      <td>-0.034918</td>\n",
       "      <td>0.557654</td>\n",
       "      <td>1.000000</td>\n",
       "    </tr>\n",
       "  </tbody>\n",
       "</table>\n",
       "</div>"
      ],
      "text/plain": [
       "              total_sales  critic_score  user_score\n",
       "total_sales      1.000000      0.371857   -0.034918\n",
       "critic_score     0.371857      1.000000    0.557654\n",
       "user_score      -0.034918      0.557654    1.000000"
      ]
     },
     "metadata": {},
     "output_type": "display_data"
    },
    {
     "data": {
      "text/html": [
       "<div>\n",
       "<style scoped>\n",
       "    .dataframe tbody tr th:only-of-type {\n",
       "        vertical-align: middle;\n",
       "    }\n",
       "\n",
       "    .dataframe tbody tr th {\n",
       "        vertical-align: top;\n",
       "    }\n",
       "\n",
       "    .dataframe thead th {\n",
       "        text-align: right;\n",
       "    }\n",
       "</style>\n",
       "<table border=\"1\" class=\"dataframe\">\n",
       "  <thead>\n",
       "    <tr style=\"text-align: right;\">\n",
       "      <th></th>\n",
       "      <th>total_sales</th>\n",
       "      <th>critic_score</th>\n",
       "      <th>user_score</th>\n",
       "    </tr>\n",
       "  </thead>\n",
       "  <tbody>\n",
       "    <tr>\n",
       "      <th>total_sales</th>\n",
       "      <td>1.000000</td>\n",
       "      <td>0.311255</td>\n",
       "      <td>0.003242</td>\n",
       "    </tr>\n",
       "    <tr>\n",
       "      <th>critic_score</th>\n",
       "      <td>0.311255</td>\n",
       "      <td>1.000000</td>\n",
       "      <td>0.539456</td>\n",
       "    </tr>\n",
       "    <tr>\n",
       "      <th>user_score</th>\n",
       "      <td>0.003242</td>\n",
       "      <td>0.539456</td>\n",
       "      <td>1.000000</td>\n",
       "    </tr>\n",
       "  </tbody>\n",
       "</table>\n",
       "</div>"
      ],
      "text/plain": [
       "              total_sales  critic_score  user_score\n",
       "total_sales      1.000000      0.311255    0.003242\n",
       "critic_score     0.311255      1.000000    0.539456\n",
       "user_score       0.003242      0.539456    1.000000"
      ]
     },
     "metadata": {},
     "output_type": "display_data"
    },
    {
     "data": {
      "text/html": [
       "<div>\n",
       "<style scoped>\n",
       "    .dataframe tbody tr th:only-of-type {\n",
       "        vertical-align: middle;\n",
       "    }\n",
       "\n",
       "    .dataframe tbody tr th {\n",
       "        vertical-align: top;\n",
       "    }\n",
       "\n",
       "    .dataframe thead th {\n",
       "        text-align: right;\n",
       "    }\n",
       "</style>\n",
       "<table border=\"1\" class=\"dataframe\">\n",
       "  <thead>\n",
       "    <tr style=\"text-align: right;\">\n",
       "      <th></th>\n",
       "      <th>total_sales</th>\n",
       "      <th>critic_score</th>\n",
       "      <th>user_score</th>\n",
       "    </tr>\n",
       "  </thead>\n",
       "  <tbody>\n",
       "    <tr>\n",
       "      <th>total_sales</th>\n",
       "      <td>1.000000</td>\n",
       "      <td>0.285793</td>\n",
       "      <td>0.018056</td>\n",
       "    </tr>\n",
       "    <tr>\n",
       "      <th>critic_score</th>\n",
       "      <td>0.285793</td>\n",
       "      <td>1.000000</td>\n",
       "      <td>0.517727</td>\n",
       "    </tr>\n",
       "    <tr>\n",
       "      <th>user_score</th>\n",
       "      <td>0.018056</td>\n",
       "      <td>0.517727</td>\n",
       "      <td>1.000000</td>\n",
       "    </tr>\n",
       "  </tbody>\n",
       "</table>\n",
       "</div>"
      ],
      "text/plain": [
       "              total_sales  critic_score  user_score\n",
       "total_sales      1.000000      0.285793    0.018056\n",
       "critic_score     0.285793      1.000000    0.517727\n",
       "user_score       0.018056      0.517727    1.000000"
      ]
     },
     "metadata": {},
     "output_type": "display_data"
    }
   ],
   "source": [
    "\n",
    "\n",
    "platform = df_new.query('platform==\"PS4\"')\n",
    "platform_2 = df_new.query('platform==\"PS3\"')\n",
    "display(platform[['total_sales','critic_score','user_score' ]].corr())\n",
    "display(platform_2[['total_sales','critic_score','user_score' ]].corr())\n",
    "display(df_new[['total_sales','critic_score','user_score' ]].corr())"
   ]
  },
  {
   "cell_type": "markdown",
   "metadata": {},
   "source": [
    " Как видно из этого, корреляция между продажами и оценками игроков и экспертов не очень большая. Зато есть корреляция между оценками игроков и оценками экспертов. Маркетинг игры делает гораздо больше для продаж, чем итоговые оценки. Но при этом, если игра хорошая или плохая, то это заметят и эксперты и игроки. И если взять вторую по популярности платформу или данные в целом, корреляции не меняются "
   ]
  },
  {
   "cell_type": "markdown",
   "metadata": {},
   "source": [
    "### Самые популярные по продажам жанры."
   ]
  },
  {
   "cell_type": "code",
   "execution_count": 40,
   "metadata": {},
   "outputs": [
    {
     "data": {
      "text/html": [
       "<div>\n",
       "<style scoped>\n",
       "    .dataframe tbody tr th:only-of-type {\n",
       "        vertical-align: middle;\n",
       "    }\n",
       "\n",
       "    .dataframe tbody tr th {\n",
       "        vertical-align: top;\n",
       "    }\n",
       "\n",
       "    .dataframe thead tr th {\n",
       "        text-align: left;\n",
       "    }\n",
       "</style>\n",
       "<table border=\"1\" class=\"dataframe\">\n",
       "  <thead>\n",
       "    <tr>\n",
       "      <th></th>\n",
       "      <th>genre</th>\n",
       "      <th>sum</th>\n",
       "      <th>count</th>\n",
       "      <th>mean</th>\n",
       "    </tr>\n",
       "    <tr>\n",
       "      <th></th>\n",
       "      <th></th>\n",
       "      <th>total_sales</th>\n",
       "      <th>total_sales</th>\n",
       "      <th>total_sales</th>\n",
       "    </tr>\n",
       "  </thead>\n",
       "  <tbody>\n",
       "    <tr>\n",
       "      <th>0</th>\n",
       "      <td>Action</td>\n",
       "      <td>263.28</td>\n",
       "      <td>1031</td>\n",
       "      <td>0.255364</td>\n",
       "    </tr>\n",
       "    <tr>\n",
       "      <th>1</th>\n",
       "      <td>Adventure</td>\n",
       "      <td>20.51</td>\n",
       "      <td>302</td>\n",
       "      <td>0.067914</td>\n",
       "    </tr>\n",
       "    <tr>\n",
       "      <th>2</th>\n",
       "      <td>Fighting</td>\n",
       "      <td>24.70</td>\n",
       "      <td>109</td>\n",
       "      <td>0.226606</td>\n",
       "    </tr>\n",
       "    <tr>\n",
       "      <th>3</th>\n",
       "      <td>Misc</td>\n",
       "      <td>46.85</td>\n",
       "      <td>192</td>\n",
       "      <td>0.244010</td>\n",
       "    </tr>\n",
       "    <tr>\n",
       "      <th>4</th>\n",
       "      <td>Platform</td>\n",
       "      <td>35.62</td>\n",
       "      <td>85</td>\n",
       "      <td>0.419059</td>\n",
       "    </tr>\n",
       "    <tr>\n",
       "      <th>5</th>\n",
       "      <td>Puzzle</td>\n",
       "      <td>3.76</td>\n",
       "      <td>28</td>\n",
       "      <td>0.134286</td>\n",
       "    </tr>\n",
       "    <tr>\n",
       "      <th>6</th>\n",
       "      <td>Racing</td>\n",
       "      <td>36.28</td>\n",
       "      <td>115</td>\n",
       "      <td>0.315478</td>\n",
       "    </tr>\n",
       "    <tr>\n",
       "      <th>7</th>\n",
       "      <td>Role-Playing</td>\n",
       "      <td>128.80</td>\n",
       "      <td>370</td>\n",
       "      <td>0.348108</td>\n",
       "    </tr>\n",
       "    <tr>\n",
       "      <th>8</th>\n",
       "      <td>Shooter</td>\n",
       "      <td>159.96</td>\n",
       "      <td>235</td>\n",
       "      <td>0.680681</td>\n",
       "    </tr>\n",
       "    <tr>\n",
       "      <th>9</th>\n",
       "      <td>Simulation</td>\n",
       "      <td>27.15</td>\n",
       "      <td>80</td>\n",
       "      <td>0.339375</td>\n",
       "    </tr>\n",
       "    <tr>\n",
       "      <th>10</th>\n",
       "      <td>Sports</td>\n",
       "      <td>99.54</td>\n",
       "      <td>268</td>\n",
       "      <td>0.371418</td>\n",
       "    </tr>\n",
       "    <tr>\n",
       "      <th>11</th>\n",
       "      <td>Strategy</td>\n",
       "      <td>9.11</td>\n",
       "      <td>71</td>\n",
       "      <td>0.128310</td>\n",
       "    </tr>\n",
       "  </tbody>\n",
       "</table>\n",
       "</div>"
      ],
      "text/plain": [
       "           genre         sum       count        mean\n",
       "                 total_sales total_sales total_sales\n",
       "0         Action      263.28        1031    0.255364\n",
       "1      Adventure       20.51         302    0.067914\n",
       "2       Fighting       24.70         109    0.226606\n",
       "3           Misc       46.85         192    0.244010\n",
       "4       Platform       35.62          85    0.419059\n",
       "5         Puzzle        3.76          28    0.134286\n",
       "6         Racing       36.28         115    0.315478\n",
       "7   Role-Playing      128.80         370    0.348108\n",
       "8        Shooter      159.96         235    0.680681\n",
       "9     Simulation       27.15          80    0.339375\n",
       "10        Sports       99.54         268    0.371418\n",
       "11      Strategy        9.11          71    0.128310"
      ]
     },
     "execution_count": 40,
     "metadata": {},
     "output_type": "execute_result"
    }
   ],
   "source": [
    "pivot_sales = pd.pivot_table(df_new, values='total_sales', index=['genre'], aggfunc=['sum', 'count', 'mean']).reset_index()\n",
    "pivot_sales\n"
   ]
  },
  {
   "cell_type": "markdown",
   "metadata": {},
   "source": [
    "Самое большое количество игр в жанре Action. Так же, там самые большие суммарные продажи. Но вот если разделить общую суммую на общее количество игр в этом жанре, то картина не такая радужная. Плюс, наверняка, зарабатывают большую часть денег крупные релизы. Так что в этом жанре не особо выгодно делать игры. При этом наименее выгодный жанр - Adventure. Там достаточно много игр, но достаточно маленькие общие продажи. Несмотря на достаточно большое количество игр в жанре Shooter, там выше всего акцент распределения среднего заработка на игру "
   ]
  },
  {
   "cell_type": "markdown",
   "metadata": {},
   "source": [
    "# Часть 3\n",
    "##  Портрет пользователя каждого региона"
   ]
  },
  {
   "cell_type": "markdown",
   "metadata": {},
   "source": [
    "Здесь мы рассмотрим продажи в каждом регионе по отдельности, поймем есть ли разница по популярности среди разных платформ и жанрах."
   ]
  },
  {
   "cell_type": "markdown",
   "metadata": {},
   "source": [
    "### Продажи в Северной Америке по платформам"
   ]
  },
  {
   "cell_type": "code",
   "execution_count": 41,
   "metadata": {},
   "outputs": [
    {
     "data": {
      "image/png": "[encoded data removed]",
      "text/plain": [
       "<Figure size 1296x360 with 1 Axes>"
      ]
     },
     "metadata": {
      "needs_background": "light"
     },
     "output_type": "display_data"
    }
   ],
   "source": [
    "na_sales = df_new.groupby([ 'platform', 'year_of_release']).agg(sum_sales=('na_sales', 'sum')).reset_index().sort_values('sum_sales', ascending= False)\n",
    "plt.figure(figsize=(18,5))\n",
    "ax = sns.barplot(data=na_sales, x='sum_sales', y='platform',palette = \"husl\" );\n",
    "\n",
    "ax.set(title='Продажи в Северной Америке по платформам',xlabel='платформа', ylabel='продажи')\n",
    "plt.show()"
   ]
  },
  {
   "cell_type": "markdown",
   "metadata": {},
   "source": [
    "В Северной Америке предпочитают в качестве платформы \"местную\". То есть, большинство на X360, которая выпущена в США. Достаточно высокое место занимает XOne, которая является улучшенной версией X360"
   ]
  },
  {
   "cell_type": "markdown",
   "metadata": {},
   "source": [
    "### Продажи в Европе по платформам."
   ]
  },
  {
   "cell_type": "code",
   "execution_count": 42,
   "metadata": {},
   "outputs": [
    {
     "data": {
      "image/png": "[encoded data removed]",
      "text/plain": [
       "<Figure size 1296x360 with 1 Axes>"
      ]
     },
     "metadata": {
      "needs_background": "light"
     },
     "output_type": "display_data"
    }
   ],
   "source": [
    "eu_sales = df_new.groupby([ 'platform', 'year_of_release']).agg(sum_sales=('eu_sales', 'sum')).reset_index().sort_values('sum_sales', ascending= False)\n",
    "plt.figure(figsize=(18,5))\n",
    "ax = sns.barplot(data=eu_sales, x='sum_sales', y='platform',palette = \"husl\" );\n",
    "ax.set(title='Продажи в Европе по платформам',xlabel='платформа', ylabel='продажи')\n",
    "plt.show()"
   ]
  },
  {
   "cell_type": "markdown",
   "metadata": {},
   "source": [
    "В Европе распределение похоже на то, которое было в целом по миру. "
   ]
  },
  {
   "cell_type": "markdown",
   "metadata": {},
   "source": [
    "### Продажи в Японии по платформам"
   ]
  },
  {
   "cell_type": "code",
   "execution_count": 43,
   "metadata": {},
   "outputs": [
    {
     "data": {
      "image/png": "[encoded data removed]",
      "text/plain": [
       "<Figure size 1296x360 with 1 Axes>"
      ]
     },
     "metadata": {
      "needs_background": "light"
     },
     "output_type": "display_data"
    }
   ],
   "source": [
    "jp_sales = df_new.groupby([ 'platform', 'year_of_release']).agg(sum_sales=('jp_sales', 'sum')).reset_index().sort_values('sum_sales', ascending= False)\n",
    "plt.figure(figsize=(18,5))\n",
    "ax = sns.barplot(data=jp_sales, x='sum_sales', y='platform',palette = \"husl\" );\n",
    "ax.set(title='Продажи в Японии по платформам',xlabel='платформа', ylabel='продажи')\n",
    "plt.show()"
   ]
  },
  {
   "cell_type": "markdown",
   "metadata": {},
   "source": [
    "На первом месте по продажам в Японии 3DS. Это консоль, которую можно брать с собой. Видимо, так потому что в Японии немного другой подход к играм, и они имеют не такие большие квартиры или дома как в США и Европе, а предпочитают играть в дороге."
   ]
  },
  {
   "cell_type": "markdown",
   "metadata": {},
   "source": [
    "### Продажи в Северной Америке по жанрам"
   ]
  },
  {
   "cell_type": "code",
   "execution_count": 44,
   "metadata": {},
   "outputs": [
    {
     "data": {
      "image/png": "[encoded data removed]",
      "text/plain": [
       "<Figure size 1296x360 with 1 Axes>"
      ]
     },
     "metadata": {
      "needs_background": "light"
     },
     "output_type": "display_data"
    }
   ],
   "source": [
    "na_sales = df_new.groupby([ 'genre', 'year_of_release']).agg(sum_sales=('na_sales', 'sum')).reset_index().sort_values('sum_sales', ascending= False)\n",
    "plt.figure(figsize=(18,5))\n",
    "ax = sns.barplot(data=na_sales, x='sum_sales', y='genre',palette = \"husl\" );\n",
    "ax.set(title='Продажи в Северной Америке по жанрам',xlabel='платформа', ylabel='продажи')\n",
    "plt.show()"
   ]
  },
  {
   "cell_type": "markdown",
   "metadata": {},
   "source": [
    "Action, Shooter, Sports, Misc, Platform- самые популярные жанры в Северной Америке. Точно так же, как и в мире в целом."
   ]
  },
  {
   "cell_type": "markdown",
   "metadata": {},
   "source": [
    "### Продажи в Европе по жанрам"
   ]
  },
  {
   "cell_type": "code",
   "execution_count": 45,
   "metadata": {},
   "outputs": [
    {
     "data": {
      "image/png": "[encoded data removed]",
      "text/plain": [
       "<Figure size 1296x360 with 1 Axes>"
      ]
     },
     "metadata": {
      "needs_background": "light"
     },
     "output_type": "display_data"
    }
   ],
   "source": [
    "eu_sales = df_new.groupby([ 'genre', 'year_of_release']).agg(sum_sales=('eu_sales', 'sum')).reset_index().sort_values('sum_sales', ascending= False)\n",
    "plt.figure(figsize=(18,5))\n",
    "ax = sns.barplot(data=eu_sales, x='sum_sales', y='genre',palette = \"husl\" );\n",
    "ax.set(title='Продажи в Европе по жанрам',xlabel='платформа', ylabel='продажи')\n",
    "plt.show()"
   ]
  },
  {
   "cell_type": "markdown",
   "metadata": {},
   "source": [
    "В Европе почти так же, как в Северной Америке. Разве что чуть популярнее гоночные игры. В целом, можно сказать, что в Европе и Северной Америке играют в одни и те же игры на одних и тех же платформах."
   ]
  },
  {
   "cell_type": "markdown",
   "metadata": {},
   "source": [
    "### Продажи в Японии по жанрам"
   ]
  },
  {
   "cell_type": "code",
   "execution_count": 46,
   "metadata": {},
   "outputs": [
    {
     "data": {
      "image/png": "[encoded data removed]",
      "text/plain": [
       "<Figure size 1296x360 with 1 Axes>"
      ]
     },
     "metadata": {
      "needs_background": "light"
     },
     "output_type": "display_data"
    }
   ],
   "source": [
    "jp_sales = df_new.groupby([ 'genre', 'year_of_release']).agg(sum_sales=('jp_sales', 'sum')).reset_index().sort_values('sum_sales', ascending= False)\n",
    "plt.figure(figsize=(18,5))\n",
    "ax = sns.barplot(data=jp_sales, x='sum_sales', y='genre',palette = \"husl\" );\n",
    "ax.set(title='Продажи в Японии по жанрам',xlabel='платформа', ylabel='продажи')\n",
    "plt.show()"
   ]
  },
  {
   "cell_type": "markdown",
   "metadata": {},
   "source": [
    "В Японии наиболее популярны RPG. Думаю, потому что в таблице нет ответвления на жанр Jrpg. Это RPG, который родился именно в Японии.  Так же особо популярны файтинги, так как культура боевых искусств дает о себе знать"
   ]
  },
  {
   "cell_type": "markdown",
   "metadata": {},
   "source": [
    "### корреляция между продажами и рейтингом ESRB"
   ]
  },
  {
   "cell_type": "code",
   "execution_count": 47,
   "metadata": {},
   "outputs": [
    {
     "data": {
      "text/plain": [
       "<AxesSubplot:xlabel='jp_sales', ylabel='rating'>"
      ]
     },
     "execution_count": 47,
     "metadata": {},
     "output_type": "execute_result"
    },
    {
     "data": {
      "image/png": "[encoded data removed]",
      "text/plain": [
       "<Figure size 432x288 with 1 Axes>"
      ]
     },
     "metadata": {
      "needs_background": "light"
     },
     "output_type": "display_data"
    }
   ],
   "source": [
    "#display(df_new[['jp_sales', 'rating' ]].corr())\n",
    "df_new.plot.scatter(x='jp_sales',y='rating')"
   ]
  },
  {
   "cell_type": "markdown",
   "metadata": {},
   "source": [
    "Больщая часть продаж приходится на \"нет данных\", что не удивительно. Очень многие игры в Японии не получали этот рейтинг, так как не выходили за пределами Японии. А этот рейтинг присваивают в США."
   ]
  },
  {
   "cell_type": "code",
   "execution_count": 48,
   "metadata": {},
   "outputs": [
    {
     "data": {
      "text/plain": [
       "<AxesSubplot:xlabel='eu_sales', ylabel='rating'>"
      ]
     },
     "execution_count": 48,
     "metadata": {},
     "output_type": "execute_result"
    },
    {
     "data": {
      "image/png": "[encoded data removed]",
      "text/plain": [
       "<Figure size 432x288 with 1 Axes>"
      ]
     },
     "metadata": {
      "needs_background": "light"
     },
     "output_type": "display_data"
    }
   ],
   "source": [
    "df_new.plot.scatter(x='eu_sales',y='rating')"
   ]
  },
  {
   "cell_type": "markdown",
   "metadata": {},
   "source": [
    "В Европе и Северной Америке в основном одни и те же игры, поэтому приблизительно одинаково распределны продажи по всем видам этого рейтинга."
   ]
  },
  {
   "cell_type": "code",
   "execution_count": 49,
   "metadata": {},
   "outputs": [
    {
     "data": {
      "text/plain": [
       "<AxesSubplot:xlabel='na_sales', ylabel='rating'>"
      ]
     },
     "execution_count": 49,
     "metadata": {},
     "output_type": "execute_result"
    },
    {
     "data": {
      "image/png": "[encoded data removed]",
      "text/plain": [
       "<Figure size 432x288 with 1 Axes>"
      ]
     },
     "metadata": {
      "needs_background": "light"
     },
     "output_type": "display_data"
    }
   ],
   "source": [
    "df_new.plot.scatter(x='na_sales',y='rating')"
   ]
  },
  {
   "cell_type": "markdown",
   "metadata": {},
   "source": [
    "Наиболее популярныв в США игры с рейтинго М, что означает для взрослых. Не удивительно GTA изрядно пошумевшая имеет именно такой рейтинг"
   ]
  },
  {
   "cell_type": "markdown",
   "metadata": {},
   "source": [
    "# Часть 4\n",
    "## Выдвижение гипотез. \n"
   ]
  },
  {
   "cell_type": "markdown",
   "metadata": {},
   "source": [
    "### Гипотеза 1.\n",
    "Есть предположение, что так как платформы **X360** и **PC** похожи по архитектуре, и у них один и тот же производитель, то и оценки у игр на этих платформах будут похожие."
   ]
  },
  {
   "cell_type": "markdown",
   "metadata": {},
   "source": [
    "**Нулевая гипотеза** - оценки игр на платформах **x360** и **PC** похожие. \n",
    "\n",
    "**Альтернативная гипотеза** - оценки игр на на платформах **x360** и **PC** отличаются. "
   ]
  },
  {
   "cell_type": "code",
   "execution_count": 50,
   "metadata": {},
   "outputs": [],
   "source": [
    "\n",
    "x360 = df_new.loc[df_new.platform == 'X360', 'user_score']\n",
    "PC = df_new.loc[df_new.platform ==  'PC', 'user_score']\n",
    "PC = PC.dropna()\n",
    "x360 = x360.dropna()"
   ]
  },
  {
   "cell_type": "code",
   "execution_count": 51,
   "metadata": {},
   "outputs": [
    {
     "name": "stdout",
     "output_type": "stream",
     "text": [
      "0.17951812027167968\n",
      "Не получилось отвергнуть нулевую гипотезу\n"
     ]
    }
   ],
   "source": [
    "results = st.ttest_ind(x360, PC, equal_var=True)\n",
    " \n",
    "alpha = 0.05 \n",
    " \n",
    "print(results.pvalue)\n",
    " \n",
    "if results.pvalue < alpha:\n",
    "    print(\"Отвергаем нулевую гипотезу\")\n",
    "else:\n",
    "    print(\"Не получилось отвергнуть нулевую гипотезу\")"
   ]
  },
  {
   "cell_type": "markdown",
   "metadata": {},
   "source": [
    "Действительно подтвердилась теория что оценки игр схожие из-за схожести архитектур. "
   ]
  },
  {
   "cell_type": "markdown",
   "metadata": {},
   "source": [
    "### Гипотеза 2.\n",
    "Предположим что оценки игр в жанре **Action** и **Sports** разные. Данные о продажах у этих жанров сильно разнятся, то может есть еще и существенная разница в оценках."
   ]
  },
  {
   "cell_type": "markdown",
   "metadata": {},
   "source": [
    "**Нулевая гипотеза** - оценки игр в жанрах Action и Sports похожие. \n",
    "\n",
    "**Альтернативная гипотеза** - оценки игр в жанрах Action и Sports отличаются.\n"
   ]
  },
  {
   "cell_type": "code",
   "execution_count": 52,
   "metadata": {},
   "outputs": [],
   "source": [
    "\n",
    "action = df_new.loc[df_new.genre == 'Action', 'user_score']\n",
    "sports = df_new.loc[df_new.genre ==  'Sports', 'user_score']\n",
    "action = action.dropna()\n",
    "sports = sports.dropna()"
   ]
  },
  {
   "cell_type": "code",
   "execution_count": 53,
   "metadata": {
    "scrolled": true
   },
   "outputs": [
    {
     "name": "stdout",
     "output_type": "stream",
     "text": [
      "4.24307776572644e-20\n",
      "Отвергаем нулевую гипотезу\n"
     ]
    }
   ],
   "source": [
    " \n",
    "results = st.ttest_ind(action, sports, equal_var=False)\n",
    " \n",
    "alpha = 0.05 \n",
    " \n",
    "print(results.pvalue)\n",
    " \n",
    "if results.pvalue < alpha:\n",
    "    print(\"Отвергаем нулевую гипотезу\")\n",
    "else:\n",
    "    print(\"Не получилось отвергнуть нулевую гипотезу\")"
   ]
  },
  {
   "cell_type": "markdown",
   "metadata": {},
   "source": [
    "### Общий вывод из гипотез."
   ]
  },
  {
   "cell_type": "markdown",
   "metadata": {},
   "source": [
    "В первом случае рейтинги игр на Xbox и PC почти одинаковые, так как, как правило, выходят одни и те игры за редким искллючением. Шедевров, способных повлиять на рейтинг не так много. Есть некоторые эксклюзивы платформы, но их слишком мало чтобы сдвинуть средний рейтинг в ту или иную сторону. Нулевая гипотеза подтверждена. \n",
    "\n",
    "Во втором случае рейтинги слишком разных жанров сложно сравнивать, поэтому гипотеза отвергнута. Такое произошло, скорее всего, потому что жанр Sports рассчитан больше на фанатов того или иного спорта, и когда обычный игрок пытается начать играть в него, то портит среднюю оценку, не поняв общие правила. Разработчики таких игр расчитывают что правила известны игрокам. Жанр же Action изначально расчитан на массового игрока, ему проще освоить игру и получать от неё удовольствие. Поэтому могут разнится оценки. "
   ]
  },
  {
   "cell_type": "markdown",
   "metadata": {},
   "source": [
    "## Вывод\n",
    "\n",
    "Проведена работа по исследованию таблицы данных с играми. Пропусков и других аномальных значений не выявлено. Пришлось избавиться от незначительной части таблицы, где отсуствовали имена и года релизов, так как это помешало бы дальнейшей работе. Там где нужно, заполнены пропуски. Изменены типы некоторых столбцов. Был добавлен новый столбец с общими продажами по всем регионам. \n",
    "Была проведена работа по выявлению лучших платформ по количеству продаж игр и по количеству игр. Не было выявлено корреляции между продажами и оценками игроков, что означает что на продажи больше всего влияет умелый маркетинг. Проведен анализ по жанрам. Самый популярный и прибыльный жанр Action, но если разделить прибыль на количество игр, то перспективы в нем не так радужны. \n",
    "Составлен портрет по популярным платформам и жанрам в разных частях света. Можно сказать, что в Северная Америка и Европа обладают схожими интересами в жанрах. Предпочтения же по платформам у Северной Америки и Европы немного различаются. В Северной Америке есть заметный крен в сторону местных платформ, тогда как в Европе нет особой разницы с мировыми продажами.  В Японии отличаются и самые популярные платформы - преобладает 3DS, так как её можно носить с собой и она не занимает много места в доме. И самые популярные жанры не такие как в Европе и Северной Америке. В Японии наиболее популярны файтинги и RPG в силу культурных особенностей. Не было выявлено корреляции между ESRB и продажами где-то, кроме Северной Америки, что логично, так как это именно североамериканский рейтинг. \n",
    "Были выдвинуты две гипотезы. Первая о том, что оценки пользователей x360 и pc одинаковые. Эта гипотеза подтвердилась. Это может быть обьяснено общей схожестью архитектуры платформ. Плюс, вендор у этих платформ одинаковый. Вторая гипотеза заключалась в том, что так как экшн и спорт сильно различаются по продажами, то и оценки у них могут разнится. Нулевая гипотеза заключается в том, что оценки у них все-таки одинаковые. Альтернативная - оценки разнятся. В итоге отверглась нулевая гипотеза и мы пришли к выводу что оценки разнятся.\n",
    "\n",
    "В целом можно сделать вывод что рынок падает. Скорее всего, он находится в ожидании новых платформ, которые дадут небольшой толчок продажм. Так же, так как тут нет данных о мобильных играх, могу предположить что часть прибыли перетекает в мобильные игры. Мобильные телефоны достаточно мощные и массовые, чтобы на них можно было играть. Плюс, они всегда с собой в отличие от консолей, даже мобильных. Чтобы играть в мобильные игры, не нужно покупать дополнительное устройство, что упрощает вход для потенциального потребителя."
   ]
  },
  {
   "cell_type": "code",
   "execution_count": null,
   "metadata": {},
   "outputs": [],
   "source": []
  }
 ],
 "metadata": {
  "ExecuteTimeLog": [
   {
    "duration": 449,
    "start_time": "2022-10-04T09:34:54.587Z"
   },
   {
    "duration": 257,
    "start_time": "2022-10-04T09:35:23.848Z"
   },
   {
    "duration": 26,
    "start_time": "2022-10-04T09:35:39.733Z"
   },
   {
    "duration": 41,
    "start_time": "2022-10-07T12:52:22.661Z"
   },
   {
    "duration": 5,
    "start_time": "2022-10-07T12:52:35.833Z"
   },
   {
    "duration": 6,
    "start_time": "2022-10-07T12:52:40.218Z"
   },
   {
    "duration": 5,
    "start_time": "2022-10-07T12:52:40.750Z"
   },
   {
    "duration": 362,
    "start_time": "2022-10-07T12:52:42.818Z"
   },
   {
    "duration": 186,
    "start_time": "2022-10-07T12:52:43.317Z"
   },
   {
    "duration": 21,
    "start_time": "2022-10-07T12:52:43.896Z"
   },
   {
    "duration": 23,
    "start_time": "2022-10-07T12:52:44.716Z"
   },
   {
    "duration": 6,
    "start_time": "2022-10-07T12:53:55.343Z"
   },
   {
    "duration": 2,
    "start_time": "2022-10-07T12:54:37.521Z"
   },
   {
    "duration": 18,
    "start_time": "2022-10-07T12:54:43.247Z"
   },
   {
    "duration": 6,
    "start_time": "2022-10-07T12:55:00.126Z"
   },
   {
    "duration": 3,
    "start_time": "2022-10-07T12:57:22.380Z"
   },
   {
    "duration": 19,
    "start_time": "2022-10-07T12:57:36.655Z"
   },
   {
    "duration": 7,
    "start_time": "2022-10-07T12:58:06.196Z"
   },
   {
    "duration": 7,
    "start_time": "2022-10-07T12:58:14.058Z"
   },
   {
    "duration": 16,
    "start_time": "2022-10-07T12:58:30.020Z"
   },
   {
    "duration": 21,
    "start_time": "2022-10-07T12:58:35.397Z"
   },
   {
    "duration": 13,
    "start_time": "2022-10-07T12:58:42.555Z"
   },
   {
    "duration": 14,
    "start_time": "2022-10-07T12:58:52.115Z"
   },
   {
    "duration": 8,
    "start_time": "2022-10-07T12:59:42.136Z"
   },
   {
    "duration": 6,
    "start_time": "2022-10-07T13:00:11.326Z"
   },
   {
    "duration": 6,
    "start_time": "2022-10-07T13:00:23.972Z"
   },
   {
    "duration": 5,
    "start_time": "2022-10-07T13:00:36.115Z"
   },
   {
    "duration": 8,
    "start_time": "2022-10-07T13:00:58.060Z"
   },
   {
    "duration": 7,
    "start_time": "2022-10-07T13:02:23.027Z"
   },
   {
    "duration": 526,
    "start_time": "2022-10-07T13:02:31.599Z"
   },
   {
    "duration": 5,
    "start_time": "2022-10-07T13:02:46.394Z"
   },
   {
    "duration": 4,
    "start_time": "2022-10-07T13:04:14.426Z"
   },
   {
    "duration": 29,
    "start_time": "2022-10-07T13:04:31.275Z"
   },
   {
    "duration": 14,
    "start_time": "2022-10-07T13:04:38.017Z"
   },
   {
    "duration": 4,
    "start_time": "2022-10-07T13:05:15.349Z"
   },
   {
    "duration": 6,
    "start_time": "2022-10-07T13:06:51.721Z"
   },
   {
    "duration": 8,
    "start_time": "2022-10-07T13:07:04.487Z"
   },
   {
    "duration": 4,
    "start_time": "2022-10-07T13:07:11.606Z"
   },
   {
    "duration": 16,
    "start_time": "2022-10-07T13:09:23.318Z"
   },
   {
    "duration": 10,
    "start_time": "2022-10-07T13:14:42.019Z"
   },
   {
    "duration": 6,
    "start_time": "2022-10-07T13:14:53.679Z"
   },
   {
    "duration": 10,
    "start_time": "2022-10-07T13:15:06.265Z"
   },
   {
    "duration": 8,
    "start_time": "2022-10-07T13:16:15.489Z"
   },
   {
    "duration": 7,
    "start_time": "2022-10-07T13:16:22.058Z"
   },
   {
    "duration": 8,
    "start_time": "2022-10-07T13:16:40.978Z"
   },
   {
    "duration": 11,
    "start_time": "2022-10-07T13:16:52.302Z"
   },
   {
    "duration": 15,
    "start_time": "2022-10-07T13:17:01.832Z"
   },
   {
    "duration": 1250,
    "start_time": "2022-10-07T13:18:46.617Z"
   },
   {
    "duration": 13,
    "start_time": "2022-10-07T13:18:55.717Z"
   },
   {
    "duration": 9,
    "start_time": "2022-10-07T13:19:32.950Z"
   },
   {
    "duration": 8,
    "start_time": "2022-10-07T13:19:48.650Z"
   },
   {
    "duration": 5,
    "start_time": "2022-10-07T13:19:59.317Z"
   },
   {
    "duration": 5,
    "start_time": "2022-10-07T13:20:21.489Z"
   },
   {
    "duration": 7,
    "start_time": "2022-10-07T13:20:41.150Z"
   },
   {
    "duration": 6,
    "start_time": "2022-10-07T13:20:47.701Z"
   },
   {
    "duration": 25,
    "start_time": "2022-10-07T13:21:17.428Z"
   },
   {
    "duration": 5,
    "start_time": "2022-10-07T13:22:30.146Z"
   },
   {
    "duration": 6,
    "start_time": "2022-10-07T13:27:15.458Z"
   },
   {
    "duration": 14,
    "start_time": "2022-10-07T13:28:07.458Z"
   },
   {
    "duration": 3,
    "start_time": "2022-10-07T13:28:26.752Z"
   },
   {
    "duration": 7,
    "start_time": "2022-10-07T13:28:31.753Z"
   },
   {
    "duration": 6,
    "start_time": "2022-10-07T13:28:42.778Z"
   },
   {
    "duration": 3,
    "start_time": "2022-10-07T13:28:52.211Z"
   },
   {
    "duration": 53,
    "start_time": "2022-10-07T13:28:52.624Z"
   },
   {
    "duration": 14,
    "start_time": "2022-10-07T13:28:53.064Z"
   },
   {
    "duration": 3,
    "start_time": "2022-10-07T13:28:54.109Z"
   },
   {
    "duration": 4,
    "start_time": "2022-10-07T13:28:54.885Z"
   },
   {
    "duration": 16,
    "start_time": "2022-10-07T13:28:57.088Z"
   },
   {
    "duration": 14,
    "start_time": "2022-10-07T13:28:57.737Z"
   },
   {
    "duration": 11,
    "start_time": "2022-10-07T13:28:59.567Z"
   },
   {
    "duration": 6,
    "start_time": "2022-10-07T13:29:04.623Z"
   },
   {
    "duration": 12,
    "start_time": "2022-10-07T13:29:10.488Z"
   },
   {
    "duration": 7,
    "start_time": "2022-10-07T13:30:02.449Z"
   },
   {
    "duration": 6,
    "start_time": "2022-10-07T13:33:20.299Z"
   },
   {
    "duration": 8,
    "start_time": "2022-10-07T13:33:49.640Z"
   },
   {
    "duration": 4,
    "start_time": "2022-10-07T13:34:05.846Z"
   },
   {
    "duration": 10,
    "start_time": "2022-10-07T13:34:07.154Z"
   },
   {
    "duration": 7,
    "start_time": "2022-10-07T13:34:13.930Z"
   },
   {
    "duration": 2,
    "start_time": "2022-10-07T13:34:17.868Z"
   },
   {
    "duration": 48,
    "start_time": "2022-10-07T13:34:18.027Z"
   },
   {
    "duration": 13,
    "start_time": "2022-10-07T13:34:18.186Z"
   },
   {
    "duration": 3,
    "start_time": "2022-10-07T13:34:18.489Z"
   },
   {
    "duration": 3,
    "start_time": "2022-10-07T13:34:18.661Z"
   },
   {
    "duration": 14,
    "start_time": "2022-10-07T13:34:18.828Z"
   },
   {
    "duration": 7,
    "start_time": "2022-10-07T13:34:18.993Z"
   },
   {
    "duration": 12,
    "start_time": "2022-10-07T13:34:19.151Z"
   },
   {
    "duration": 5,
    "start_time": "2022-10-07T13:34:19.331Z"
   },
   {
    "duration": 20,
    "start_time": "2022-10-07T13:34:19.478Z"
   },
   {
    "duration": 6,
    "start_time": "2022-10-07T13:34:19.634Z"
   },
   {
    "duration": 12,
    "start_time": "2022-10-07T13:34:19.825Z"
   },
   {
    "duration": 4,
    "start_time": "2022-10-07T13:34:19.978Z"
   },
   {
    "duration": 8,
    "start_time": "2022-10-07T13:34:20.150Z"
   },
   {
    "duration": 3,
    "start_time": "2022-10-07T13:34:23.924Z"
   },
   {
    "duration": 49,
    "start_time": "2022-10-07T13:34:24.131Z"
   },
   {
    "duration": 14,
    "start_time": "2022-10-07T13:34:24.335Z"
   },
   {
    "duration": 2,
    "start_time": "2022-10-07T13:34:24.645Z"
   },
   {
    "duration": 3,
    "start_time": "2022-10-07T13:34:24.878Z"
   },
   {
    "duration": 14,
    "start_time": "2022-10-07T13:34:25.081Z"
   },
   {
    "duration": 9,
    "start_time": "2022-10-07T13:34:25.302Z"
   },
   {
    "duration": 13,
    "start_time": "2022-10-07T13:34:25.500Z"
   },
   {
    "duration": 4,
    "start_time": "2022-10-07T13:34:25.931Z"
   },
   {
    "duration": 20,
    "start_time": "2022-10-07T13:34:26.341Z"
   },
   {
    "duration": 7,
    "start_time": "2022-10-07T13:34:26.831Z"
   },
   {
    "duration": 12,
    "start_time": "2022-10-07T13:34:27.677Z"
   },
   {
    "duration": 4,
    "start_time": "2022-10-07T13:34:28.237Z"
   },
   {
    "duration": 2,
    "start_time": "2022-10-07T13:34:34.639Z"
   },
   {
    "duration": 49,
    "start_time": "2022-10-07T13:34:34.833Z"
   },
   {
    "duration": 14,
    "start_time": "2022-10-07T13:34:35.028Z"
   },
   {
    "duration": 3,
    "start_time": "2022-10-07T13:34:35.178Z"
   },
   {
    "duration": 3,
    "start_time": "2022-10-07T13:34:35.382Z"
   },
   {
    "duration": 14,
    "start_time": "2022-10-07T13:34:35.605Z"
   },
   {
    "duration": 10,
    "start_time": "2022-10-07T13:34:37.435Z"
   },
   {
    "duration": 19,
    "start_time": "2022-10-07T13:34:37.447Z"
   },
   {
    "duration": 9,
    "start_time": "2022-10-07T13:34:37.468Z"
   },
   {
    "duration": 28,
    "start_time": "2022-10-07T13:34:37.479Z"
   },
   {
    "duration": 6,
    "start_time": "2022-10-07T13:34:38.884Z"
   },
   {
    "duration": 11,
    "start_time": "2022-10-07T13:34:39.757Z"
   },
   {
    "duration": 7,
    "start_time": "2022-10-07T13:34:40.656Z"
   },
   {
    "duration": 4,
    "start_time": "2022-10-07T13:34:49.287Z"
   },
   {
    "duration": 12,
    "start_time": "2022-10-07T13:34:50.105Z"
   },
   {
    "duration": 5,
    "start_time": "2022-10-07T13:35:33.069Z"
   },
   {
    "duration": 19,
    "start_time": "2022-10-07T13:35:33.620Z"
   },
   {
    "duration": 4,
    "start_time": "2022-10-07T13:36:40.073Z"
   },
   {
    "duration": 17,
    "start_time": "2022-10-07T13:36:45.382Z"
   },
   {
    "duration": 6,
    "start_time": "2022-10-07T13:37:08.303Z"
   },
   {
    "duration": 2,
    "start_time": "2022-10-07T13:39:16.373Z"
   },
   {
    "duration": 48,
    "start_time": "2022-10-07T13:39:16.743Z"
   },
   {
    "duration": 14,
    "start_time": "2022-10-07T13:39:17.137Z"
   },
   {
    "duration": 3,
    "start_time": "2022-10-07T13:39:17.688Z"
   },
   {
    "duration": 5,
    "start_time": "2022-10-07T13:39:18.349Z"
   },
   {
    "duration": 21,
    "start_time": "2022-10-07T13:39:18.875Z"
   },
   {
    "duration": 8,
    "start_time": "2022-10-07T13:39:19.672Z"
   },
   {
    "duration": 13,
    "start_time": "2022-10-07T13:39:20.337Z"
   },
   {
    "duration": 6,
    "start_time": "2022-10-07T13:39:20.918Z"
   },
   {
    "duration": 24,
    "start_time": "2022-10-07T13:39:21.454Z"
   },
   {
    "duration": 7,
    "start_time": "2022-10-07T13:39:23.628Z"
   },
   {
    "duration": 11,
    "start_time": "2022-10-07T13:39:25.033Z"
   },
   {
    "duration": 9,
    "start_time": "2022-10-07T13:39:27.750Z"
   },
   {
    "duration": 25,
    "start_time": "2022-10-07T13:40:30.542Z"
   },
   {
    "duration": 7,
    "start_time": "2022-10-07T13:40:43.458Z"
   },
   {
    "duration": 8,
    "start_time": "2022-10-07T13:40:51.713Z"
   },
   {
    "duration": 7,
    "start_time": "2022-10-07T13:40:52.310Z"
   },
   {
    "duration": 4,
    "start_time": "2022-10-07T13:50:43.549Z"
   },
   {
    "duration": 17,
    "start_time": "2022-10-07T13:50:51.301Z"
   },
   {
    "duration": 8,
    "start_time": "2022-10-07T13:52:28.508Z"
   },
   {
    "duration": 10,
    "start_time": "2022-10-07T13:58:30.137Z"
   },
   {
    "duration": 4,
    "start_time": "2022-10-07T13:58:34.074Z"
   },
   {
    "duration": 6,
    "start_time": "2022-10-07T13:58:55.025Z"
   },
   {
    "duration": 382,
    "start_time": "2022-10-07T13:59:24.205Z"
   },
   {
    "duration": 49,
    "start_time": "2022-10-07T13:59:24.589Z"
   },
   {
    "duration": 21,
    "start_time": "2022-10-07T13:59:24.639Z"
   },
   {
    "duration": 3,
    "start_time": "2022-10-07T13:59:24.661Z"
   },
   {
    "duration": 9,
    "start_time": "2022-10-07T13:59:24.665Z"
   },
   {
    "duration": 19,
    "start_time": "2022-10-07T13:59:24.675Z"
   },
   {
    "duration": 11,
    "start_time": "2022-10-07T13:59:24.695Z"
   },
   {
    "duration": 11,
    "start_time": "2022-10-07T13:59:24.707Z"
   },
   {
    "duration": 4,
    "start_time": "2022-10-07T13:59:24.720Z"
   },
   {
    "duration": 18,
    "start_time": "2022-10-07T13:59:24.726Z"
   },
   {
    "duration": 7,
    "start_time": "2022-10-07T13:59:24.745Z"
   },
   {
    "duration": 13,
    "start_time": "2022-10-07T13:59:24.753Z"
   },
   {
    "duration": 39,
    "start_time": "2022-10-07T13:59:24.768Z"
   },
   {
    "duration": 9,
    "start_time": "2022-10-07T13:59:24.808Z"
   },
   {
    "duration": 10,
    "start_time": "2022-10-07T13:59:24.819Z"
   },
   {
    "duration": 17,
    "start_time": "2022-10-07T13:59:24.831Z"
   },
   {
    "duration": 4,
    "start_time": "2022-10-07T14:00:33.366Z"
   },
   {
    "duration": 21,
    "start_time": "2022-10-07T14:00:34.066Z"
   },
   {
    "duration": 12,
    "start_time": "2022-10-07T14:01:00.691Z"
   },
   {
    "duration": 91,
    "start_time": "2022-10-07T14:14:50.128Z"
   },
   {
    "duration": 18,
    "start_time": "2022-10-07T14:15:25.021Z"
   },
   {
    "duration": 19,
    "start_time": "2022-10-07T14:16:26.600Z"
   },
   {
    "duration": 60,
    "start_time": "2022-10-07T14:19:23.762Z"
   },
   {
    "duration": 13,
    "start_time": "2022-10-07T14:19:59.416Z"
   },
   {
    "duration": 19,
    "start_time": "2022-10-07T14:20:16.411Z"
   },
   {
    "duration": 12,
    "start_time": "2022-10-07T14:20:49.967Z"
   },
   {
    "duration": 4,
    "start_time": "2022-10-07T14:21:24.313Z"
   },
   {
    "duration": 5,
    "start_time": "2022-10-07T14:21:45.481Z"
   },
   {
    "duration": 20,
    "start_time": "2022-10-07T14:23:52.361Z"
   },
   {
    "duration": 11,
    "start_time": "2022-10-07T14:24:20.440Z"
   },
   {
    "duration": 26,
    "start_time": "2022-10-07T14:24:31.367Z"
   },
   {
    "duration": 20,
    "start_time": "2022-10-07T14:25:02.201Z"
   },
   {
    "duration": 12,
    "start_time": "2022-10-07T14:26:47.834Z"
   },
   {
    "duration": 328,
    "start_time": "2022-10-07T14:27:15.249Z"
   },
   {
    "duration": 50,
    "start_time": "2022-10-07T14:27:15.579Z"
   },
   {
    "duration": 22,
    "start_time": "2022-10-07T14:27:15.631Z"
   },
   {
    "duration": 3,
    "start_time": "2022-10-07T14:27:15.656Z"
   },
   {
    "duration": 6,
    "start_time": "2022-10-07T14:27:15.660Z"
   },
   {
    "duration": 15,
    "start_time": "2022-10-07T14:27:15.668Z"
   },
   {
    "duration": 27,
    "start_time": "2022-10-07T14:27:15.685Z"
   },
   {
    "duration": 13,
    "start_time": "2022-10-07T14:27:15.714Z"
   },
   {
    "duration": 5,
    "start_time": "2022-10-07T14:27:15.728Z"
   },
   {
    "duration": 19,
    "start_time": "2022-10-07T14:27:15.736Z"
   },
   {
    "duration": 7,
    "start_time": "2022-10-07T14:27:15.757Z"
   },
   {
    "duration": 41,
    "start_time": "2022-10-07T14:27:15.765Z"
   },
   {
    "duration": 8,
    "start_time": "2022-10-07T14:27:15.808Z"
   },
   {
    "duration": 9,
    "start_time": "2022-10-07T14:27:15.818Z"
   },
   {
    "duration": 4,
    "start_time": "2022-10-07T14:27:15.828Z"
   },
   {
    "duration": 22,
    "start_time": "2022-10-07T14:27:15.833Z"
   },
   {
    "duration": 33,
    "start_time": "2022-10-07T14:27:15.857Z"
   },
   {
    "duration": 25,
    "start_time": "2022-10-07T14:27:15.892Z"
   },
   {
    "duration": 20,
    "start_time": "2022-10-07T14:27:15.919Z"
   },
   {
    "duration": 28,
    "start_time": "2022-10-07T14:27:15.940Z"
   },
   {
    "duration": 69,
    "start_time": "2022-10-07T14:29:10.996Z"
   },
   {
    "duration": 19,
    "start_time": "2022-10-07T14:29:17.251Z"
   },
   {
    "duration": 13,
    "start_time": "2022-10-07T14:29:17.845Z"
   },
   {
    "duration": 13,
    "start_time": "2022-10-07T14:29:18.384Z"
   },
   {
    "duration": 16,
    "start_time": "2022-10-07T14:29:33.118Z"
   },
   {
    "duration": 25,
    "start_time": "2022-10-07T14:29:59.376Z"
   },
   {
    "duration": 19,
    "start_time": "2022-10-07T14:29:59.866Z"
   },
   {
    "duration": 13,
    "start_time": "2022-10-07T14:30:00.587Z"
   },
   {
    "duration": 24,
    "start_time": "2022-10-07T14:30:01.092Z"
   },
   {
    "duration": 16,
    "start_time": "2022-10-07T14:30:12.587Z"
   },
   {
    "duration": 16,
    "start_time": "2022-10-07T14:30:32.527Z"
   },
   {
    "duration": 27,
    "start_time": "2022-10-07T14:30:46.072Z"
   },
   {
    "duration": 18,
    "start_time": "2022-10-07T14:31:08.402Z"
   },
   {
    "duration": 27,
    "start_time": "2022-10-07T14:31:10.054Z"
   },
   {
    "duration": 13,
    "start_time": "2022-10-07T14:31:11.194Z"
   },
   {
    "duration": 15,
    "start_time": "2022-10-07T14:31:12.102Z"
   },
   {
    "duration": 13,
    "start_time": "2022-10-07T14:31:22.582Z"
   },
   {
    "duration": 17,
    "start_time": "2022-10-07T14:31:45.441Z"
   },
   {
    "duration": 902,
    "start_time": "2022-10-07T14:36:26.430Z"
   },
   {
    "duration": 9,
    "start_time": "2022-10-07T14:37:19.554Z"
   },
   {
    "duration": 15,
    "start_time": "2022-10-07T14:37:36.304Z"
   },
   {
    "duration": 171,
    "start_time": "2022-10-07T14:41:34.687Z"
   },
   {
    "duration": 347,
    "start_time": "2022-10-07T14:46:12.676Z"
   },
   {
    "duration": 316,
    "start_time": "2022-10-07T14:47:07.399Z"
   },
   {
    "duration": 327,
    "start_time": "2022-10-07T14:47:30.980Z"
   },
   {
    "duration": 347,
    "start_time": "2022-10-07T14:48:02.161Z"
   },
   {
    "duration": 339,
    "start_time": "2022-10-07T14:48:42.468Z"
   },
   {
    "duration": 310,
    "start_time": "2022-10-07T14:49:07.210Z"
   },
   {
    "duration": 11,
    "start_time": "2022-10-07T15:54:14.949Z"
   },
   {
    "duration": 9,
    "start_time": "2022-10-07T15:54:49.514Z"
   },
   {
    "duration": 12,
    "start_time": "2022-10-07T16:06:49.413Z"
   },
   {
    "duration": 12,
    "start_time": "2022-10-07T16:07:06.796Z"
   },
   {
    "duration": 2,
    "start_time": "2022-10-07T16:07:14.005Z"
   },
   {
    "duration": 46,
    "start_time": "2022-10-07T16:07:14.451Z"
   },
   {
    "duration": 14,
    "start_time": "2022-10-07T16:07:14.904Z"
   },
   {
    "duration": 1175,
    "start_time": "2022-10-07T16:07:27.525Z"
   },
   {
    "duration": 0,
    "start_time": "2022-10-07T16:07:28.702Z"
   },
   {
    "duration": 80,
    "start_time": "2022-10-07T16:07:34.829Z"
   },
   {
    "duration": 19,
    "start_time": "2022-10-07T16:07:40.697Z"
   },
   {
    "duration": 13,
    "start_time": "2022-10-07T16:07:54.326Z"
   },
   {
    "duration": 3,
    "start_time": "2022-10-07T16:08:22.745Z"
   },
   {
    "duration": 19,
    "start_time": "2022-10-07T16:08:28.140Z"
   },
   {
    "duration": 451,
    "start_time": "2022-10-07T16:08:37.212Z"
   },
   {
    "duration": 14,
    "start_time": "2022-10-07T16:12:19.612Z"
   },
   {
    "duration": 12,
    "start_time": "2022-10-07T16:12:32.544Z"
   },
   {
    "duration": 425,
    "start_time": "2022-10-07T16:13:40.539Z"
   },
   {
    "duration": 421,
    "start_time": "2022-10-07T16:13:50.313Z"
   },
   {
    "duration": 430,
    "start_time": "2022-10-07T16:14:18.586Z"
   },
   {
    "duration": 409,
    "start_time": "2022-10-07T16:14:26.694Z"
   },
   {
    "duration": 60,
    "start_time": "2022-10-08T08:15:25.218Z"
   },
   {
    "duration": 393,
    "start_time": "2022-10-08T08:15:30.221Z"
   },
   {
    "duration": 102,
    "start_time": "2022-10-08T08:15:30.640Z"
   },
   {
    "duration": 24,
    "start_time": "2022-10-08T08:15:31.402Z"
   },
   {
    "duration": 356,
    "start_time": "2022-10-08T08:15:43.113Z"
   },
   {
    "duration": 51,
    "start_time": "2022-10-08T08:15:43.471Z"
   },
   {
    "duration": 22,
    "start_time": "2022-10-08T08:15:43.523Z"
   },
   {
    "duration": 9,
    "start_time": "2022-10-08T08:15:43.547Z"
   },
   {
    "duration": 9,
    "start_time": "2022-10-08T08:15:43.558Z"
   },
   {
    "duration": 18,
    "start_time": "2022-10-08T08:15:43.568Z"
   },
   {
    "duration": 9,
    "start_time": "2022-10-08T08:15:43.587Z"
   },
   {
    "duration": 14,
    "start_time": "2022-10-08T08:15:43.597Z"
   },
   {
    "duration": 5,
    "start_time": "2022-10-08T08:15:43.613Z"
   },
   {
    "duration": 42,
    "start_time": "2022-10-08T08:15:43.620Z"
   },
   {
    "duration": 16,
    "start_time": "2022-10-08T08:15:43.664Z"
   },
   {
    "duration": 14,
    "start_time": "2022-10-08T08:15:43.682Z"
   },
   {
    "duration": 8,
    "start_time": "2022-10-08T08:15:43.698Z"
   },
   {
    "duration": 8,
    "start_time": "2022-10-08T08:15:43.709Z"
   },
   {
    "duration": 6,
    "start_time": "2022-10-08T08:15:43.718Z"
   },
   {
    "duration": 24,
    "start_time": "2022-10-08T08:15:43.725Z"
   },
   {
    "duration": 46,
    "start_time": "2022-10-08T08:15:43.750Z"
   },
   {
    "duration": 19,
    "start_time": "2022-10-08T08:15:43.798Z"
   },
   {
    "duration": 19,
    "start_time": "2022-10-08T08:15:43.819Z"
   },
   {
    "duration": 42,
    "start_time": "2022-10-08T08:15:43.840Z"
   },
   {
    "duration": 19,
    "start_time": "2022-10-08T08:15:43.883Z"
   },
   {
    "duration": 73,
    "start_time": "2022-10-08T08:15:43.904Z"
   },
   {
    "duration": 0,
    "start_time": "2022-10-08T08:15:43.979Z"
   },
   {
    "duration": 887,
    "start_time": "2022-10-08T08:16:03.329Z"
   },
   {
    "duration": 521,
    "start_time": "2022-10-08T08:16:21.237Z"
   },
   {
    "duration": 55,
    "start_time": "2022-10-08T08:19:40.491Z"
   },
   {
    "duration": 554,
    "start_time": "2022-10-08T08:19:49.117Z"
   },
   {
    "duration": 464,
    "start_time": "2022-10-08T08:29:47.992Z"
   },
   {
    "duration": 20,
    "start_time": "2022-10-08T08:30:35.581Z"
   },
   {
    "duration": 20,
    "start_time": "2022-10-08T08:30:49.599Z"
   },
   {
    "duration": 22,
    "start_time": "2022-10-08T08:31:11.865Z"
   },
   {
    "duration": 22,
    "start_time": "2022-10-08T08:31:12.809Z"
   },
   {
    "duration": 15,
    "start_time": "2022-10-08T08:31:13.908Z"
   },
   {
    "duration": 19,
    "start_time": "2022-10-08T08:31:15.624Z"
   },
   {
    "duration": 508,
    "start_time": "2022-10-08T08:31:17.390Z"
   },
   {
    "duration": 140,
    "start_time": "2022-10-08T08:31:29.693Z"
   },
   {
    "duration": 12,
    "start_time": "2022-10-08T08:33:02.335Z"
   },
   {
    "duration": 530,
    "start_time": "2022-10-08T08:33:10.741Z"
   },
   {
    "duration": 471,
    "start_time": "2022-10-08T08:34:04.548Z"
   },
   {
    "duration": 24,
    "start_time": "2022-10-08T08:49:13.181Z"
   },
   {
    "duration": 28,
    "start_time": "2022-10-08T08:49:38.104Z"
   },
   {
    "duration": 42,
    "start_time": "2022-10-08T08:55:26.686Z"
   },
   {
    "duration": 8,
    "start_time": "2022-10-08T08:59:38.439Z"
   },
   {
    "duration": 75,
    "start_time": "2022-10-08T09:20:27.846Z"
   },
   {
    "duration": 779,
    "start_time": "2022-10-08T09:20:54.034Z"
   },
   {
    "duration": 340,
    "start_time": "2022-10-08T09:21:51.987Z"
   },
   {
    "duration": 272,
    "start_time": "2022-10-08T09:21:58.381Z"
   },
   {
    "duration": 286,
    "start_time": "2022-10-08T09:22:17.398Z"
   },
   {
    "duration": 265,
    "start_time": "2022-10-08T09:22:27.299Z"
   },
   {
    "duration": 295,
    "start_time": "2022-10-08T09:24:49.832Z"
   },
   {
    "duration": 254,
    "start_time": "2022-10-08T09:25:24.840Z"
   },
   {
    "duration": 10,
    "start_time": "2022-10-08T09:35:59.517Z"
   },
   {
    "duration": 6,
    "start_time": "2022-10-08T09:36:22.291Z"
   },
   {
    "duration": 37,
    "start_time": "2022-10-08T09:37:09.040Z"
   },
   {
    "duration": 16,
    "start_time": "2022-10-08T09:37:17.193Z"
   },
   {
    "duration": 17,
    "start_time": "2022-10-08T09:37:38.672Z"
   },
   {
    "duration": 11,
    "start_time": "2022-10-08T09:37:48.320Z"
   },
   {
    "duration": 11,
    "start_time": "2022-10-08T09:37:57.275Z"
   },
   {
    "duration": 10,
    "start_time": "2022-10-08T09:38:09.291Z"
   },
   {
    "duration": 11,
    "start_time": "2022-10-08T09:38:20.191Z"
   },
   {
    "duration": 11,
    "start_time": "2022-10-08T09:39:40.124Z"
   },
   {
    "duration": 17,
    "start_time": "2022-10-08T09:47:56.144Z"
   },
   {
    "duration": 17,
    "start_time": "2022-10-08T09:48:15.991Z"
   },
   {
    "duration": 12,
    "start_time": "2022-10-08T09:49:41.115Z"
   },
   {
    "duration": 16,
    "start_time": "2022-10-08T09:50:23.828Z"
   },
   {
    "duration": 16,
    "start_time": "2022-10-08T09:50:53.386Z"
   },
   {
    "duration": 15,
    "start_time": "2022-10-08T09:51:35.664Z"
   },
   {
    "duration": 12,
    "start_time": "2022-10-08T09:51:56.696Z"
   },
   {
    "duration": 15,
    "start_time": "2022-10-08T09:52:04.301Z"
   },
   {
    "duration": 14,
    "start_time": "2022-10-08T09:52:31.106Z"
   },
   {
    "duration": 9,
    "start_time": "2022-10-08T09:52:43.437Z"
   },
   {
    "duration": 10,
    "start_time": "2022-10-08T09:52:50.899Z"
   },
   {
    "duration": 16,
    "start_time": "2022-10-08T09:53:08.612Z"
   },
   {
    "duration": 61,
    "start_time": "2022-10-08T09:55:17.021Z"
   },
   {
    "duration": 11,
    "start_time": "2022-10-08T09:55:42.080Z"
   },
   {
    "duration": 151,
    "start_time": "2022-10-08T09:58:30.601Z"
   },
   {
    "duration": 149,
    "start_time": "2022-10-08T09:58:45.971Z"
   },
   {
    "duration": 8,
    "start_time": "2022-10-08T10:01:52.972Z"
   },
   {
    "duration": 36,
    "start_time": "2022-10-08T10:02:53.852Z"
   },
   {
    "duration": 49,
    "start_time": "2022-10-08T10:03:27.653Z"
   },
   {
    "duration": 13,
    "start_time": "2022-10-08T10:03:40.825Z"
   },
   {
    "duration": 13,
    "start_time": "2022-10-08T10:04:02.824Z"
   },
   {
    "duration": 12,
    "start_time": "2022-10-08T10:04:22.246Z"
   },
   {
    "duration": 55,
    "start_time": "2022-10-08T10:04:33.430Z"
   },
   {
    "duration": 15,
    "start_time": "2022-10-08T10:04:39.909Z"
   },
   {
    "duration": 17,
    "start_time": "2022-10-08T10:05:46.967Z"
   },
   {
    "duration": 70,
    "start_time": "2022-10-08T10:06:27.764Z"
   },
   {
    "duration": 11,
    "start_time": "2022-10-08T10:06:35.694Z"
   },
   {
    "duration": 15,
    "start_time": "2022-10-08T10:06:55.118Z"
   },
   {
    "duration": 8,
    "start_time": "2022-10-08T10:07:37.270Z"
   },
   {
    "duration": 9,
    "start_time": "2022-10-08T10:07:45.572Z"
   },
   {
    "duration": 10,
    "start_time": "2022-10-08T10:08:02.424Z"
   },
   {
    "duration": 10,
    "start_time": "2022-10-08T10:08:07.856Z"
   },
   {
    "duration": 9,
    "start_time": "2022-10-08T10:08:23.175Z"
   },
   {
    "duration": 13,
    "start_time": "2022-10-08T10:08:36.402Z"
   },
   {
    "duration": 15,
    "start_time": "2022-10-08T10:08:59.099Z"
   },
   {
    "duration": 11,
    "start_time": "2022-10-08T10:11:22.924Z"
   },
   {
    "duration": 11,
    "start_time": "2022-10-08T10:12:18.862Z"
   },
   {
    "duration": 12,
    "start_time": "2022-10-08T10:12:25.573Z"
   },
   {
    "duration": 5,
    "start_time": "2022-10-08T10:59:07.735Z"
   },
   {
    "duration": 17,
    "start_time": "2022-10-08T10:59:17.057Z"
   },
   {
    "duration": 9,
    "start_time": "2022-10-08T10:59:32.401Z"
   },
   {
    "duration": 1185,
    "start_time": "2022-10-08T11:01:41.647Z"
   },
   {
    "duration": 56,
    "start_time": "2022-10-08T11:01:42.834Z"
   },
   {
    "duration": 23,
    "start_time": "2022-10-08T11:01:42.893Z"
   },
   {
    "duration": 3,
    "start_time": "2022-10-08T11:01:42.918Z"
   },
   {
    "duration": 12,
    "start_time": "2022-10-08T11:01:42.923Z"
   },
   {
    "duration": 40,
    "start_time": "2022-10-08T11:01:42.937Z"
   },
   {
    "duration": 10,
    "start_time": "2022-10-08T11:01:42.979Z"
   },
   {
    "duration": 27,
    "start_time": "2022-10-08T11:01:42.992Z"
   },
   {
    "duration": 8,
    "start_time": "2022-10-08T11:01:43.022Z"
   },
   {
    "duration": 50,
    "start_time": "2022-10-08T11:01:43.033Z"
   },
   {
    "duration": 11,
    "start_time": "2022-10-08T11:01:43.085Z"
   },
   {
    "duration": 14,
    "start_time": "2022-10-08T11:01:43.098Z"
   },
   {
    "duration": 6,
    "start_time": "2022-10-08T11:01:43.115Z"
   },
   {
    "duration": 21,
    "start_time": "2022-10-08T11:01:43.123Z"
   },
   {
    "duration": 30,
    "start_time": "2022-10-08T11:01:43.147Z"
   },
   {
    "duration": 12,
    "start_time": "2022-10-08T11:01:43.179Z"
   },
   {
    "duration": 9,
    "start_time": "2022-10-08T11:01:43.193Z"
   },
   {
    "duration": 44,
    "start_time": "2022-10-08T11:01:43.204Z"
   },
   {
    "duration": 35,
    "start_time": "2022-10-08T11:01:43.250Z"
   },
   {
    "duration": 21,
    "start_time": "2022-10-08T11:01:43.287Z"
   },
   {
    "duration": 19,
    "start_time": "2022-10-08T11:01:43.310Z"
   },
   {
    "duration": 13,
    "start_time": "2022-10-08T11:01:43.331Z"
   },
   {
    "duration": 45,
    "start_time": "2022-10-08T11:01:43.346Z"
   },
   {
    "duration": 526,
    "start_time": "2022-10-08T11:01:43.393Z"
   },
   {
    "duration": 510,
    "start_time": "2022-10-08T11:01:43.921Z"
   },
   {
    "duration": 27,
    "start_time": "2022-10-08T11:01:44.433Z"
   },
   {
    "duration": 319,
    "start_time": "2022-10-08T11:01:44.461Z"
   },
   {
    "duration": 13,
    "start_time": "2022-10-08T11:01:44.784Z"
   },
   {
    "duration": 302,
    "start_time": "2022-10-08T11:01:44.799Z"
   },
   {
    "duration": 395,
    "start_time": "2022-10-08T11:03:46.627Z"
   },
   {
    "duration": 35,
    "start_time": "2022-10-08T11:03:58.049Z"
   },
   {
    "duration": 20,
    "start_time": "2022-10-08T11:04:17.034Z"
   },
   {
    "duration": 27,
    "start_time": "2022-10-08T11:04:46.713Z"
   },
   {
    "duration": 169,
    "start_time": "2022-10-08T11:06:11.573Z"
   },
   {
    "duration": 14,
    "start_time": "2022-10-08T11:06:35.312Z"
   },
   {
    "duration": 11,
    "start_time": "2022-10-08T11:07:06.710Z"
   },
   {
    "duration": 87,
    "start_time": "2022-10-08T11:07:18.636Z"
   },
   {
    "duration": 25,
    "start_time": "2022-10-08T11:07:55.163Z"
   },
   {
    "duration": 18,
    "start_time": "2022-10-08T11:08:25.306Z"
   },
   {
    "duration": 12,
    "start_time": "2022-10-08T11:09:52.705Z"
   },
   {
    "duration": 402,
    "start_time": "2022-10-08T11:10:59.099Z"
   },
   {
    "duration": 460,
    "start_time": "2022-10-08T11:11:26.578Z"
   },
   {
    "duration": 273,
    "start_time": "2022-10-08T11:11:29.761Z"
   },
   {
    "duration": 16,
    "start_time": "2022-10-08T11:12:04.674Z"
   },
   {
    "duration": 226,
    "start_time": "2022-10-08T11:12:11.360Z"
   },
   {
    "duration": 184,
    "start_time": "2022-10-08T11:12:28.408Z"
   },
   {
    "duration": 208,
    "start_time": "2022-10-08T11:12:37.299Z"
   },
   {
    "duration": 281,
    "start_time": "2022-10-08T11:13:00.550Z"
   },
   {
    "duration": 308,
    "start_time": "2022-10-08T11:13:08.905Z"
   },
   {
    "duration": 377,
    "start_time": "2022-10-08T11:13:14.567Z"
   },
   {
    "duration": 204,
    "start_time": "2022-10-08T11:14:39.640Z"
   },
   {
    "duration": 312,
    "start_time": "2022-10-08T11:15:15.119Z"
   },
   {
    "duration": 192,
    "start_time": "2022-10-08T11:15:38.190Z"
   },
   {
    "duration": 16,
    "start_time": "2022-10-08T11:15:58.126Z"
   },
   {
    "duration": 370,
    "start_time": "2022-10-08T11:15:58.930Z"
   },
   {
    "duration": 595,
    "start_time": "2022-10-08T11:16:32.833Z"
   },
   {
    "duration": 11,
    "start_time": "2022-10-08T11:16:50.726Z"
   },
   {
    "duration": 205,
    "start_time": "2022-10-08T11:16:51.694Z"
   },
   {
    "duration": 17,
    "start_time": "2022-10-08T11:21:20.028Z"
   },
   {
    "duration": 23,
    "start_time": "2022-10-08T11:21:55.089Z"
   },
   {
    "duration": 19,
    "start_time": "2022-10-08T11:22:06.617Z"
   },
   {
    "duration": 17,
    "start_time": "2022-10-08T11:22:48.213Z"
   },
   {
    "duration": 18,
    "start_time": "2022-10-08T11:22:54.210Z"
   },
   {
    "duration": 15,
    "start_time": "2022-10-08T11:23:08.997Z"
   },
   {
    "duration": 30,
    "start_time": "2022-10-08T11:23:20.369Z"
   },
   {
    "duration": 16,
    "start_time": "2022-10-08T11:24:07.252Z"
   },
   {
    "duration": 16,
    "start_time": "2022-10-08T11:24:08.349Z"
   },
   {
    "duration": 13,
    "start_time": "2022-10-08T11:24:32.636Z"
   },
   {
    "duration": 28,
    "start_time": "2022-10-08T11:24:48.762Z"
   },
   {
    "duration": 15,
    "start_time": "2022-10-08T11:24:55.830Z"
   },
   {
    "duration": 17,
    "start_time": "2022-10-08T11:25:17.549Z"
   },
   {
    "duration": 17,
    "start_time": "2022-10-08T11:25:27.097Z"
   },
   {
    "duration": 13,
    "start_time": "2022-10-08T11:25:32.217Z"
   },
   {
    "duration": 22,
    "start_time": "2022-10-08T11:25:48.670Z"
   },
   {
    "duration": 311,
    "start_time": "2022-10-08T11:25:54.451Z"
   },
   {
    "duration": 11,
    "start_time": "2022-10-08T11:26:23.751Z"
   },
   {
    "duration": 226,
    "start_time": "2022-10-08T11:26:24.730Z"
   },
   {
    "duration": 152,
    "start_time": "2022-10-08T11:27:09.238Z"
   },
   {
    "duration": 155,
    "start_time": "2022-10-08T11:27:19.854Z"
   },
   {
    "duration": 203,
    "start_time": "2022-10-08T11:27:43.132Z"
   },
   {
    "duration": 7,
    "start_time": "2022-10-08T11:38:13.373Z"
   },
   {
    "duration": 55,
    "start_time": "2022-10-08T11:38:56.547Z"
   },
   {
    "duration": 4,
    "start_time": "2022-10-08T11:39:21.440Z"
   },
   {
    "duration": 11,
    "start_time": "2022-10-08T11:39:32.730Z"
   },
   {
    "duration": 46,
    "start_time": "2022-10-08T11:39:45.684Z"
   },
   {
    "duration": 74,
    "start_time": "2022-10-08T11:40:25.144Z"
   },
   {
    "duration": 55,
    "start_time": "2022-10-08T11:41:18.456Z"
   },
   {
    "duration": 63,
    "start_time": "2022-10-08T11:41:22.899Z"
   },
   {
    "duration": 9,
    "start_time": "2022-10-08T11:41:55.422Z"
   },
   {
    "duration": 12,
    "start_time": "2022-10-08T11:43:24.582Z"
   },
   {
    "duration": 224,
    "start_time": "2022-10-08T11:43:33.416Z"
   },
   {
    "duration": 13,
    "start_time": "2022-10-08T11:44:06.063Z"
   },
   {
    "duration": 200,
    "start_time": "2022-10-08T11:44:12.817Z"
   },
   {
    "duration": 274,
    "start_time": "2022-10-08T11:46:38.259Z"
   },
   {
    "duration": 18,
    "start_time": "2022-10-08T11:47:27.850Z"
   },
   {
    "duration": 9,
    "start_time": "2022-10-08T11:49:05.138Z"
   },
   {
    "duration": 18,
    "start_time": "2022-10-08T11:49:53.389Z"
   },
   {
    "duration": 13,
    "start_time": "2022-10-08T11:52:00.906Z"
   },
   {
    "duration": 201,
    "start_time": "2022-10-08T11:52:34.620Z"
   },
   {
    "duration": 16,
    "start_time": "2022-10-08T11:52:57.065Z"
   },
   {
    "duration": 17,
    "start_time": "2022-10-08T11:53:07.761Z"
   },
   {
    "duration": 18,
    "start_time": "2022-10-08T11:53:21.979Z"
   },
   {
    "duration": 173,
    "start_time": "2022-10-08T11:54:21.212Z"
   },
   {
    "duration": 14,
    "start_time": "2022-10-08T11:59:20.395Z"
   },
   {
    "duration": 288,
    "start_time": "2022-10-08T11:59:28.448Z"
   },
   {
    "duration": 165,
    "start_time": "2022-10-08T12:04:04.078Z"
   },
   {
    "duration": 13,
    "start_time": "2022-10-08T12:06:07.720Z"
   },
   {
    "duration": 157,
    "start_time": "2022-10-08T12:06:27.785Z"
   },
   {
    "duration": 15,
    "start_time": "2022-10-08T12:08:31.577Z"
   },
   {
    "duration": 15,
    "start_time": "2022-10-08T12:09:19.122Z"
   },
   {
    "duration": 16,
    "start_time": "2022-10-08T12:10:42.159Z"
   },
   {
    "duration": 15,
    "start_time": "2022-10-08T12:11:13.229Z"
   },
   {
    "duration": 16,
    "start_time": "2022-10-08T12:11:19.387Z"
   },
   {
    "duration": 8,
    "start_time": "2022-10-08T12:11:32.930Z"
   },
   {
    "duration": 10,
    "start_time": "2022-10-08T12:12:13.292Z"
   },
   {
    "duration": 15,
    "start_time": "2022-10-08T12:12:17.667Z"
   },
   {
    "duration": 19,
    "start_time": "2022-10-08T12:12:46.569Z"
   },
   {
    "duration": 770,
    "start_time": "2022-10-08T12:14:00.886Z"
   },
   {
    "duration": 272,
    "start_time": "2022-10-08T12:14:38.951Z"
   },
   {
    "duration": 16,
    "start_time": "2022-10-08T12:15:07.664Z"
   },
   {
    "duration": 9,
    "start_time": "2022-10-08T12:17:38.940Z"
   },
   {
    "duration": 724,
    "start_time": "2022-10-08T12:18:12.310Z"
   },
   {
    "duration": 11,
    "start_time": "2022-10-08T12:18:21.684Z"
   },
   {
    "duration": 90,
    "start_time": "2022-10-08T12:18:31.433Z"
   },
   {
    "duration": 92,
    "start_time": "2022-10-08T12:18:59.228Z"
   },
   {
    "duration": 8,
    "start_time": "2022-10-08T12:20:15.906Z"
   },
   {
    "duration": 191,
    "start_time": "2022-10-08T12:20:53.517Z"
   },
   {
    "duration": 173,
    "start_time": "2022-10-08T12:22:56.666Z"
   },
   {
    "duration": 175,
    "start_time": "2022-10-08T12:23:11.288Z"
   },
   {
    "duration": 16,
    "start_time": "2022-10-08T12:24:54.367Z"
   },
   {
    "duration": 9,
    "start_time": "2022-10-08T12:25:30.680Z"
   },
   {
    "duration": 14,
    "start_time": "2022-10-08T12:25:43.967Z"
   },
   {
    "duration": 787,
    "start_time": "2022-10-08T12:25:59.704Z"
   },
   {
    "duration": 930,
    "start_time": "2022-10-08T12:26:52.343Z"
   },
   {
    "duration": 864,
    "start_time": "2022-10-08T12:27:07.008Z"
   },
   {
    "duration": 942,
    "start_time": "2022-10-08T12:27:25.204Z"
   },
   {
    "duration": 49,
    "start_time": "2022-10-08T12:28:00.774Z"
   },
   {
    "duration": 315,
    "start_time": "2022-10-08T12:28:06.990Z"
   },
   {
    "duration": 189,
    "start_time": "2022-10-08T12:28:20.117Z"
   },
   {
    "duration": 1485,
    "start_time": "2022-10-08T12:28:48.304Z"
   },
   {
    "duration": 255,
    "start_time": "2022-10-08T12:29:46.200Z"
   },
   {
    "duration": 138,
    "start_time": "2022-10-08T12:30:10.965Z"
   },
   {
    "duration": 348,
    "start_time": "2022-10-08T12:30:25.488Z"
   },
   {
    "duration": 11,
    "start_time": "2022-10-08T12:31:00.238Z"
   },
   {
    "duration": 255,
    "start_time": "2022-10-08T12:31:07.958Z"
   },
   {
    "duration": 9,
    "start_time": "2022-10-08T12:33:09.244Z"
   },
   {
    "duration": 9,
    "start_time": "2022-10-08T12:33:15.474Z"
   },
   {
    "duration": 153,
    "start_time": "2022-10-08T12:33:36.673Z"
   },
   {
    "duration": 134,
    "start_time": "2022-10-08T12:33:49.351Z"
   },
   {
    "duration": 9,
    "start_time": "2022-10-08T12:36:00.737Z"
   },
   {
    "duration": 905,
    "start_time": "2022-10-08T12:36:12.124Z"
   },
   {
    "duration": 123,
    "start_time": "2022-10-08T12:36:29.568Z"
   },
   {
    "duration": 117,
    "start_time": "2022-10-08T12:36:44.354Z"
   },
   {
    "duration": 14,
    "start_time": "2022-10-08T12:39:23.653Z"
   },
   {
    "duration": 14,
    "start_time": "2022-10-08T12:39:45.775Z"
   },
   {
    "duration": 50,
    "start_time": "2022-10-08T12:42:12.522Z"
   },
   {
    "duration": 993,
    "start_time": "2022-10-08T12:42:55.843Z"
   },
   {
    "duration": 119,
    "start_time": "2022-10-08T12:43:17.169Z"
   },
   {
    "duration": 873,
    "start_time": "2022-10-08T12:43:25.790Z"
   },
   {
    "duration": 14,
    "start_time": "2022-10-08T12:44:28.004Z"
   },
   {
    "duration": 988,
    "start_time": "2022-10-08T12:44:36.577Z"
   },
   {
    "duration": 197,
    "start_time": "2022-10-08T12:45:05.316Z"
   },
   {
    "duration": 19,
    "start_time": "2022-10-08T12:48:58.318Z"
   },
   {
    "duration": 16,
    "start_time": "2022-10-08T12:49:43.697Z"
   },
   {
    "duration": 18,
    "start_time": "2022-10-08T12:50:15.369Z"
   },
   {
    "duration": 16,
    "start_time": "2022-10-08T12:50:27.944Z"
   },
   {
    "duration": 15,
    "start_time": "2022-10-08T12:50:40.336Z"
   },
   {
    "duration": 13,
    "start_time": "2022-10-08T12:51:40.872Z"
   },
   {
    "duration": 15,
    "start_time": "2022-10-08T12:51:49.701Z"
   },
   {
    "duration": 172,
    "start_time": "2022-10-08T12:51:54.305Z"
   },
   {
    "duration": 131,
    "start_time": "2022-10-08T12:56:48.839Z"
   },
   {
    "duration": 14,
    "start_time": "2022-10-08T13:00:00.082Z"
   },
   {
    "duration": 19,
    "start_time": "2022-10-08T13:00:18.789Z"
   },
   {
    "duration": 19,
    "start_time": "2022-10-08T13:00:39.075Z"
   },
   {
    "duration": 14,
    "start_time": "2022-10-08T13:00:53.978Z"
   },
   {
    "duration": 23,
    "start_time": "2022-10-08T13:02:09.482Z"
   },
   {
    "duration": 21,
    "start_time": "2022-10-08T13:02:22.455Z"
   },
   {
    "duration": 20,
    "start_time": "2022-10-08T13:02:40.389Z"
   },
   {
    "duration": 353,
    "start_time": "2022-10-08T13:04:00.398Z"
   },
   {
    "duration": 418,
    "start_time": "2022-10-08T13:05:35.581Z"
   },
   {
    "duration": 2845,
    "start_time": "2022-10-08T13:07:05.704Z"
   },
   {
    "duration": 530,
    "start_time": "2022-10-08T13:07:19.778Z"
   },
   {
    "duration": 213,
    "start_time": "2022-10-08T13:12:30.594Z"
   },
   {
    "duration": 371,
    "start_time": "2022-10-08T13:14:02.704Z"
   },
   {
    "duration": 364,
    "start_time": "2022-10-08T13:14:28.516Z"
   },
   {
    "duration": 353,
    "start_time": "2022-10-08T13:14:33.849Z"
   },
   {
    "duration": 431,
    "start_time": "2022-10-08T13:16:14.446Z"
   },
   {
    "duration": 610,
    "start_time": "2022-10-08T13:18:17.369Z"
   },
   {
    "duration": 391,
    "start_time": "2022-10-08T13:18:52.383Z"
   },
   {
    "duration": 351,
    "start_time": "2022-10-08T13:52:50.303Z"
   },
   {
    "duration": 344,
    "start_time": "2022-10-08T13:53:26.432Z"
   },
   {
    "duration": 371,
    "start_time": "2022-10-08T13:55:20.726Z"
   },
   {
    "duration": 472,
    "start_time": "2022-10-08T13:55:28.605Z"
   },
   {
    "duration": 347,
    "start_time": "2022-10-08T13:56:06.111Z"
   },
   {
    "duration": 394,
    "start_time": "2022-10-08T13:56:15.083Z"
   },
   {
    "duration": 340,
    "start_time": "2022-10-08T13:57:13.913Z"
   },
   {
    "duration": 375,
    "start_time": "2022-10-08T13:57:25.552Z"
   },
   {
    "duration": 414,
    "start_time": "2022-10-08T13:57:45.046Z"
   },
   {
    "duration": 476,
    "start_time": "2022-10-08T13:57:51.474Z"
   },
   {
    "duration": 345,
    "start_time": "2022-10-08T13:58:01.545Z"
   },
   {
    "duration": 360,
    "start_time": "2022-10-08T13:58:38.714Z"
   },
   {
    "duration": 416,
    "start_time": "2022-10-08T13:59:14.874Z"
   },
   {
    "duration": 391,
    "start_time": "2022-10-08T14:00:14.760Z"
   },
   {
    "duration": 492,
    "start_time": "2022-10-08T14:00:33.504Z"
   },
   {
    "duration": 370,
    "start_time": "2022-10-08T14:02:51.787Z"
   },
   {
    "duration": 368,
    "start_time": "2022-10-08T14:04:11.355Z"
   },
   {
    "duration": 399,
    "start_time": "2022-10-08T14:04:22.303Z"
   },
   {
    "duration": 366,
    "start_time": "2022-10-08T14:04:32.074Z"
   },
   {
    "duration": 379,
    "start_time": "2022-10-08T14:04:48.983Z"
   },
   {
    "duration": 541,
    "start_time": "2022-10-08T14:04:56.613Z"
   },
   {
    "duration": 359,
    "start_time": "2022-10-08T14:05:57.132Z"
   },
   {
    "duration": 379,
    "start_time": "2022-10-08T14:06:07.503Z"
   },
   {
    "duration": 360,
    "start_time": "2022-10-08T14:06:13.644Z"
   },
   {
    "duration": 366,
    "start_time": "2022-10-08T14:06:45.504Z"
   },
   {
    "duration": 492,
    "start_time": "2022-10-08T14:07:03.628Z"
   },
   {
    "duration": 421,
    "start_time": "2022-10-08T14:07:22.191Z"
   },
   {
    "duration": 392,
    "start_time": "2022-10-08T14:07:59.274Z"
   },
   {
    "duration": 370,
    "start_time": "2022-10-08T14:08:08.081Z"
   },
   {
    "duration": 363,
    "start_time": "2022-10-08T14:08:47.608Z"
   },
   {
    "duration": 405,
    "start_time": "2022-10-08T14:09:04.504Z"
   },
   {
    "duration": 493,
    "start_time": "2022-10-08T14:09:31.029Z"
   },
   {
    "duration": 404,
    "start_time": "2022-10-08T14:09:40.264Z"
   },
   {
    "duration": 246,
    "start_time": "2022-10-08T14:14:17.471Z"
   },
   {
    "duration": 173,
    "start_time": "2022-10-08T14:15:05.509Z"
   },
   {
    "duration": 251,
    "start_time": "2022-10-08T14:15:18.326Z"
   },
   {
    "duration": 234,
    "start_time": "2022-10-08T14:16:03.045Z"
   },
   {
    "duration": 410,
    "start_time": "2022-10-08T14:16:18.167Z"
   },
   {
    "duration": 24,
    "start_time": "2022-10-08T14:16:57.758Z"
   },
   {
    "duration": 529,
    "start_time": "2022-10-08T14:17:08.248Z"
   },
   {
    "duration": 375,
    "start_time": "2022-10-08T14:17:36.275Z"
   },
   {
    "duration": 239,
    "start_time": "2022-10-08T14:17:46.622Z"
   },
   {
    "duration": 14,
    "start_time": "2022-10-08T14:34:22.065Z"
   },
   {
    "duration": 15,
    "start_time": "2022-10-08T14:35:26.677Z"
   },
   {
    "duration": 27,
    "start_time": "2022-10-08T14:36:56.574Z"
   },
   {
    "duration": 291,
    "start_time": "2022-10-08T14:36:57.499Z"
   },
   {
    "duration": 11,
    "start_time": "2022-10-08T14:37:07.869Z"
   },
   {
    "duration": 215,
    "start_time": "2022-10-08T14:37:09.874Z"
   },
   {
    "duration": 235,
    "start_time": "2022-10-08T14:37:11.023Z"
   },
   {
    "duration": 21,
    "start_time": "2022-10-08T14:37:12.878Z"
   },
   {
    "duration": 497,
    "start_time": "2022-10-08T14:37:15.127Z"
   },
   {
    "duration": 288,
    "start_time": "2022-10-08T14:37:41.992Z"
   },
   {
    "duration": 3738,
    "start_time": "2022-10-08T14:38:53.057Z"
   },
   {
    "duration": 13842,
    "start_time": "2022-10-08T14:40:17.159Z"
   },
   {
    "duration": 271,
    "start_time": "2022-10-08T14:41:25.913Z"
   },
   {
    "duration": 156,
    "start_time": "2022-10-08T14:43:19.720Z"
   },
   {
    "duration": 159,
    "start_time": "2022-10-08T14:43:33.646Z"
   },
   {
    "duration": 13491,
    "start_time": "2022-10-08T14:44:21.428Z"
   },
   {
    "duration": 216,
    "start_time": "2022-10-08T14:47:16.992Z"
   },
   {
    "duration": 1134,
    "start_time": "2022-10-08T14:47:41.739Z"
   },
   {
    "duration": 392,
    "start_time": "2022-10-08T14:47:49.686Z"
   },
   {
    "duration": 18,
    "start_time": "2022-10-08T14:48:52.994Z"
   },
   {
    "duration": 12,
    "start_time": "2022-10-08T14:49:19.734Z"
   },
   {
    "duration": 6,
    "start_time": "2022-10-08T14:49:27.322Z"
   },
   {
    "duration": 19,
    "start_time": "2022-10-08T14:51:15.248Z"
   },
   {
    "duration": 10,
    "start_time": "2022-10-08T14:52:37.063Z"
   },
   {
    "duration": 13,
    "start_time": "2022-10-08T14:52:37.645Z"
   },
   {
    "duration": 9,
    "start_time": "2022-10-08T14:52:51.983Z"
   },
   {
    "duration": 697,
    "start_time": "2022-10-08T14:52:52.563Z"
   },
   {
    "duration": 15,
    "start_time": "2022-10-08T14:53:15.433Z"
   },
   {
    "duration": 197,
    "start_time": "2022-10-08T14:53:16.141Z"
   },
   {
    "duration": 11,
    "start_time": "2022-10-08T14:53:56.312Z"
   },
   {
    "duration": 213,
    "start_time": "2022-10-08T14:53:56.853Z"
   },
   {
    "duration": 10,
    "start_time": "2022-10-08T14:54:04.489Z"
   },
   {
    "duration": 14,
    "start_time": "2022-10-08T14:54:08.008Z"
   },
   {
    "duration": 224,
    "start_time": "2022-10-08T14:55:07.010Z"
   },
   {
    "duration": 13313,
    "start_time": "2022-10-08T14:55:30.064Z"
   },
   {
    "duration": 194,
    "start_time": "2022-10-08T14:55:49.470Z"
   },
   {
    "duration": 202,
    "start_time": "2022-10-08T14:56:14.799Z"
   },
   {
    "duration": 200,
    "start_time": "2022-10-08T14:56:21.298Z"
   },
   {
    "duration": 198,
    "start_time": "2022-10-08T14:56:28.614Z"
   },
   {
    "duration": 201,
    "start_time": "2022-10-08T14:56:42.445Z"
   },
   {
    "duration": 3960,
    "start_time": "2022-10-08T14:57:50.474Z"
   },
   {
    "duration": 195,
    "start_time": "2022-10-08T14:58:19.537Z"
   },
   {
    "duration": 215,
    "start_time": "2022-10-08T14:58:25.102Z"
   },
   {
    "duration": 209,
    "start_time": "2022-10-08T14:58:42.533Z"
   },
   {
    "duration": 197,
    "start_time": "2022-10-08T14:58:49.835Z"
   },
   {
    "duration": 197,
    "start_time": "2022-10-08T14:58:59.871Z"
   },
   {
    "duration": 24,
    "start_time": "2022-10-08T15:01:22.473Z"
   },
   {
    "duration": 24,
    "start_time": "2022-10-08T15:01:39.492Z"
   },
   {
    "duration": 6,
    "start_time": "2022-10-08T15:02:32.395Z"
   },
   {
    "duration": 9,
    "start_time": "2022-10-08T15:03:09.736Z"
   },
   {
    "duration": 13,
    "start_time": "2022-10-08T15:03:17.062Z"
   },
   {
    "duration": 14,
    "start_time": "2022-10-08T15:03:42.184Z"
   },
   {
    "duration": 16,
    "start_time": "2022-10-08T15:03:57.544Z"
   },
   {
    "duration": 16,
    "start_time": "2022-10-08T15:08:34.422Z"
   },
   {
    "duration": 13,
    "start_time": "2022-10-08T15:08:51.354Z"
   },
   {
    "duration": 15,
    "start_time": "2022-10-08T15:10:09.596Z"
   },
   {
    "duration": 23,
    "start_time": "2022-10-08T15:11:43.079Z"
   },
   {
    "duration": 33,
    "start_time": "2022-10-08T15:11:52.014Z"
   },
   {
    "duration": 17,
    "start_time": "2022-10-08T15:12:57.020Z"
   },
   {
    "duration": 34,
    "start_time": "2022-10-08T15:13:03.021Z"
   },
   {
    "duration": 37,
    "start_time": "2022-10-08T15:13:15.241Z"
   },
   {
    "duration": 43,
    "start_time": "2022-10-08T15:13:29.646Z"
   },
   {
    "duration": 21,
    "start_time": "2022-10-08T17:41:07.489Z"
   },
   {
    "duration": 11,
    "start_time": "2022-10-08T17:41:40.880Z"
   },
   {
    "duration": 12,
    "start_time": "2022-10-08T17:43:39.472Z"
   },
   {
    "duration": 11,
    "start_time": "2022-10-08T17:43:47.466Z"
   },
   {
    "duration": 13,
    "start_time": "2022-10-08T17:43:55.836Z"
   },
   {
    "duration": 29,
    "start_time": "2022-10-08T17:44:07.971Z"
   },
   {
    "duration": 38,
    "start_time": "2022-10-08T17:45:54.060Z"
   },
   {
    "duration": 20,
    "start_time": "2022-10-08T17:46:27.904Z"
   },
   {
    "duration": 14,
    "start_time": "2022-10-08T17:47:26.793Z"
   },
   {
    "duration": 23,
    "start_time": "2022-10-08T17:48:48.784Z"
   },
   {
    "duration": 26,
    "start_time": "2022-10-08T17:50:14.243Z"
   },
   {
    "duration": 30,
    "start_time": "2022-10-08T17:50:35.233Z"
   },
   {
    "duration": 4,
    "start_time": "2022-10-08T18:17:35.146Z"
   },
   {
    "duration": 11,
    "start_time": "2022-10-08T18:17:40.982Z"
   },
   {
    "duration": 11,
    "start_time": "2022-10-08T18:17:58.367Z"
   },
   {
    "duration": 51,
    "start_time": "2022-10-08T18:19:46.838Z"
   },
   {
    "duration": 24,
    "start_time": "2022-10-08T18:20:18.502Z"
   },
   {
    "duration": 32,
    "start_time": "2022-10-08T18:20:51.014Z"
   },
   {
    "duration": 19,
    "start_time": "2022-10-08T18:21:08.903Z"
   },
   {
    "duration": 21,
    "start_time": "2022-10-08T18:21:22.337Z"
   },
   {
    "duration": 19,
    "start_time": "2022-10-08T18:21:52.578Z"
   },
   {
    "duration": 23,
    "start_time": "2022-10-08T18:22:10.497Z"
   },
   {
    "duration": 16,
    "start_time": "2022-10-08T18:23:14.103Z"
   },
   {
    "duration": 47,
    "start_time": "2022-10-08T18:24:21.337Z"
   },
   {
    "duration": 18,
    "start_time": "2022-10-08T18:24:28.393Z"
   },
   {
    "duration": 24,
    "start_time": "2022-10-08T18:24:38.328Z"
   },
   {
    "duration": 30,
    "start_time": "2022-10-08T18:25:29.911Z"
   },
   {
    "duration": 26,
    "start_time": "2022-10-08T18:32:16.834Z"
   },
   {
    "duration": 468,
    "start_time": "2022-10-08T18:39:39.811Z"
   },
   {
    "duration": 231,
    "start_time": "2022-10-08T18:40:27.438Z"
   },
   {
    "duration": 218,
    "start_time": "2022-10-08T18:40:35.560Z"
   },
   {
    "duration": 230,
    "start_time": "2022-10-08T18:41:10.875Z"
   },
   {
    "duration": 255,
    "start_time": "2022-10-08T18:41:21.778Z"
   },
   {
    "duration": 217,
    "start_time": "2022-10-08T18:41:31.540Z"
   },
   {
    "duration": 21,
    "start_time": "2022-10-08T18:56:56.146Z"
   },
   {
    "duration": 19,
    "start_time": "2022-10-08T18:58:21.957Z"
   },
   {
    "duration": 20,
    "start_time": "2022-10-08T18:58:58.441Z"
   },
   {
    "duration": 408,
    "start_time": "2022-10-08T18:59:13.673Z"
   },
   {
    "duration": 405,
    "start_time": "2022-10-08T18:59:58.025Z"
   },
   {
    "duration": 21,
    "start_time": "2022-10-08T19:00:22.922Z"
   },
   {
    "duration": 20,
    "start_time": "2022-10-08T19:00:36.931Z"
   },
   {
    "duration": 377,
    "start_time": "2022-10-08T19:00:50.447Z"
   },
   {
    "duration": 391,
    "start_time": "2022-10-08T19:01:34.222Z"
   },
   {
    "duration": 384,
    "start_time": "2022-10-08T19:02:28.705Z"
   },
   {
    "duration": 391,
    "start_time": "2022-10-08T19:02:50.531Z"
   },
   {
    "duration": 238,
    "start_time": "2022-10-08T19:03:55.877Z"
   },
   {
    "duration": 42,
    "start_time": "2022-10-08T19:04:36.358Z"
   },
   {
    "duration": 221,
    "start_time": "2022-10-08T19:04:44.673Z"
   },
   {
    "duration": 20,
    "start_time": "2022-10-08T19:05:02.134Z"
   },
   {
    "duration": 454,
    "start_time": "2022-10-08T19:05:23.034Z"
   },
   {
    "duration": 478,
    "start_time": "2022-10-08T19:06:16.761Z"
   },
   {
    "duration": 197,
    "start_time": "2022-10-08T19:06:29.134Z"
   },
   {
    "duration": 45,
    "start_time": "2022-10-08T19:06:33.735Z"
   },
   {
    "duration": 14,
    "start_time": "2022-10-08T19:06:39.535Z"
   },
   {
    "duration": 14,
    "start_time": "2022-10-08T19:06:40.473Z"
   },
   {
    "duration": 286,
    "start_time": "2022-10-08T19:06:46.633Z"
   },
   {
    "duration": 31,
    "start_time": "2022-10-08T19:06:54.133Z"
   },
   {
    "duration": 35,
    "start_time": "2022-10-08T19:08:32.642Z"
   },
   {
    "duration": 30,
    "start_time": "2022-10-08T19:08:59.820Z"
   },
   {
    "duration": 28,
    "start_time": "2022-10-08T19:09:24.922Z"
   },
   {
    "duration": 23,
    "start_time": "2022-10-08T19:09:41.757Z"
   },
   {
    "duration": 21,
    "start_time": "2022-10-08T19:10:12.405Z"
   },
   {
    "duration": 27,
    "start_time": "2022-10-08T19:10:16.131Z"
   },
   {
    "duration": 398,
    "start_time": "2022-10-08T19:11:29.728Z"
   },
   {
    "duration": 383,
    "start_time": "2022-10-08T19:12:11.018Z"
   },
   {
    "duration": 22,
    "start_time": "2022-10-08T19:12:46.048Z"
   },
   {
    "duration": 24,
    "start_time": "2022-10-08T19:12:59.532Z"
   },
   {
    "duration": 383,
    "start_time": "2022-10-08T19:13:33.600Z"
   },
   {
    "duration": 417,
    "start_time": "2022-10-08T19:16:45.134Z"
   },
   {
    "duration": 29,
    "start_time": "2022-10-08T19:20:15.513Z"
   },
   {
    "duration": 417,
    "start_time": "2022-10-08T19:20:38.512Z"
   },
   {
    "duration": 430,
    "start_time": "2022-10-08T19:20:43.392Z"
   },
   {
    "duration": 455,
    "start_time": "2022-10-08T19:20:48.884Z"
   },
   {
    "duration": 9,
    "start_time": "2022-10-08T19:31:08.629Z"
   },
   {
    "duration": 9,
    "start_time": "2022-10-08T19:31:40.121Z"
   },
   {
    "duration": 62,
    "start_time": "2022-10-08T19:33:09.422Z"
   },
   {
    "duration": 163,
    "start_time": "2022-10-08T19:33:30.145Z"
   },
   {
    "duration": 164,
    "start_time": "2022-10-08T19:34:04.157Z"
   },
   {
    "duration": 159,
    "start_time": "2022-10-08T19:34:29.718Z"
   },
   {
    "duration": 10,
    "start_time": "2022-10-08T19:41:41.931Z"
   },
   {
    "duration": 6,
    "start_time": "2022-10-08T19:43:14.372Z"
   },
   {
    "duration": 24,
    "start_time": "2022-10-08T19:43:39.121Z"
   },
   {
    "duration": 6,
    "start_time": "2022-10-08T19:43:55.466Z"
   },
   {
    "duration": 6,
    "start_time": "2022-10-08T19:44:13.918Z"
   },
   {
    "duration": 6,
    "start_time": "2022-10-08T19:45:01.203Z"
   },
   {
    "duration": 6,
    "start_time": "2022-10-08T19:45:25.825Z"
   },
   {
    "duration": 10,
    "start_time": "2022-10-08T19:45:35.030Z"
   },
   {
    "duration": 10,
    "start_time": "2022-10-08T19:50:29.613Z"
   },
   {
    "duration": 11,
    "start_time": "2022-10-08T19:50:39.931Z"
   },
   {
    "duration": 11,
    "start_time": "2022-10-08T19:50:48.583Z"
   },
   {
    "duration": 7,
    "start_time": "2022-10-08T19:51:31.537Z"
   },
   {
    "duration": 7,
    "start_time": "2022-10-08T19:55:56.521Z"
   },
   {
    "duration": 6,
    "start_time": "2022-10-08T19:59:04.468Z"
   },
   {
    "duration": 4,
    "start_time": "2022-10-08T19:59:46.629Z"
   },
   {
    "duration": 3,
    "start_time": "2022-10-08T19:59:50.911Z"
   },
   {
    "duration": 5,
    "start_time": "2022-10-08T19:59:58.451Z"
   },
   {
    "duration": 7,
    "start_time": "2022-10-08T20:01:23.043Z"
   },
   {
    "duration": 17,
    "start_time": "2022-10-08T20:06:55.340Z"
   },
   {
    "duration": 7,
    "start_time": "2022-10-08T20:08:16.475Z"
   },
   {
    "duration": 7,
    "start_time": "2022-10-08T20:09:15.534Z"
   },
   {
    "duration": 13,
    "start_time": "2022-10-08T20:09:40.253Z"
   },
   {
    "duration": 7,
    "start_time": "2022-10-08T20:10:34.332Z"
   },
   {
    "duration": 7,
    "start_time": "2022-10-08T20:12:32.527Z"
   },
   {
    "duration": 7,
    "start_time": "2022-10-08T20:13:35.948Z"
   },
   {
    "duration": 7,
    "start_time": "2022-10-08T20:13:51.592Z"
   },
   {
    "duration": 12,
    "start_time": "2022-10-08T20:17:34.382Z"
   },
   {
    "duration": 7,
    "start_time": "2022-10-08T20:27:15.497Z"
   },
   {
    "duration": 5,
    "start_time": "2022-10-08T20:27:25.042Z"
   },
   {
    "duration": 7,
    "start_time": "2022-10-08T20:29:58.819Z"
   },
   {
    "duration": 10,
    "start_time": "2022-10-08T20:31:18.755Z"
   },
   {
    "duration": 11,
    "start_time": "2022-10-08T20:32:04.099Z"
   },
   {
    "duration": 9,
    "start_time": "2022-10-08T20:32:29.822Z"
   },
   {
    "duration": 9,
    "start_time": "2022-10-08T20:33:13.109Z"
   },
   {
    "duration": 15,
    "start_time": "2022-10-08T20:33:28.073Z"
   },
   {
    "duration": 22,
    "start_time": "2022-10-08T20:33:48.523Z"
   },
   {
    "duration": 6,
    "start_time": "2022-10-08T20:34:01.675Z"
   },
   {
    "duration": 6,
    "start_time": "2022-10-08T20:34:13.609Z"
   },
   {
    "duration": 8,
    "start_time": "2022-10-08T20:34:25.269Z"
   },
   {
    "duration": 6,
    "start_time": "2022-10-08T20:36:03.729Z"
   },
   {
    "duration": 6,
    "start_time": "2022-10-08T20:36:47.351Z"
   },
   {
    "duration": 6,
    "start_time": "2022-10-08T20:37:12.977Z"
   },
   {
    "duration": 6,
    "start_time": "2022-10-08T20:38:32.740Z"
   },
   {
    "duration": 4,
    "start_time": "2022-10-08T20:38:44.327Z"
   },
   {
    "duration": 3,
    "start_time": "2022-10-08T20:39:04.121Z"
   },
   {
    "duration": 6,
    "start_time": "2022-10-08T20:39:07.552Z"
   },
   {
    "duration": 7,
    "start_time": "2022-10-08T20:39:31.784Z"
   },
   {
    "duration": 3,
    "start_time": "2022-10-08T20:39:36.590Z"
   },
   {
    "duration": 3,
    "start_time": "2022-10-08T20:39:37.269Z"
   },
   {
    "duration": 15,
    "start_time": "2022-10-08T20:39:49.297Z"
   },
   {
    "duration": 7,
    "start_time": "2022-10-08T20:41:14.334Z"
   },
   {
    "duration": 4,
    "start_time": "2022-10-08T20:41:17.827Z"
   },
   {
    "duration": 5,
    "start_time": "2022-10-08T20:41:26.229Z"
   },
   {
    "duration": 1057,
    "start_time": "2022-10-08T20:51:41.830Z"
   },
   {
    "duration": 52,
    "start_time": "2022-10-08T20:51:42.889Z"
   },
   {
    "duration": 19,
    "start_time": "2022-10-08T20:51:42.943Z"
   },
   {
    "duration": 3,
    "start_time": "2022-10-08T20:51:42.963Z"
   },
   {
    "duration": 8,
    "start_time": "2022-10-08T20:51:42.968Z"
   },
   {
    "duration": 17,
    "start_time": "2022-10-08T20:51:42.977Z"
   },
   {
    "duration": 8,
    "start_time": "2022-10-08T20:51:42.996Z"
   },
   {
    "duration": 13,
    "start_time": "2022-10-08T20:51:43.006Z"
   },
   {
    "duration": 4,
    "start_time": "2022-10-08T20:51:43.021Z"
   },
   {
    "duration": 22,
    "start_time": "2022-10-08T20:51:43.027Z"
   },
   {
    "duration": 33,
    "start_time": "2022-10-08T20:51:43.050Z"
   },
   {
    "duration": 6,
    "start_time": "2022-10-08T20:51:43.085Z"
   },
   {
    "duration": 5,
    "start_time": "2022-10-08T20:51:43.093Z"
   },
   {
    "duration": 12,
    "start_time": "2022-10-08T20:51:43.100Z"
   },
   {
    "duration": 8,
    "start_time": "2022-10-08T20:51:43.114Z"
   },
   {
    "duration": 8,
    "start_time": "2022-10-08T20:51:43.648Z"
   },
   {
    "duration": 6,
    "start_time": "2022-10-08T20:51:43.658Z"
   },
   {
    "duration": 19,
    "start_time": "2022-10-08T20:51:43.665Z"
   },
   {
    "duration": 22,
    "start_time": "2022-10-08T20:51:43.954Z"
   },
   {
    "duration": 18,
    "start_time": "2022-10-08T20:51:43.978Z"
   },
   {
    "duration": 19,
    "start_time": "2022-10-08T20:51:43.997Z"
   },
   {
    "duration": 13,
    "start_time": "2022-10-08T20:51:44.017Z"
   },
   {
    "duration": 17,
    "start_time": "2022-10-08T20:51:44.518Z"
   },
   {
    "duration": 455,
    "start_time": "2022-10-08T20:51:44.537Z"
   },
   {
    "duration": 519,
    "start_time": "2022-10-08T20:51:44.994Z"
   },
   {
    "duration": 24,
    "start_time": "2022-10-08T20:51:45.515Z"
   },
   {
    "duration": 282,
    "start_time": "2022-10-08T20:51:45.542Z"
   },
   {
    "duration": 11,
    "start_time": "2022-10-08T20:51:45.826Z"
   },
   {
    "duration": 206,
    "start_time": "2022-10-08T20:51:45.838Z"
   },
   {
    "duration": 181,
    "start_time": "2022-10-08T20:51:46.046Z"
   },
   {
    "duration": 19,
    "start_time": "2022-10-08T20:51:46.229Z"
   },
   {
    "duration": 644,
    "start_time": "2022-10-08T20:51:46.250Z"
   },
   {
    "duration": 0,
    "start_time": "2022-10-08T20:51:46.896Z"
   },
   {
    "duration": 0,
    "start_time": "2022-10-08T20:51:46.897Z"
   },
   {
    "duration": 0,
    "start_time": "2022-10-08T20:51:46.898Z"
   },
   {
    "duration": 0,
    "start_time": "2022-10-08T20:51:46.899Z"
   },
   {
    "duration": 0,
    "start_time": "2022-10-08T20:51:46.900Z"
   },
   {
    "duration": 0,
    "start_time": "2022-10-08T20:51:46.901Z"
   },
   {
    "duration": 0,
    "start_time": "2022-10-08T20:51:46.902Z"
   },
   {
    "duration": 0,
    "start_time": "2022-10-08T20:51:46.903Z"
   },
   {
    "duration": 0,
    "start_time": "2022-10-08T20:51:46.904Z"
   },
   {
    "duration": 0,
    "start_time": "2022-10-08T20:51:46.905Z"
   },
   {
    "duration": 0,
    "start_time": "2022-10-08T20:51:46.906Z"
   },
   {
    "duration": 0,
    "start_time": "2022-10-08T20:51:46.907Z"
   },
   {
    "duration": 0,
    "start_time": "2022-10-08T20:51:46.908Z"
   },
   {
    "duration": 0,
    "start_time": "2022-10-08T20:51:46.909Z"
   },
   {
    "duration": 0,
    "start_time": "2022-10-08T20:51:46.910Z"
   },
   {
    "duration": 0,
    "start_time": "2022-10-08T20:51:46.911Z"
   },
   {
    "duration": 0,
    "start_time": "2022-10-08T20:51:46.912Z"
   },
   {
    "duration": 0,
    "start_time": "2022-10-08T20:51:46.914Z"
   },
   {
    "duration": 0,
    "start_time": "2022-10-08T20:51:46.916Z"
   },
   {
    "duration": 0,
    "start_time": "2022-10-08T20:51:46.917Z"
   },
   {
    "duration": 0,
    "start_time": "2022-10-08T20:51:46.918Z"
   },
   {
    "duration": 0,
    "start_time": "2022-10-08T20:51:46.920Z"
   },
   {
    "duration": 0,
    "start_time": "2022-10-08T20:51:46.921Z"
   },
   {
    "duration": 478,
    "start_time": "2022-10-08T20:52:12.406Z"
   },
   {
    "duration": 14,
    "start_time": "2022-10-08T20:52:48.065Z"
   },
   {
    "duration": 508,
    "start_time": "2022-10-08T20:53:16.778Z"
   },
   {
    "duration": 14,
    "start_time": "2022-10-08T20:53:33.842Z"
   },
   {
    "duration": 538,
    "start_time": "2022-10-08T20:53:41.516Z"
   },
   {
    "duration": 13,
    "start_time": "2022-10-08T20:54:27.477Z"
   },
   {
    "duration": 466,
    "start_time": "2022-10-08T20:54:33.586Z"
   },
   {
    "duration": 511,
    "start_time": "2022-10-08T20:55:54.911Z"
   },
   {
    "duration": 594,
    "start_time": "2022-10-08T20:55:59.843Z"
   },
   {
    "duration": 462,
    "start_time": "2022-10-08T20:56:35.429Z"
   },
   {
    "duration": 460,
    "start_time": "2022-10-08T20:56:43.197Z"
   },
   {
    "duration": 488,
    "start_time": "2022-10-08T20:56:58.357Z"
   },
   {
    "duration": 450,
    "start_time": "2022-10-08T20:57:57.872Z"
   },
   {
    "duration": 569,
    "start_time": "2022-10-08T20:58:05.345Z"
   },
   {
    "duration": 502,
    "start_time": "2022-10-08T20:58:18.131Z"
   },
   {
    "duration": 502,
    "start_time": "2022-10-08T20:59:16.910Z"
   },
   {
    "duration": 478,
    "start_time": "2022-10-08T20:59:47.872Z"
   },
   {
    "duration": 464,
    "start_time": "2022-10-08T21:00:58.769Z"
   },
   {
    "duration": 385,
    "start_time": "2022-10-08T21:05:15.282Z"
   },
   {
    "duration": 242,
    "start_time": "2022-10-08T21:05:15.669Z"
   },
   {
    "duration": 482,
    "start_time": "2022-10-08T21:05:36.382Z"
   },
   {
    "duration": 463,
    "start_time": "2022-10-08T21:06:01.727Z"
   },
   {
    "duration": 515,
    "start_time": "2022-10-08T21:06:21.726Z"
   },
   {
    "duration": 480,
    "start_time": "2022-10-08T21:06:30.536Z"
   },
   {
    "duration": 574,
    "start_time": "2022-10-08T21:07:15.921Z"
   },
   {
    "duration": 496,
    "start_time": "2022-10-08T21:07:23.761Z"
   },
   {
    "duration": 453,
    "start_time": "2022-10-08T21:08:30.849Z"
   },
   {
    "duration": 13,
    "start_time": "2022-10-08T21:09:24.315Z"
   },
   {
    "duration": 153,
    "start_time": "2022-10-08T21:09:48.519Z"
   },
   {
    "duration": 42,
    "start_time": "2022-10-08T21:09:54.169Z"
   },
   {
    "duration": 12,
    "start_time": "2022-10-08T21:09:54.213Z"
   },
   {
    "duration": 543,
    "start_time": "2022-10-08T21:10:19.678Z"
   },
   {
    "duration": 394,
    "start_time": "2022-10-08T21:11:38.237Z"
   },
   {
    "duration": 514,
    "start_time": "2022-10-08T21:12:50.085Z"
   },
   {
    "duration": 407,
    "start_time": "2022-10-08T21:13:04.486Z"
   },
   {
    "duration": 386,
    "start_time": "2022-10-08T21:14:21.921Z"
   },
   {
    "duration": 1101,
    "start_time": "2022-10-08T21:14:48.764Z"
   },
   {
    "duration": 51,
    "start_time": "2022-10-08T21:14:49.867Z"
   },
   {
    "duration": 20,
    "start_time": "2022-10-08T21:14:49.920Z"
   },
   {
    "duration": 3,
    "start_time": "2022-10-08T21:14:49.942Z"
   },
   {
    "duration": 5,
    "start_time": "2022-10-08T21:14:49.948Z"
   },
   {
    "duration": 22,
    "start_time": "2022-10-08T21:14:49.955Z"
   },
   {
    "duration": 8,
    "start_time": "2022-10-08T21:14:49.979Z"
   },
   {
    "duration": 13,
    "start_time": "2022-10-08T21:14:49.988Z"
   },
   {
    "duration": 4,
    "start_time": "2022-10-08T21:14:50.003Z"
   },
   {
    "duration": 36,
    "start_time": "2022-10-08T21:14:50.009Z"
   },
   {
    "duration": 8,
    "start_time": "2022-10-08T21:14:50.047Z"
   },
   {
    "duration": 8,
    "start_time": "2022-10-08T21:14:50.077Z"
   },
   {
    "duration": 22,
    "start_time": "2022-10-08T21:14:50.086Z"
   },
   {
    "duration": 12,
    "start_time": "2022-10-08T21:14:50.111Z"
   },
   {
    "duration": 9,
    "start_time": "2022-10-08T21:14:50.125Z"
   },
   {
    "duration": 8,
    "start_time": "2022-10-08T21:14:50.136Z"
   },
   {
    "duration": 16,
    "start_time": "2022-10-08T21:14:50.146Z"
   },
   {
    "duration": 30,
    "start_time": "2022-10-08T21:14:50.163Z"
   },
   {
    "duration": 21,
    "start_time": "2022-10-08T21:14:50.196Z"
   },
   {
    "duration": 18,
    "start_time": "2022-10-08T21:14:50.219Z"
   },
   {
    "duration": 41,
    "start_time": "2022-10-08T21:14:50.239Z"
   },
   {
    "duration": 13,
    "start_time": "2022-10-08T21:14:50.282Z"
   },
   {
    "duration": 19,
    "start_time": "2022-10-08T21:14:50.297Z"
   },
   {
    "duration": 486,
    "start_time": "2022-10-08T21:14:50.318Z"
   },
   {
    "duration": 473,
    "start_time": "2022-10-08T21:14:50.806Z"
   },
   {
    "duration": 23,
    "start_time": "2022-10-08T21:14:51.281Z"
   },
   {
    "duration": 273,
    "start_time": "2022-10-08T21:14:51.305Z"
   },
   {
    "duration": 11,
    "start_time": "2022-10-08T21:14:51.579Z"
   },
   {
    "duration": 207,
    "start_time": "2022-10-08T21:14:51.592Z"
   },
   {
    "duration": 198,
    "start_time": "2022-10-08T21:14:51.800Z"
   },
   {
    "duration": 18,
    "start_time": "2022-10-08T21:14:51.999Z"
   },
   {
    "duration": 419,
    "start_time": "2022-10-08T21:14:52.019Z"
   },
   {
    "duration": 155,
    "start_time": "2022-10-08T21:14:52.439Z"
   },
   {
    "duration": 42,
    "start_time": "2022-10-08T21:14:52.596Z"
   },
   {
    "duration": 12,
    "start_time": "2022-10-08T21:14:52.639Z"
   },
   {
    "duration": 12,
    "start_time": "2022-10-08T21:14:52.677Z"
   },
   {
    "duration": 260,
    "start_time": "2022-10-08T21:14:52.691Z"
   },
   {
    "duration": 34,
    "start_time": "2022-10-08T21:14:52.953Z"
   },
   {
    "duration": 26,
    "start_time": "2022-10-08T21:14:52.988Z"
   },
   {
    "duration": 354,
    "start_time": "2022-10-08T21:14:53.016Z"
   },
   {
    "duration": 367,
    "start_time": "2022-10-08T21:14:53.376Z"
   },
   {
    "duration": 349,
    "start_time": "2022-10-08T21:14:53.745Z"
   },
   {
    "duration": 386,
    "start_time": "2022-10-08T21:14:54.097Z"
   },
   {
    "duration": 420,
    "start_time": "2022-10-08T21:14:54.484Z"
   },
   {
    "duration": 410,
    "start_time": "2022-10-08T21:14:54.906Z"
   },
   {
    "duration": 117,
    "start_time": "2022-10-08T21:14:55.318Z"
   },
   {
    "duration": 211,
    "start_time": "2022-10-08T21:14:55.436Z"
   },
   {
    "duration": 4,
    "start_time": "2022-10-08T21:14:55.649Z"
   },
   {
    "duration": 14,
    "start_time": "2022-10-08T21:14:55.655Z"
   },
   {
    "duration": 6,
    "start_time": "2022-10-08T21:14:55.677Z"
   },
   {
    "duration": 7,
    "start_time": "2022-10-08T21:14:55.684Z"
   },
   {
    "duration": 6,
    "start_time": "2022-10-08T21:14:55.692Z"
   },
   {
    "duration": 4,
    "start_time": "2022-10-08T21:14:55.699Z"
   },
   {
    "duration": 5,
    "start_time": "2022-10-08T21:14:55.704Z"
   },
   {
    "duration": 5,
    "start_time": "2022-10-08T21:14:55.710Z"
   },
   {
    "duration": 370,
    "start_time": "2022-10-08T21:15:42.284Z"
   },
   {
    "duration": 359,
    "start_time": "2022-10-08T21:15:50.501Z"
   },
   {
    "duration": 350,
    "start_time": "2022-10-08T21:15:57.934Z"
   },
   {
    "duration": 375,
    "start_time": "2022-10-08T21:16:04.423Z"
   },
   {
    "duration": 384,
    "start_time": "2022-10-08T21:16:09.787Z"
   },
   {
    "duration": 408,
    "start_time": "2022-10-08T21:16:16.264Z"
   },
   {
    "duration": 6,
    "start_time": "2022-10-08T21:35:16.299Z"
   },
   {
    "duration": 5,
    "start_time": "2022-10-08T21:35:38.935Z"
   },
   {
    "duration": 5,
    "start_time": "2022-10-08T21:36:17.743Z"
   },
   {
    "duration": 5,
    "start_time": "2022-10-08T21:38:55.778Z"
   },
   {
    "duration": 3,
    "start_time": "2022-10-08T21:41:59.822Z"
   },
   {
    "duration": 1274,
    "start_time": "2022-10-09T09:09:49.841Z"
   },
   {
    "duration": 93,
    "start_time": "2022-10-09T09:09:51.117Z"
   },
   {
    "duration": 19,
    "start_time": "2022-10-09T09:09:51.212Z"
   },
   {
    "duration": 3,
    "start_time": "2022-10-09T09:09:51.232Z"
   },
   {
    "duration": 6,
    "start_time": "2022-10-09T09:09:51.236Z"
   },
   {
    "duration": 19,
    "start_time": "2022-10-09T09:09:51.244Z"
   },
   {
    "duration": 22,
    "start_time": "2022-10-09T09:09:51.264Z"
   },
   {
    "duration": 25,
    "start_time": "2022-10-09T09:09:51.287Z"
   },
   {
    "duration": 13,
    "start_time": "2022-10-09T09:09:51.313Z"
   },
   {
    "duration": 47,
    "start_time": "2022-10-09T09:09:51.327Z"
   },
   {
    "duration": 7,
    "start_time": "2022-10-09T09:09:51.376Z"
   },
   {
    "duration": 30,
    "start_time": "2022-10-09T09:09:51.385Z"
   },
   {
    "duration": 24,
    "start_time": "2022-10-09T09:09:51.417Z"
   },
   {
    "duration": 22,
    "start_time": "2022-10-09T09:09:51.444Z"
   },
   {
    "duration": 19,
    "start_time": "2022-10-09T09:09:51.467Z"
   },
   {
    "duration": 20,
    "start_time": "2022-10-09T09:09:51.487Z"
   },
   {
    "duration": 20,
    "start_time": "2022-10-09T09:09:51.508Z"
   },
   {
    "duration": 30,
    "start_time": "2022-10-09T09:09:51.530Z"
   },
   {
    "duration": 39,
    "start_time": "2022-10-09T09:09:51.561Z"
   },
   {
    "duration": 18,
    "start_time": "2022-10-09T09:09:51.602Z"
   },
   {
    "duration": 29,
    "start_time": "2022-10-09T09:09:51.622Z"
   },
   {
    "duration": 14,
    "start_time": "2022-10-09T09:09:51.653Z"
   },
   {
    "duration": 17,
    "start_time": "2022-10-09T09:09:51.668Z"
   },
   {
    "duration": 459,
    "start_time": "2022-10-09T09:09:51.686Z"
   },
   {
    "duration": 520,
    "start_time": "2022-10-09T09:09:52.146Z"
   },
   {
    "duration": 22,
    "start_time": "2022-10-09T09:09:52.667Z"
   },
   {
    "duration": 271,
    "start_time": "2022-10-09T09:09:52.690Z"
   },
   {
    "duration": 10,
    "start_time": "2022-10-09T09:09:52.963Z"
   },
   {
    "duration": 222,
    "start_time": "2022-10-09T09:09:52.974Z"
   },
   {
    "duration": 195,
    "start_time": "2022-10-09T09:09:53.198Z"
   },
   {
    "duration": 23,
    "start_time": "2022-10-09T09:09:53.395Z"
   },
   {
    "duration": 388,
    "start_time": "2022-10-09T09:09:53.419Z"
   },
   {
    "duration": 154,
    "start_time": "2022-10-09T09:09:53.809Z"
   },
   {
    "duration": 48,
    "start_time": "2022-10-09T09:09:53.964Z"
   },
   {
    "duration": 12,
    "start_time": "2022-10-09T09:09:54.014Z"
   },
   {
    "duration": 58,
    "start_time": "2022-10-09T09:09:54.027Z"
   },
   {
    "duration": 299,
    "start_time": "2022-10-09T09:09:54.087Z"
   },
   {
    "duration": 34,
    "start_time": "2022-10-09T09:09:54.388Z"
   },
   {
    "duration": 39,
    "start_time": "2022-10-09T09:09:54.424Z"
   },
   {
    "duration": 360,
    "start_time": "2022-10-09T09:09:54.464Z"
   },
   {
    "duration": 354,
    "start_time": "2022-10-09T09:09:54.828Z"
   },
   {
    "duration": 344,
    "start_time": "2022-10-09T09:09:55.184Z"
   },
   {
    "duration": 383,
    "start_time": "2022-10-09T09:09:55.530Z"
   },
   {
    "duration": 399,
    "start_time": "2022-10-09T09:09:55.915Z"
   },
   {
    "duration": 393,
    "start_time": "2022-10-09T09:09:56.316Z"
   },
   {
    "duration": 119,
    "start_time": "2022-10-09T09:09:56.710Z"
   },
   {
    "duration": 197,
    "start_time": "2022-10-09T09:09:56.831Z"
   },
   {
    "duration": 6,
    "start_time": "2022-10-09T09:09:57.030Z"
   },
   {
    "duration": 26,
    "start_time": "2022-10-09T09:09:57.037Z"
   },
   {
    "duration": 40,
    "start_time": "2022-10-09T09:09:57.064Z"
   },
   {
    "duration": 19,
    "start_time": "2022-10-09T09:09:57.106Z"
   },
   {
    "duration": 1383,
    "start_time": "2022-10-09T14:10:52.423Z"
   },
   {
    "duration": 101,
    "start_time": "2022-10-09T14:10:53.808Z"
   },
   {
    "duration": 20,
    "start_time": "2022-10-09T14:10:53.911Z"
   },
   {
    "duration": 2,
    "start_time": "2022-10-09T14:10:53.934Z"
   },
   {
    "duration": 9,
    "start_time": "2022-10-09T14:10:53.938Z"
   },
   {
    "duration": 19,
    "start_time": "2022-10-09T14:10:53.949Z"
   },
   {
    "duration": 18,
    "start_time": "2022-10-09T14:10:53.970Z"
   },
   {
    "duration": 20,
    "start_time": "2022-10-09T14:10:53.990Z"
   },
   {
    "duration": 7,
    "start_time": "2022-10-09T14:10:54.012Z"
   },
   {
    "duration": 25,
    "start_time": "2022-10-09T14:10:54.023Z"
   },
   {
    "duration": 8,
    "start_time": "2022-10-09T14:10:54.050Z"
   },
   {
    "duration": 16,
    "start_time": "2022-10-09T14:10:54.076Z"
   },
   {
    "duration": 6,
    "start_time": "2022-10-09T14:10:54.094Z"
   },
   {
    "duration": 18,
    "start_time": "2022-10-09T14:10:54.102Z"
   },
   {
    "duration": 10,
    "start_time": "2022-10-09T14:10:54.122Z"
   },
   {
    "duration": 8,
    "start_time": "2022-10-09T14:10:54.133Z"
   },
   {
    "duration": 3,
    "start_time": "2022-10-09T14:10:54.142Z"
   },
   {
    "duration": 44,
    "start_time": "2022-10-09T14:10:54.147Z"
   },
   {
    "duration": 28,
    "start_time": "2022-10-09T14:10:54.193Z"
   },
   {
    "duration": 19,
    "start_time": "2022-10-09T14:10:54.222Z"
   },
   {
    "duration": 45,
    "start_time": "2022-10-09T14:10:54.243Z"
   },
   {
    "duration": 14,
    "start_time": "2022-10-09T14:10:54.290Z"
   },
   {
    "duration": 18,
    "start_time": "2022-10-09T14:10:54.306Z"
   },
   {
    "duration": 559,
    "start_time": "2022-10-09T14:10:54.325Z"
   },
   {
    "duration": 603,
    "start_time": "2022-10-09T14:10:54.887Z"
   },
   {
    "duration": 28,
    "start_time": "2022-10-09T14:10:55.497Z"
   },
   {
    "duration": 360,
    "start_time": "2022-10-09T14:10:55.528Z"
   },
   {
    "duration": 12,
    "start_time": "2022-10-09T14:10:55.892Z"
   },
   {
    "duration": 211,
    "start_time": "2022-10-09T14:10:55.906Z"
   },
   {
    "duration": 222,
    "start_time": "2022-10-09T14:10:56.119Z"
   },
   {
    "duration": 20,
    "start_time": "2022-10-09T14:10:56.342Z"
   },
   {
    "duration": 466,
    "start_time": "2022-10-09T14:10:56.363Z"
   },
   {
    "duration": 192,
    "start_time": "2022-10-09T14:10:56.831Z"
   },
   {
    "duration": 73,
    "start_time": "2022-10-09T14:10:57.025Z"
   },
   {
    "duration": 15,
    "start_time": "2022-10-09T14:10:57.100Z"
   },
   {
    "duration": 14,
    "start_time": "2022-10-09T14:10:57.117Z"
   },
   {
    "duration": 303,
    "start_time": "2022-10-09T14:10:57.132Z"
   },
   {
    "duration": 46,
    "start_time": "2022-10-09T14:10:57.437Z"
   },
   {
    "duration": 31,
    "start_time": "2022-10-09T14:10:57.485Z"
   },
   {
    "duration": 434,
    "start_time": "2022-10-09T14:10:57.518Z"
   },
   {
    "duration": 389,
    "start_time": "2022-10-09T14:10:57.954Z"
   },
   {
    "duration": 397,
    "start_time": "2022-10-09T14:10:58.345Z"
   },
   {
    "duration": 445,
    "start_time": "2022-10-09T14:10:58.744Z"
   },
   {
    "duration": 449,
    "start_time": "2022-10-09T14:10:59.191Z"
   },
   {
    "duration": 450,
    "start_time": "2022-10-09T14:10:59.642Z"
   },
   {
    "duration": 229,
    "start_time": "2022-10-09T14:11:00.094Z"
   },
   {
    "duration": 132,
    "start_time": "2022-10-09T14:11:00.325Z"
   },
   {
    "duration": 152,
    "start_time": "2022-10-09T14:11:00.460Z"
   },
   {
    "duration": 6,
    "start_time": "2022-10-09T14:11:00.614Z"
   },
   {
    "duration": 23,
    "start_time": "2022-10-09T14:11:00.622Z"
   },
   {
    "duration": 13,
    "start_time": "2022-10-09T14:11:00.647Z"
   },
   {
    "duration": 31,
    "start_time": "2022-10-09T14:11:00.662Z"
   },
   {
    "duration": 361,
    "start_time": "2022-10-09T14:11:38.673Z"
   },
   {
    "duration": 548,
    "start_time": "2022-10-09T14:11:55.600Z"
   },
   {
    "duration": 310,
    "start_time": "2022-10-09T14:14:01.277Z"
   },
   {
    "duration": 337,
    "start_time": "2022-10-09T14:14:17.213Z"
   },
   {
    "duration": 64,
    "start_time": "2022-10-09T14:37:27.770Z"
   },
   {
    "duration": 48,
    "start_time": "2022-10-09T14:37:52.922Z"
   },
   {
    "duration": 11,
    "start_time": "2022-10-09T14:42:51.787Z"
   },
   {
    "duration": 15,
    "start_time": "2022-10-09T14:43:13.503Z"
   },
   {
    "duration": 11,
    "start_time": "2022-10-09T14:43:32.351Z"
   },
   {
    "duration": 12,
    "start_time": "2022-10-09T14:43:48.146Z"
   },
   {
    "duration": 5,
    "start_time": "2022-10-09T14:57:17.932Z"
   },
   {
    "duration": 5,
    "start_time": "2022-10-09T15:46:26.390Z"
   },
   {
    "duration": 5,
    "start_time": "2022-10-09T15:46:37.238Z"
   },
   {
    "duration": 1126,
    "start_time": "2022-10-09T23:28:20.097Z"
   },
   {
    "duration": 91,
    "start_time": "2022-10-09T23:28:21.225Z"
   },
   {
    "duration": 19,
    "start_time": "2022-10-09T23:28:21.318Z"
   },
   {
    "duration": 3,
    "start_time": "2022-10-09T23:28:21.338Z"
   },
   {
    "duration": 6,
    "start_time": "2022-10-09T23:28:21.343Z"
   },
   {
    "duration": 25,
    "start_time": "2022-10-09T23:28:21.351Z"
   },
   {
    "duration": 10,
    "start_time": "2022-10-09T23:28:21.378Z"
   },
   {
    "duration": 16,
    "start_time": "2022-10-09T23:28:21.389Z"
   },
   {
    "duration": 5,
    "start_time": "2022-10-09T23:28:21.406Z"
   },
   {
    "duration": 40,
    "start_time": "2022-10-09T23:28:21.413Z"
   },
   {
    "duration": 7,
    "start_time": "2022-10-09T23:28:21.454Z"
   },
   {
    "duration": 10,
    "start_time": "2022-10-09T23:28:21.463Z"
   },
   {
    "duration": 7,
    "start_time": "2022-10-09T23:28:21.475Z"
   },
   {
    "duration": 14,
    "start_time": "2022-10-09T23:28:21.485Z"
   },
   {
    "duration": 34,
    "start_time": "2022-10-09T23:28:21.501Z"
   },
   {
    "duration": 8,
    "start_time": "2022-10-09T23:28:21.537Z"
   },
   {
    "duration": 6,
    "start_time": "2022-10-09T23:28:21.547Z"
   },
   {
    "duration": 20,
    "start_time": "2022-10-09T23:28:21.554Z"
   },
   {
    "duration": 28,
    "start_time": "2022-10-09T23:28:21.576Z"
   },
   {
    "duration": 47,
    "start_time": "2022-10-09T23:28:21.606Z"
   },
   {
    "duration": 21,
    "start_time": "2022-10-09T23:28:21.654Z"
   },
   {
    "duration": 13,
    "start_time": "2022-10-09T23:28:21.676Z"
   },
   {
    "duration": 48,
    "start_time": "2022-10-09T23:28:21.690Z"
   },
   {
    "duration": 451,
    "start_time": "2022-10-09T23:28:21.740Z"
   },
   {
    "duration": 495,
    "start_time": "2022-10-09T23:28:22.193Z"
   },
   {
    "duration": 23,
    "start_time": "2022-10-09T23:28:22.689Z"
   },
   {
    "duration": 315,
    "start_time": "2022-10-09T23:28:22.714Z"
   },
   {
    "duration": 12,
    "start_time": "2022-10-09T23:28:23.031Z"
   },
   {
    "duration": 194,
    "start_time": "2022-10-09T23:28:23.045Z"
   },
   {
    "duration": 186,
    "start_time": "2022-10-09T23:28:23.241Z"
   },
   {
    "duration": 20,
    "start_time": "2022-10-09T23:28:23.429Z"
   },
   {
    "duration": 403,
    "start_time": "2022-10-09T23:28:23.451Z"
   },
   {
    "duration": 10,
    "start_time": "2022-10-09T23:28:23.856Z"
   },
   {
    "duration": 148,
    "start_time": "2022-10-09T23:28:23.867Z"
   },
   {
    "duration": 55,
    "start_time": "2022-10-09T23:28:24.017Z"
   },
   {
    "duration": 12,
    "start_time": "2022-10-09T23:28:24.074Z"
   },
   {
    "duration": 13,
    "start_time": "2022-10-09T23:28:24.087Z"
   },
   {
    "duration": 261,
    "start_time": "2022-10-09T23:28:24.102Z"
   },
   {
    "duration": 25,
    "start_time": "2022-10-09T23:28:24.365Z"
   },
   {
    "duration": 50,
    "start_time": "2022-10-09T23:28:24.392Z"
   },
   {
    "duration": 352,
    "start_time": "2022-10-09T23:28:24.446Z"
   },
   {
    "duration": 359,
    "start_time": "2022-10-09T23:28:24.800Z"
   },
   {
    "duration": 352,
    "start_time": "2022-10-09T23:28:25.161Z"
   },
   {
    "duration": 375,
    "start_time": "2022-10-09T23:28:25.515Z"
   },
   {
    "duration": 411,
    "start_time": "2022-10-09T23:28:25.892Z"
   },
   {
    "duration": 421,
    "start_time": "2022-10-09T23:28:26.306Z"
   },
   {
    "duration": 118,
    "start_time": "2022-10-09T23:28:26.733Z"
   },
   {
    "duration": 199,
    "start_time": "2022-10-09T23:28:26.853Z"
   },
   {
    "duration": 117,
    "start_time": "2022-10-09T23:28:27.054Z"
   },
   {
    "duration": 5,
    "start_time": "2022-10-09T23:28:27.173Z"
   },
   {
    "duration": 7,
    "start_time": "2022-10-09T23:28:27.179Z"
   },
   {
    "duration": 8,
    "start_time": "2022-10-09T23:28:27.187Z"
   },
   {
    "duration": 6,
    "start_time": "2022-10-09T23:28:27.196Z"
   },
   {
    "duration": 51,
    "start_time": "2022-10-10T10:45:35.225Z"
   },
   {
    "duration": 1339,
    "start_time": "2022-10-10T10:45:45.573Z"
   },
   {
    "duration": 174,
    "start_time": "2022-10-10T10:45:48.888Z"
   },
   {
    "duration": 19,
    "start_time": "2022-10-10T10:45:49.465Z"
   },
   {
    "duration": 62,
    "start_time": "2022-10-10T10:46:13.395Z"
   },
   {
    "duration": 17,
    "start_time": "2022-10-10T10:46:20.325Z"
   },
   {
    "duration": 35,
    "start_time": "2022-10-10T10:47:22.418Z"
   },
   {
    "duration": 32,
    "start_time": "2022-10-10T10:47:29.805Z"
   },
   {
    "duration": 15,
    "start_time": "2022-10-10T10:47:41.853Z"
   },
   {
    "duration": 37,
    "start_time": "2022-10-10T10:48:02.815Z"
   },
   {
    "duration": 5,
    "start_time": "2022-10-10T10:48:19.165Z"
   },
   {
    "duration": 28,
    "start_time": "2022-10-10T10:48:29.247Z"
   },
   {
    "duration": 1214,
    "start_time": "2022-10-10T10:48:52.157Z"
   },
   {
    "duration": 50,
    "start_time": "2022-10-10T10:48:53.374Z"
   },
   {
    "duration": 20,
    "start_time": "2022-10-10T10:48:53.429Z"
   },
   {
    "duration": 2,
    "start_time": "2022-10-10T10:48:53.451Z"
   },
   {
    "duration": 8,
    "start_time": "2022-10-10T10:48:53.455Z"
   },
   {
    "duration": 41,
    "start_time": "2022-10-10T10:48:53.465Z"
   },
   {
    "duration": 14,
    "start_time": "2022-10-10T10:48:53.508Z"
   },
   {
    "duration": 20,
    "start_time": "2022-10-10T10:48:53.524Z"
   },
   {
    "duration": 6,
    "start_time": "2022-10-10T10:48:53.547Z"
   },
   {
    "duration": 50,
    "start_time": "2022-10-10T10:48:53.554Z"
   },
   {
    "duration": 7,
    "start_time": "2022-10-10T10:48:53.606Z"
   },
   {
    "duration": 14,
    "start_time": "2022-10-10T10:48:53.615Z"
   },
   {
    "duration": 6,
    "start_time": "2022-10-10T10:48:53.631Z"
   },
   {
    "duration": 16,
    "start_time": "2022-10-10T10:48:53.639Z"
   },
   {
    "duration": 9,
    "start_time": "2022-10-10T10:48:53.656Z"
   },
   {
    "duration": 33,
    "start_time": "2022-10-10T10:48:53.667Z"
   },
   {
    "duration": 4,
    "start_time": "2022-10-10T10:48:53.702Z"
   },
   {
    "duration": 23,
    "start_time": "2022-10-10T10:48:53.708Z"
   },
   {
    "duration": 26,
    "start_time": "2022-10-10T10:48:53.733Z"
   },
   {
    "duration": 40,
    "start_time": "2022-10-10T10:48:53.761Z"
   },
   {
    "duration": 21,
    "start_time": "2022-10-10T10:48:53.803Z"
   },
   {
    "duration": 13,
    "start_time": "2022-10-10T10:48:53.826Z"
   },
   {
    "duration": 18,
    "start_time": "2022-10-10T10:48:53.840Z"
   },
   {
    "duration": 541,
    "start_time": "2022-10-10T10:48:53.860Z"
   },
   {
    "duration": 566,
    "start_time": "2022-10-10T10:48:54.404Z"
   },
   {
    "duration": 34,
    "start_time": "2022-10-10T10:48:54.972Z"
   },
   {
    "duration": 380,
    "start_time": "2022-10-10T10:48:55.009Z"
   },
   {
    "duration": 15,
    "start_time": "2022-10-10T10:48:55.391Z"
   },
   {
    "duration": 207,
    "start_time": "2022-10-10T10:48:55.407Z"
   },
   {
    "duration": 199,
    "start_time": "2022-10-10T10:48:55.615Z"
   },
   {
    "duration": 20,
    "start_time": "2022-10-10T10:48:55.815Z"
   },
   {
    "duration": 450,
    "start_time": "2022-10-10T10:48:55.836Z"
   },
   {
    "duration": 12,
    "start_time": "2022-10-10T10:48:56.295Z"
   },
   {
    "duration": 167,
    "start_time": "2022-10-10T10:48:56.309Z"
   },
   {
    "duration": 56,
    "start_time": "2022-10-10T10:48:56.478Z"
   },
   {
    "duration": 17,
    "start_time": "2022-10-10T10:48:56.536Z"
   },
   {
    "duration": 40,
    "start_time": "2022-10-10T10:48:56.555Z"
   },
   {
    "duration": 319,
    "start_time": "2022-10-10T10:48:56.598Z"
   },
   {
    "duration": 36,
    "start_time": "2022-10-10T10:48:56.919Z"
   },
   {
    "duration": 48,
    "start_time": "2022-10-10T10:48:56.957Z"
   },
   {
    "duration": 364,
    "start_time": "2022-10-10T10:48:57.006Z"
   },
   {
    "duration": 370,
    "start_time": "2022-10-10T10:48:57.372Z"
   },
   {
    "duration": 381,
    "start_time": "2022-10-10T10:48:57.744Z"
   },
   {
    "duration": 409,
    "start_time": "2022-10-10T10:48:58.126Z"
   },
   {
    "duration": 412,
    "start_time": "2022-10-10T10:48:58.537Z"
   },
   {
    "duration": 407,
    "start_time": "2022-10-10T10:48:58.951Z"
   },
   {
    "duration": 121,
    "start_time": "2022-10-10T10:48:59.359Z"
   },
   {
    "duration": 223,
    "start_time": "2022-10-10T10:48:59.482Z"
   },
   {
    "duration": 132,
    "start_time": "2022-10-10T10:48:59.706Z"
   },
   {
    "duration": 5,
    "start_time": "2022-10-10T10:48:59.840Z"
   },
   {
    "duration": 13,
    "start_time": "2022-10-10T10:48:59.847Z"
   },
   {
    "duration": 10,
    "start_time": "2022-10-10T10:48:59.862Z"
   },
   {
    "duration": 9,
    "start_time": "2022-10-10T10:48:59.874Z"
   },
   {
    "duration": 242,
    "start_time": "2022-10-10T10:49:14.320Z"
   }
  ],
  "kernelspec": {
   "display_name": "Python 3 (ipykernel)",
   "language": "python",
   "name": "python3"
  },
  "language_info": {
   "codemirror_mode": {
    "name": "ipython",
    "version": 3
   },
   "file_extension": ".py",
   "mimetype": "text/x-python",
   "name": "python",
   "nbconvert_exporter": "python",
   "pygments_lexer": "ipython3",
   "version": "3.7.15"
  },
  "toc": {
   "base_numbering": "1",
   "nav_menu": {},
   "number_sections": true,
   "sideBar": true,
   "skip_h1_title": true,
   "title_cell": "Table of Contents",
   "title_sidebar": "Contents",
   "toc_cell": false,
   "toc_position": {
    "height": "calc(100% - 180px)",
    "left": "10px",
    "top": "150px",
    "width": "270.195px"
   },
   "toc_section_display": true,
   "toc_window_display": true
  }
 },
 "nbformat": 4,
 "nbformat_minor": 2
}
